{
 "cells": [
  {
   "cell_type": "markdown",
   "id": "658d61af",
   "metadata": {},
   "source": [
    "# Support Vector Machines-1: Theory, Visualization, and Implementation\n",
    "This notebook covers the mathematical foundation of linear SVMs, the kernel trick, support vectors, hyperplanes, margin concepts, and includes both scikit-learn and from-scratch implementations using the Iris dataset."
   ]
  },
  {
   "cell_type": "markdown",
   "id": "911e6389",
   "metadata": {},
   "source": [
    "## Q1. What is the mathematical formula for a linear SVM?"
   ]
  },
  {
   "cell_type": "markdown",
   "id": "4e863ae4",
   "metadata": {},
   "source": [
    "A linear SVM finds the hyperplane that best separates two classes:\n",
    "\n",
    "w·x + b = 0\n",
    "\n",
    "where w is the weight vector, x is the input vector, and b is the bias."
   ]
  },
  {
   "cell_type": "markdown",
   "id": "7e35b711",
   "metadata": {},
   "source": [
    "## Q2. What is the objective function of a linear SVM?"
   ]
  },
  {
   "cell_type": "markdown",
   "id": "ed520723",
   "metadata": {},
   "source": [
    "The objective is to maximize the margin while minimizing classification error:\n",
    "\n",
    "Minimize: (1/2)||w||² + C Σ ξᵢ\n",
    "Subject to: yᵢ(w·xᵢ + b) ≥ 1 - ξᵢ, ξᵢ ≥ 0\n",
    "\n",
    "where ξᵢ are slack variables and C is the regularization parameter."
   ]
  },
  {
   "cell_type": "markdown",
   "id": "c52138a9",
   "metadata": {},
   "source": [
    "## Q3. What is the kernel trick in SVM?"
   ]
  },
  {
   "cell_type": "markdown",
   "id": "d5277a35",
   "metadata": {},
   "source": [
    "The kernel trick allows SVMs to perform classification in higher-dimensional spaces without explicitly computing the coordinates. It uses a kernel function (e.g., RBF, polynomial) to compute the inner product in the transformed space, enabling non-linear decision boundaries."
   ]
  },
  {
   "cell_type": "markdown",
   "id": "aa757350",
   "metadata": {},
   "source": [
    "## Q4. What is the role of support vectors in SVM? Explain with example."
   ]
  },
  {
   "cell_type": "markdown",
   "id": "ad2856cf",
   "metadata": {},
   "source": [
    "Support vectors are the data points closest to the hyperplane. They define the margin and the position of the hyperplane. Only these points affect the model; removing non-support vectors does not change the decision boundary."
   ]
  },
  {
   "cell_type": "code",
   "execution_count": null,
   "id": "19c8808b",
   "metadata": {},
   "outputs": [],
   "source": [
    "# Example: Visualizing support vectors\n",
    "from sklearn import datasets\n",
    "from sklearn.svm import SVC\n",
    "import matplotlib.pyplot as plt\n",
    "import numpy as np\n",
    "\n",
    "iris = datasets.load_iris()\n",
    "X = iris.data[:, :2]\n",
    "y = (iris.target != 0) * 1\n",
    "svc = SVC(kernel='linear', C=1)\n",
    "svc.fit(X, y)\n",
    "plt.scatter(X[:, 0], X[:, 1], c=y, cmap='coolwarm', s=30)\n",
    "plt.scatter(svc.support_vectors_[:, 0], svc.support_vectors_[:, 1], s=100, facecolors='none', edgecolors='k', label='Support Vectors')\n",
    "plt.xlabel('Sepal length')\n",
    "plt.ylabel('Sepal width')\n",
    "plt.legend()\n",
    "plt.title('Support Vectors in SVM')\n",
    "plt.show()"
   ]
  },
  {
   "cell_type": "markdown",
   "id": "cc660ac7",
   "metadata": {},
   "source": [
    "## Q5. Illustrate with examples and graphs: Hyperplane, Marginal plane, Soft margin, and Hard margin in SVM"
   ]
  },
  {
   "cell_type": "code",
   "execution_count": null,
   "id": "a4b1a2b1",
   "metadata": {},
   "outputs": [],
   "source": [
    "# Visualizing SVM concepts\n",
    "from sklearn.datasets import make_blobs\n",
    "from sklearn.svm import SVC\n",
    "\n",
    "X, y = make_blobs(n_samples=50, centers=2, random_state=6)\n",
    "svc = SVC(kernel='linear', C=1e6)\n",
    "svc.fit(X, y)\n",
    "\n",
    "plt.scatter(X[:, 0], X[:, 1], c=y, cmap='coolwarm', s=30)\n",
    "ax = plt.gca()\n",
    "xlim = ax.get_xlim()\n",
    "ylim = ax.get_ylim()\n",
    "\n",
    "# Create grid to evaluate model\n",
    "gx = np.linspace(xlim[0], xlim[1], 30)\n",
    "gy = np.linspace(ylim[0], ylim[1], 30)\n",
    "xx, yy = np.meshgrid(gx, gy)\n",
    "xy = np.vstack([xx.ravel(), yy.ravel()]).T\n",
    "Z = svc.decision_function(xy).reshape(xx.shape)\n",
    "\n",
    "# Plot decision boundary and margins\n",
    "ax.contour(xx, yy, Z, colors='k', levels=[-1, 0, 1], alpha=0.5, linestyles=['--', '-', '--'])\n",
    "ax.scatter(svc.support_vectors_[:, 0], svc.support_vectors_[:, 1], s=100, linewidth=1, facecolors='none', edgecolors='k')\n",
    "plt.title('Hard Margin SVM')\n",
    "plt.show()\n",
    "\n",
    "# Soft margin\n",
    "svc_soft = SVC(kernel='linear', C=0.1)\n",
    "svc_soft.fit(X, y)\n",
    "plt.scatter(X[:, 0], X[:, 1], c=y, cmap='coolwarm', s=30)\n",
    "ax = plt.gca()\n",
    "Z = svc_soft.decision_function(xy).reshape(xx.shape)\n",
    "ax.contour(xx, yy, Z, colors='k', levels=[-1, 0, 1], alpha=0.5, linestyles=['--', '-', '--'])\n",
    "ax.scatter(svc_soft.support_vectors_[:, 0], svc_soft.support_vectors_[:, 1], s=100, linewidth=1, facecolors='none', edgecolors='k')\n",
    "plt.title('Soft Margin SVM')\n",
    "plt.show()"
   ]
  },
  {
   "cell_type": "markdown",
   "id": "abb3f944",
   "metadata": {},
   "source": [
    "## Q6. SVM Implementation through Iris dataset"
   ]
  },
  {
   "cell_type": "code",
   "execution_count": null,
   "id": "fa2c627a",
   "metadata": {},
   "outputs": [],
   "source": [
    "from sklearn.model_selection import train_test_split\n",
    "from sklearn.metrics import accuracy_score\n",
    "\n",
    "X = iris.data[:, :2]\n",
    "y = iris.target\n",
    "X_train, X_test, y_train, y_test = train_test_split(X, y, test_size=0.3, random_state=42)\n",
    "\n",
    "svc = SVC(kernel='linear', C=1)\n",
    "svc.fit(X_train, y_train)\n",
    "y_pred = svc.predict(X_test)\n",
    "print('Accuracy:', accuracy_score(y_test, y_pred))"
   ]
  },
  {
   "cell_type": "code",
   "execution_count": null,
   "id": "afacb40e",
   "metadata": {},
   "outputs": [],
   "source": [
    "# Plotting decision boundaries for two features\n",
    "def plot_decision_boundary(clf, X, y):\n",
    "    h = .02\n",
    "    x_min, x_max = X[:, 0].min() - 1, X[:, 0].max() + 1\n",
    "    y_min, y_max = X[:, 1].min() - 1, X[:, 1].max() + 1\n",
    "    xx, yy = np.meshgrid(np.arange(x_min, x_max, h), np.arange(y_min, y_max, h))\n",
    "    Z = clf.predict(np.c_[xx.ravel(), yy.ravel()])\n",
    "    Z = Z.reshape(xx.shape)\n",
    "    plt.contourf(xx, yy, Z, alpha=0.3, cmap='coolwarm')\n",
    "    plt.scatter(X[:, 0], X[:, 1], c=y, cmap='coolwarm', s=30)\n",
    "    plt.xlabel('Sepal length')\n",
    "    plt.ylabel('Sepal width')\n",
    "    plt.title('SVM Decision Boundary')\n",
    "    plt.show()\n",
    "\n",
    "plot_decision_boundary(svc, X_test, y_test)"
   ]
  },
  {
   "cell_type": "code",
   "execution_count": null,
   "id": "20e6d669",
   "metadata": {},
   "outputs": [],
   "source": [
    "# Trying different values of C\n",
    "for C in [0.01, 0.1, 1, 10, 100]:\n",
    "    svc = SVC(kernel='linear', C=C)\n",
    "    svc.fit(X_train, y_train)\n",
    "    y_pred = svc.predict(X_test)\n",
    "    acc = accuracy_score(y_test, y_pred)\n",
    "    print(f'C={C}: Accuracy={acc:.2f}')"
   ]
  },
  {
   "cell_type": "markdown",
   "id": "dfedca37",
   "metadata": {},
   "source": [
    "## Bonus: Implement a linear SVM classifier from scratch and compare with scikit-learn"
   ]
  },
  {
   "cell_type": "code",
   "execution_count": null,
   "id": "0adad4b8",
   "metadata": {},
   "outputs": [],
   "source": [
    "# Simple linear SVM from scratch (using subgradient descent, binary classification)\n",
    "class LinearSVM:\n",
    "    def __init__(self, lr=0.001, lambda_param=0.01, n_iters=1000):\n",
    "        self.lr = lr\n",
    "        self.lambda_param = lambda_param\n",
    "        self.n_iters = n_iters\n",
    "        self.w = None\n",
    "        self.b = None\n",
    "    def fit(self, X, y):\n",
    "        n_samples, n_features = X.shape\n",
    "        y_ = np.where(y <= 0, -1, 1)\n",
    "        self.w = np.zeros(n_features)\n",
    "        self.b = 0\n",
    "        for _ in range(self.n_iters):\n",
    "            for idx, x_i in enumerate(X):\n",
    "                condition = y_[idx] * (np.dot(x_i, self.w) + self.b) >= 1\n",
    "                if condition:\n",
    "                    self.w -= self.lr * (2 * self.lambda_param * self.w)\n",
    "                else:\n",
    "                    self.w -= self.lr * (2 * self.lambda_param * self.w - np.dot(x_i, y_[idx]))\n",
    "                    self.b -= self.lr * y_[idx]\n",
    "    def predict(self, X):\n",
    "        approx = np.dot(X, self.w) + self.b\n",
    "        return np.sign(approx)\n",
    "\n",
    "# Use only two classes for comparison\n",
    "X_bin = X[y < 2]\n",
    "y_bin = y[y < 2]\n",
    "X_train_bin, X_test_bin, y_train_bin, y_test_bin = train_test_split(X_bin, y_bin, test_size=0.3, random_state=42)\n",
    "\n",
    "svm_scratch = LinearSVM(lr=0.001, lambda_param=0.01, n_iters=1000)\n",
    "svm_scratch.fit(X_train_bin, y_train_bin)\n",
    "y_pred_scratch = svm_scratch.predict(X_test_bin)\n",
    "acc_scratch = np.mean(y_pred_scratch == np.where(y_test_bin == 0, -1, 1))\n",
    "print('From-scratch SVM accuracy:', acc_scratch)\n",
    "\n",
    "# Compare with scikit-learn\n",
    "svc_bin = SVC(kernel='linear', C=1)\n",
    "svc_bin.fit(X_train_bin, y_train_bin)\n",
    "y_pred_sklearn = svc_bin.predict(X_test_bin)\n",
    "acc_sklearn = accuracy_score(y_test_bin, y_pred_sklearn)\n",
    "print('scikit-learn SVM accuracy:', acc_sklearn)"
   ]
  }
 ],
 "metadata": {
  "language_info": {
   "name": "python"
  }
 },
 "nbformat": 4,
 "nbformat_minor": 5
}
