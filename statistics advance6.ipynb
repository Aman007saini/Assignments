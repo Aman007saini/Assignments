{
 "cells": [
  {
   "cell_type": "markdown",
   "id": "3a319887",
   "metadata": {},
   "source": [
    "# Statistics Advance 6 Assignment"
   ]
  },
  {
   "cell_type": "markdown",
   "id": "869fd1c0",
   "metadata": {},
   "source": [
    "## Q1. Explain the assumptions required to use ANOVA and provide examples of violations that could impact the validity of the results."
   ]
  },
  {
   "cell_type": "markdown",
   "id": "8ea1136b",
   "metadata": {},
   "source": [
    "**Answer:**\n",
    "\n",
    "ANOVA assumes:\n",
    "- **Independence:** Observations are independent of each other.\n",
    "- **Normality:** The data in each group are normally distributed.\n",
    "- **Homogeneity of variances:** All groups have the same variance.\n",
    "\n",
    "**Violations:**\n",
    "- Non-independence (e.g., repeated measures without accounting for it)\n",
    "- Non-normality (e.g., skewed data)\n",
    "- Unequal variances (heteroscedasticity)\n",
    "\n",
    "Violations can lead to incorrect conclusions (e.g., increased Type I error)."
   ]
  },
  {
   "cell_type": "markdown",
   "id": "838dbaa1",
   "metadata": {},
   "source": [
    "## Q2. What are the three types of ANOVA, and in what situations would each be used?"
   ]
  },
  {
   "cell_type": "markdown",
   "id": "5a5972fc",
   "metadata": {},
   "source": [
    "**Answer:**\n",
    "\n",
    "- **One-way ANOVA:** Compares means of three or more groups based on one independent variable. Used when testing one factor (e.g., diet type).\n",
    "- **Two-way ANOVA:** Compares means based on two independent variables (factors) and can test for interaction effects. Used when testing two factors (e.g., diet type and gender).\n",
    "- **Repeated measures ANOVA:** Used when the same subjects are measured under different conditions or times (e.g., before and after treatment)."
   ]
  },
  {
   "cell_type": "markdown",
   "id": "f5e87c7b",
   "metadata": {},
   "source": [
    "## Q3. What is the partitioning of variance in ANOVA, and why is it important to understand this concept?"
   ]
  },
  {
   "cell_type": "markdown",
   "id": "06c463ed",
   "metadata": {},
   "source": [
    "**Answer:**\n",
    "\n",
    "Partitioning of variance in ANOVA divides the total variability in the data into components:\n",
    "- **Between-group variance:** Variability due to differences between group means.\n",
    "- **Within-group variance:** Variability within each group.\n",
    "\n",
    "Understanding this helps determine if group means are significantly different compared to the variability within groups."
   ]
  },
  {
   "cell_type": "markdown",
   "id": "06ada44b",
   "metadata": {},
   "source": [
    "## Q4. How would you calculate the total sum of squares (SST), explained sum of squares (SSE), and residual sum of squares (SSR) in a one-way ANOVA using Python?"
   ]
  },
  {
   "cell_type": "code",
   "execution_count": null,
   "id": "ded79392",
   "metadata": {},
   "outputs": [],
   "source": [
    "import numpy as np\n",
    "\n",
    "group1 = [10, 12, 9, 11]\n",
    "group2 = [20, 22, 19, 21]\n",
    "group3 = [30, 32, 29, 31]\n",
    "data = group1 + group2 + group3\n",
    "groups = [group1, group2, group3]\n",
    "\n",
    "grand_mean = np.mean(data)\n",
    "SST = np.sum((np.array(data) - grand_mean) ** 2)\n",
    "SSE = sum([len(g)*(np.mean(g) - grand_mean)**2 for g in groups])\n",
    "SSR = sum([sum((np.array(g) - np.mean(g))**2) for g in groups])\n",
    "\n",
    "print(f\"SST: {SST:.2f}, SSE (Between): {SSE:.2f}, SSR (Within): {SSR:.2f}\")"
   ]
  },
  {
   "cell_type": "markdown",
   "id": "cf2922dc",
   "metadata": {},
   "source": [
    "## Q5. In a two-way ANOVA, how would you calculate the main effects and interaction effects using Python?"
   ]
  },
  {
   "cell_type": "code",
   "execution_count": null,
   "id": "1ebb149f",
   "metadata": {},
   "outputs": [],
   "source": [
    "import pandas as pd\n",
    "import statsmodels.api as sm\n",
    "from statsmodels.formula.api import ols\n",
    "\n",
    "data = pd.DataFrame({\n",
    "    'score': [85, 90, 88, 92, 78, 80, 79, 81],\n",
    "    'factor1': ['A', 'A', 'B', 'B', 'A', 'A', 'B', 'B'],\n",
    "    'factor2': ['X', 'Y', 'X', 'Y', 'X', 'Y', 'X', 'Y']\n",
    "})\n",
    "\n",
    "model = ols('score ~ C(factor1) + C(factor2) + C(factor1):C(factor2)', data=data).fit()\n",
    "anova_table = sm.stats.anova_lm(model, typ=2)\n",
    "print(anova_table)"
   ]
  },
  {
   "cell_type": "markdown",
   "id": "dd5f7f72",
   "metadata": {},
   "source": [
    "## Q6. Suppose you conducted a one-way ANOVA and obtained an F-statistic of 5.23 and a p-value of 0.02. What can you conclude about the differences between the groups, and how would you interpret these results?"
   ]
  },
  {
   "cell_type": "markdown",
   "id": "3a0e01fd",
   "metadata": {},
   "source": [
    "**Answer:**\n",
    "\n",
    "Since the p-value (0.02) is less than 0.05, we reject the null hypothesis and conclude that there are significant differences between the group means. The F-statistic indicates the ratio of between-group to within-group variance."
   ]
  },
  {
   "cell_type": "markdown",
   "id": "875be6b4",
   "metadata": {},
   "source": [
    "## Q7. In a repeated measures ANOVA, how would you handle missing data, and what are the potential consequences of using different methods to handle missing data?"
   ]
  },
  {
   "cell_type": "markdown",
   "id": "f1f3587b",
   "metadata": {},
   "source": [
    "**Answer:**\n",
    "\n",
    "- **Handling missing data:**\n",
    "  - Listwise deletion (remove subjects with missing data)\n",
    "  - Imputation (fill in missing values)\n",
    "  - Mixed-effects models (can handle missing data)\n",
    "- **Consequences:**\n",
    "  - Listwise deletion reduces sample size and power\n",
    "  - Imputation can introduce bias if not done properly\n",
    "  - Mixed-effects models are more robust but require more complex analysis"
   ]
  },
  {
   "cell_type": "markdown",
   "id": "b097926b",
   "metadata": {},
   "source": [
    "## Q8. What are some common post-hoc tests used after ANOVA, and when would you use each one? Provide an example of a situation where a post-hoc test might be necessary."
   ]
  },
  {
   "cell_type": "markdown",
   "id": "57faf526",
   "metadata": {},
   "source": [
    "**Answer:**\n",
    "\n",
    "- **Tukey's HSD:** Used when comparing all possible pairs of group means.\n",
    "- **Bonferroni correction:** Used to control for Type I error when making multiple comparisons.\n",
    "- **Scheffé's test:** More conservative, used for all possible contrasts.\n",
    "\n",
    "**Example:** If ANOVA shows significant differences among three diets, a post-hoc test identifies which specific diets differ."
   ]
  },
  {
   "cell_type": "markdown",
   "id": "de6cadc2",
   "metadata": {},
   "source": [
    "## Q9. A researcher wants to compare the mean weight loss of three diets: A, B, and C. They collect data from 50 participants who were randomly assigned to one of the diets. Conduct a one-way ANOVA using Python to determine if there are any significant differences between the mean weight loss of the three diets. Report the F-statistic and p-value, and interpret the results."
   ]
  },
  {
   "cell_type": "code",
   "execution_count": null,
   "id": "df43b005",
   "metadata": {},
   "outputs": [],
   "source": [
    "import numpy as np\n",
    "import scipy.stats as stats\n",
    "\n",
    "diet_A = np.random.normal(5, 1, 17)\n",
    "diet_B = np.random.normal(6, 1, 17)\n",
    "diet_C = np.random.normal(7, 1, 16)\n",
    "\n",
    "f_stat, p_value = stats.f_oneway(diet_A, diet_B, diet_C)\n",
    "print(f\"F-statistic: {f_stat:.2f}, p-value: {p_value:.4f}\")\n",
    "if p_value < 0.05:\n",
    "    print(\"There are significant differences between the diets.\")\n",
    "else:\n",
    "    print(\"No significant differences between the diets.\")"
   ]
  },
  {
   "cell_type": "markdown",
   "id": "66f5055c",
   "metadata": {},
   "source": [
    "## Q10. A company wants to know if there are any significant differences in the average time it takes to complete a task using three different software programs: Program A, Program B, and Program C. They randomly assign 30 employees to one of the programs and record the time it takes each employee to complete the task. Conduct a two-way ANOVA using Python to determine if there are any main effects or interaction effects between the software programs and employee experience level (novice vs. experienced). Report the F-statistics and p-values, and interpret the results."
   ]
  },
  {
   "cell_type": "code",
   "execution_count": null,
   "id": "32e9ee30",
   "metadata": {},
   "outputs": [],
   "source": [
    "import pandas as pd\n",
    "import numpy as np\n",
    "import statsmodels.api as sm\n",
    "from statsmodels.formula.api import ols\n",
    "\n",
    "np.random.seed(0)\n",
    "data = pd.DataFrame({\n",
    "    'time': np.random.normal(30, 5, 90),\n",
    "    'program': np.repeat(['A', 'B', 'C'], 30),\n",
    "    'experience': np.tile(np.repeat(['novice', 'experienced'], 15), 3)\n",
    "})\n",
    "\n",
    "model = ols('time ~ C(program) + C(experience) + C(program):C(experience)', data=data).fit()\n",
    "anova_table = sm.stats.anova_lm(model, typ=2)\n",
    "print(anova_table)"
   ]
  },
  {
   "cell_type": "markdown",
   "id": "cb8fad92",
   "metadata": {},
   "source": [
    "## Q11. An educational researcher is interested in whether a new teaching method improves student test scores. They randomly assign 100 students to either the control group (traditional teaching method) or the experimental group (new teaching method) and administer a test at the end of the semester. Conduct a two-sample t-test using Python to determine if there are any significant differences in test scores between the two groups. If the results are significant, follow up with a post-hoc test to determine which group(s) differ significantly from each other."
   ]
  },
  {
   "cell_type": "code",
   "execution_count": null,
   "id": "97f6b94e",
   "metadata": {},
   "outputs": [],
   "source": [
    "import numpy as np\n",
    "from scipy.stats import ttest_ind\n",
    "\n",
    "control = np.random.normal(75, 10, 50)\n",
    "experimental = np.random.normal(80, 10, 50)\n",
    "t_stat, p_value = ttest_ind(control, experimental)\n",
    "print(f\"t-statistic: {t_stat:.2f}, p-value: {p_value:.4f}\")\n",
    "if p_value < 0.05:\n",
    "    print(\"Significant difference between groups.\")\n",
    "else:\n",
    "    print(\"No significant difference between groups.\")"
   ]
  },
  {
   "cell_type": "markdown",
   "id": "3fc82782",
   "metadata": {},
   "source": [
    "## Q12. A researcher wants to know if there are any significant differences in the average daily sales of three retail stores: Store A, Store B, and Store C. They randomly select 30 days and record the sales for each store on those days. Conduct a repeated measures ANOVA using Python to determine if there are any significant differences in sales between the three stores. If the results are significant, follow up with a post-hoc test to determine which store(s) differ significantly from each other."
   ]
  },
  {
   "cell_type": "code",
   "execution_count": null,
   "id": "0e729c50",
   "metadata": {},
   "outputs": [],
   "source": [
    "import numpy as np\n",
    "import pandas as pd\n",
    "from statsmodels.stats.anova import AnovaRM\n",
    "\n",
    "np.random.seed(0)\n",
    "data = pd.DataFrame({\n",
    "    'subject': np.tile(np.arange(1, 31), 3),\n",
    "    'store': np.repeat(['A', 'B', 'C'], 30),\n",
    "    'sales': np.random.normal(100, 10, 90)\n",
    "})\n",
    "\n",
    "anova = AnovaRM(data, 'sales', 'subject', within=['store']).fit()\n",
    "print(anova)"
   ]
  }
 ],
 "metadata": {
  "language_info": {
   "name": "python"
  }
 },
 "nbformat": 4,
 "nbformat_minor": 5
}
