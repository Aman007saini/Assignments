{
 "cells": [
  {
   "cell_type": "markdown",
   "id": "fea22607",
   "metadata": {},
   "source": [
    "# Feature Engineering - 2"
   ]
  },
  {
   "cell_type": "markdown",
   "id": "dd70cef2",
   "metadata": {},
   "source": [
    "## Q1. What is the Filter method in feature selection, and how does it work?"
   ]
  },
  {
   "cell_type": "markdown",
   "id": "f1bdd31f",
   "metadata": {},
   "source": [
    "**Answer:**\n",
    "\n",
    "The Filter method selects features based on their statistical relationship with the target variable, independent of any machine learning model. It uses metrics like correlation, chi-square, or mutual information to rank and select features."
   ]
  },
  {
   "cell_type": "markdown",
   "id": "e368616d",
   "metadata": {},
   "source": [
    "## Q2. How does the Wrapper method differ from the Filter method in feature selection?"
   ]
  },
  {
   "cell_type": "markdown",
   "id": "34b4c723",
   "metadata": {},
   "source": [
    "**Answer:**\n",
    "\n",
    "The Wrapper method evaluates subsets of features by training and testing a machine learning model, selecting the combination that gives the best performance. Unlike the Filter method, it is model-dependent and computationally more expensive."
   ]
  },
  {
   "cell_type": "markdown",
   "id": "2609bb40",
   "metadata": {},
   "source": [
    "## Q3. What are some common techniques used in Embedded feature selection methods?"
   ]
  },
  {
   "cell_type": "markdown",
   "id": "a529f6b1",
   "metadata": {},
   "source": [
    "**Answer:**\n",
    "\n",
    "Common embedded methods include:\n",
    "- Lasso (L1 regularization)\n",
    "- Ridge (L2 regularization)\n",
    "- Decision tree-based feature importance (e.g., Random Forest, XGBoost)\n",
    "- Elastic Net\n",
    "These methods perform feature selection as part of the model training process."
   ]
  },
  {
   "cell_type": "markdown",
   "id": "a5c3008d",
   "metadata": {},
   "source": [
    "## Q4. What are some drawbacks of using the Filter method for feature selection?"
   ]
  },
  {
   "cell_type": "markdown",
   "id": "e37c8bf5",
   "metadata": {},
   "source": [
    "**Answer:**\n",
    "\n",
    "- Ignores feature interactions\n",
    "- May select redundant features\n",
    "- Not tailored to a specific model\n",
    "- Can miss features that are only useful in combination with others"
   ]
  },
  {
   "cell_type": "markdown",
   "id": "200a56d7",
   "metadata": {},
   "source": [
    "## Q5. In which situations would you prefer using the Filter method over the Wrapper method for feature selection?"
   ]
  },
  {
   "cell_type": "markdown",
   "id": "ab2482a6",
   "metadata": {},
   "source": [
    "**Answer:**\n",
    "\n",
    "- When you have a very large number of features\n",
    "- When computational resources are limited\n",
    "- As a quick preprocessing step before more complex selection\n",
    "- When you want a model-agnostic approach"
   ]
  },
  {
   "cell_type": "markdown",
   "id": "259164b8",
   "metadata": {},
   "source": [
    "## Q6. In a telecom company, you are working on a project to develop a predictive model for customer churn. You are unsure of which features to include in the model because the dataset contains several different ones. Describe how you would choose the most pertinent attributes for the model using the Filter Method."
   ]
  },
  {
   "cell_type": "markdown",
   "id": "a5483b48",
   "metadata": {},
   "source": [
    "**Answer:**\n",
    "\n",
    "I would calculate the correlation (for numeric features) or use chi-square/mutual information (for categorical features) between each feature and the churn label. I would then select the top-ranked features based on these scores for model training."
   ]
  },
  {
   "cell_type": "markdown",
   "id": "c4e308ae",
   "metadata": {},
   "source": [
    "## Q7. You are working on a project to predict the outcome of a soccer match. You have a large dataset with many features, including player statistics and team rankings. Explain how you would use the Embedded method to select the most relevant features for the model."
   ]
  },
  {
   "cell_type": "markdown",
   "id": "3a5d1f09",
   "metadata": {},
   "source": [
    "**Answer:**\n",
    "\n",
    "I would use a model with built-in feature selection, such as Lasso regression or a tree-based model (e.g., Random Forest). After training, I would select features with non-zero coefficients (Lasso) or high importance scores (trees) as the most relevant."
   ]
  },
  {
   "cell_type": "markdown",
   "id": "dcea2ed3",
   "metadata": {},
   "source": [
    "## Q8. You are working on a project to predict the price of a house based on its features, such as size, location, and age. You have a limited number of features, and you want to ensure that you select the most important ones for the model. Explain how you would use the Wrapper method to select the best set of features for the predictor."
   ]
  },
  {
   "cell_type": "markdown",
   "id": "1c4fb79c",
   "metadata": {},
   "source": [
    "**Answer:**\n",
    "\n",
    "I would use a wrapper method like recursive feature elimination (RFE) or forward/backward selection. I would train the model on different subsets of features and select the subset that gives the best validation performance (e.g., lowest RMSE)."
   ]
  }
 ],
 "metadata": {
  "language_info": {
   "name": "python"
  }
 },
 "nbformat": 4,
 "nbformat_minor": 5
}
