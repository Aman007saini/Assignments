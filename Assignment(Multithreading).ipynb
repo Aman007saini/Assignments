{
 "cells": [
  {
   "cell_type": "markdown",
   "id": "ef400dd5-01a0-40c3-8534-52eba95345c0",
   "metadata": {},
   "source": [
    "### Q1 What is multithreading in python? Why is it used? Name the module used to handle threads in python"
   ]
  },
  {
   "cell_type": "markdown",
   "id": "1ed3cc9e-d0a6-43b9-8746-4a724e3e84c5",
   "metadata": {},
   "source": [
    "#### Multithreading refers to a programming technique where multiple threads of execution run concurrently within a single process. \n",
    "#### Multithreading is used for several reasons, primarily to improve performance and responsiveness in software applications. Here are some key reasons why multithreading is commonly employed: \n",
    "\n",
    "##### -> Concurrency: Multithreading allows multiple tasks or operations to be executed concurrently, enabling efficient utilization of system resources. By dividing a program into threads, different parts of the program can be executed simultaneously, taking advantage of modern multi-core processors or parallel computing environments. This can lead to improved throughput and reduced execution time.                                                                                                                                                                        \n",
    "\n",
    "##### -> Responsiveness: Multithreading is often used in applications with user interfaces to maintain responsiveness. By utilizing separate threads for user input, event handling, and other tasks, the main user interface thread can remain responsive and not get blocked by time-consuming operations. For example, a text editor can continue accepting user input while performing spell checking in the background.\n",
    "\n",
    "##### -> Background Tasks: Multithreading allows applications to perform tasks in the background while the main thread focuses on user interaction. This is particularly useful for performing computationally intensive operations, file I/O, network communication, or data processing tasks without blocking the user interface.\n",
    "\n",
    "##### -> Parallel Computing: Multithreading is a fundamental technique used in parallel computing, where a problem can be divided into smaller subtasks that can be executed simultaneously. By employing multiple threads, the program can take advantage of available processor cores or distributed computing environments to achieve parallelism and faster execution.\n",
    "\n",
    "##### -> Resource Sharing: Multithreading allows efficient sharing of system resources within a process. Threads within the same process share the same memory space, allowing them to access and exchange data easily. This enables efficient communication and collaboration between different parts of a program.\n",
    "\n",
    "##### -> Asynchronous Operations: Multithreading is commonly used for handling asynchronous operations, such as handling multiple network connections or performing I/O operations. By using separate threads, these operations can be executed concurrently without blocking the program's execution flow.\n",
    "\n",
    "#### The module used to handle threads in Python is called 'threading'. The 'threading' module provides a high-level interface for creating and managing threads in Python. It allows us to create multiple threads of execution within a program, enabling concurrent execution of tasks."
   ]
  },
  {
   "cell_type": "markdown",
   "id": "223b7b4b-95c9-43f9-8a7e-ce1a2f0cc6de",
   "metadata": {},
   "source": [
    "### Q2 Why threading module used? Write the use of the following functions\n",
    "1. activeCount()\n",
    "2. currentThread()\n",
    "3. enumerate()"
   ]
  },
  {
   "cell_type": "markdown",
   "id": "fa336641-e78a-4ed9-bcc4-eb0f5d1e6a77",
   "metadata": {},
   "source": [
    "#### The 'threading' module provides a high-level interface for creating and managing threads in Python. It allows us to create multiple threads of execution within a program, enabling concurrent execution of tasks.\n",
    "##### > activeCount() − The method 'threading.active_co unt()' from the threading module is used to count the currently active or running threads.\n",
    "##### > currentThread() − The current_thread() function returns a Thread instance for the current working thread.\n",
    "##### > enumerate() − Returns a list of all thread objects that are currently active."
   ]
  },
  {
   "cell_type": "markdown",
   "id": "ca9ad3af-ed18-405a-8f50-d94f2394e01d",
   "metadata": {},
   "source": [
    "### Q3. Explain the following functions\n",
    "1. run()\n",
    "2. start()\n",
    "3. join()\n",
    "4. isAlive()"
   ]
  },
  {
   "cell_type": "markdown",
   "id": "011f6b8c-ad23-4b2f-8004-fe5a7ee66df7",
   "metadata": {},
   "source": [
    "#### > The . run() method executes any target function belonging to a given thread object that is now active.\n",
    "#### > start() - It is used to start a thread's activity.\n",
    "#### > join() - A thread can be joined in Python by calling the Thread.join() method. This has the effect of blocking the current thread until the target thread that has been joined has terminated.\n",
    "#### > isAlive() - The isAlive() method checks whether a thread is still executing."
   ]
  },
  {
   "cell_type": "markdown",
   "id": "c86b03da-6020-498e-a170-a0d46b44c58a",
   "metadata": {},
   "source": [
    "### Q4. Write a python program to create two threads. Thread one must print the list of squares and threadtwo must print the list of cubes"
   ]
  },
  {
   "cell_type": "code",
   "execution_count": 20,
   "id": "bcc277ac-f0db-41e3-a0ee-da5e4bd1eb3a",
   "metadata": {},
   "outputs": [
    {
     "name": "stdout",
     "output_type": "stream",
     "text": [
      "list for square is\n",
      "1\n",
      "4\n",
      "9\n",
      "16\n",
      "25\n",
      "list for cube is \n",
      "1\n",
      "8\n",
      "27\n",
      "64\n",
      "125\n"
     ]
    }
   ],
   "source": [
    "import threading\n",
    "#creating function for square\n",
    "def square_and_cube (n,i):\n",
    "    n=n**i\n",
    "    print(n) \n",
    "sqr=[]\n",
    "cub=[]\n",
    "lok_var=threading.Lock()\n",
    "with lok_var:\n",
    "    print('list for square is')\n",
    "    for i in range(1,6):\n",
    "        square=threading.Thread(target= square_and_cube,args=(i,2))\n",
    "        sqr.append(square)\n",
    "        \n",
    "        square.start()\n",
    "for s in sqr:\n",
    "    square.join()\n",
    "with lok_var:\n",
    "    print(\"list for cube is \")\n",
    "    for i in range(1,6):\n",
    "        cube=threading.Thread(target=square_and_cube,args=(i,3))\n",
    "        cub.append(cube)\n",
    "        \n",
    "        cube.start()\n",
    "for c in cub:\n",
    "    cube.join()"
   ]
  },
  {
   "cell_type": "markdown",
   "id": "c551a173-5c37-47c0-a87f-6225a7e1a254",
   "metadata": {},
   "source": [
    "### Q5. State advantages and disadvantages of multithreading"
   ]
  },
  {
   "cell_type": "markdown",
   "id": "70ae68e5-eb61-429d-8613-ef4ad147d915",
   "metadata": {},
   "source": [
    "### Advantages:\n",
    "\n",
    "#### -> Improved performance: Multithreading can help increase the overall performance of an application, especially on systems with multiple processors or cores. It allows multiple        tasks to run concurrently, utilizing the available CPU resources more efficiently.\n",
    "\n",
    "#### -> Responsiveness: In a single-threaded environment, if a long-running task blocks the main thread, the entire application becomes unresponsive. Multithreading can prevent this        issue by running such tasks in separate threads, ensuring the application remains responsive.\n",
    "\n",
    "#### -> Better resource utilization: Multithreading allows better utilization of system resources by keeping the CPU busy while waiting for I/O operations or other tasks to complete.\n",
    "\n",
    "#### -> Simplified modeling: Some problems can be more naturally modeled using multiple threads. This makes the program easier to design, understand, and maintain.\n",
    "\n",
    "#### ->Parallelism: Multithreading enables parallelism, which can lead to significant performance improvements in applications that can be divided into smaller, independent tasks.\n",
    "\n",
    "### Disadvantages:\n",
    "\n",
    "#### -> Complexity: Multithreading adds complexity to the program, making it more difficult to design, implement, and debug. Developers need to be aware of synchronization, deadlocks, race conditions, and other concurrency-related issues.\n",
    "\n",
    "#### -> Synchronization overhead: To avoid data corruption and maintain consistency, developers must synchronize access to shared resources, which can result in additional overhead and reduced performance.\n",
    "\n",
    "#### -> Context switching: Context switching between threads consumes CPU time and resources, which can lead to performance degradation if not managed efficiently.\n",
    "\n",
    "#### -> Hard to predict behavior: Due to the concurrent nature of multithreading, the behavior of the program can be hard to predict and reproduce, especially when it comes to debugging.\n",
    "\n",
    "#### -> Limited by hardware: The performance benefits of multithreading are limited by the number of available cores or processors in the system. In some cases, excessive use of threads can lead to performance degradation instead of improvement."
   ]
  },
  {
   "cell_type": "markdown",
   "id": "55fae49d-8d17-43f3-aa2e-91c5e432ad3b",
   "metadata": {},
   "source": [
    "### Q6. Explain deadlocks and race conditions."
   ]
  },
  {
   "cell_type": "markdown",
   "id": "f5c61a0b-19dc-45b9-9f72-aa41b72cb47a",
   "metadata": {},
   "source": [
    "### Deadlock-\n",
    "\n",
    "#### -> When two processes are waiting for each other directly or indirectly, it is called deadlock.\n",
    "#### -> This usually occurs when two processes are waiting for shared resources acquired by others. For example, If thread T1 acquired resource R1 and it also needs resource R2 for it to accomplish its task. But the resource R2 is acquired by thread T2 which is waiting for resource R1(which is acquired by T1).. Neither of them will be able to accomplish its task, as they keep waiting for the other resources they need.\n",
    "\n",
    "### Race condition-\n",
    "#### -> A race condition is a failure case where the behavior of the program is dependent upon the order of execution by two or more threads. This means that the behavior of the program will not be predictable, possibly changing each time it is run."
   ]
  },
  {
   "cell_type": "code",
   "execution_count": null,
   "id": "efac4122-cc22-4e5e-91b0-0a04b5fd3c0f",
   "metadata": {},
   "outputs": [],
   "source": []
  }
 ],
 "metadata": {
  "kernelspec": {
   "display_name": "Python 3 (ipykernel)",
   "language": "python",
   "name": "python3"
  },
  "language_info": {
   "codemirror_mode": {
    "name": "ipython",
    "version": 3
   },
   "file_extension": ".py",
   "mimetype": "text/x-python",
   "name": "python",
   "nbconvert_exporter": "python",
   "pygments_lexer": "ipython3",
   "version": "3.10.8"
  }
 },
 "nbformat": 4,
 "nbformat_minor": 5
}
