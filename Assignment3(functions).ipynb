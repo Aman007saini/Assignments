{
 "cells": [
  {
   "cell_type": "markdown",
   "id": "06d3edc6-4251-4eb5-accc-0d3387013812",
   "metadata": {},
   "source": [
    "#### Q1. Which keyword is used to create a function? Create a function to return a list of odd numbers in the range of 1 to 25."
   ]
  },
  {
   "cell_type": "code",
   "execution_count": 3,
   "id": "3eee0973-8a0c-4f44-adfa-d283ff6f194e",
   "metadata": {},
   "outputs": [],
   "source": [
    "#def keyword is used to create a function.\n",
    "def odd(l):\n",
    "    l1=[]\n",
    "    for i in l:\n",
    "        if i%2!=0:\n",
    "            l1.append(i)\n",
    "    return l1"
   ]
  },
  {
   "cell_type": "code",
   "execution_count": 4,
   "id": "1f895fb7-6d34-4d7b-86e5-06906ea1e1bf",
   "metadata": {},
   "outputs": [
    {
     "data": {
      "text/plain": [
       "[1, 3, 5, 7, 9, 11, 13, 15, 17, 19, 21, 23, 25]"
      ]
     },
     "execution_count": 4,
     "metadata": {},
     "output_type": "execute_result"
    }
   ],
   "source": [
    "l=list(range(1,26))\n",
    "odd(l)"
   ]
  },
  {
   "cell_type": "markdown",
   "id": "071a2881-b12b-483c-9e09-f7c0b86d3205",
   "metadata": {},
   "source": [
    "#### Q2. Why *args and **kwargs is used in some functions? Create a function each for *args and **kwargs to demonstrate their use."
   ]
  },
  {
   "cell_type": "code",
   "execution_count": 9,
   "id": "96fc9a2e-8015-4ae1-beab-67a30cf72b01",
   "metadata": {},
   "outputs": [
    {
     "name": "stdout",
     "output_type": "stream",
     "text": [
      "7\n",
      "16\n"
     ]
    }
   ],
   "source": [
    "# *args and **kwargs maked Python function flexible so it can accept variable no.of arguments and keyword arguments.\n",
    "def add (*numbers):\n",
    "    total=0\n",
    "    for i in numbers:\n",
    "        total+= i\n",
    "    return total\n",
    "\n",
    "def total_fruits(**fruits):\n",
    "    total=0\n",
    "    for i in fruits.values():\n",
    "        total+=i\n",
    "    return total\n",
    "\n",
    "print(add(3,4))\n",
    "print(total_fruits(mango=5,apple=7,banana=4))"
   ]
  },
  {
   "cell_type": "markdown",
   "id": "0d58dff9-764b-472d-9bfc-138a7b1124e8",
   "metadata": {},
   "source": [
    "#### Q3. What is an iterator in python? Name the method used to initialise the iterator object and the method used for iteration. Use these methods to print the first five elements of the given list [2, 4, 6, 8, 10, 12, 14,16, 18, 20]."
   ]
  },
  {
   "cell_type": "code",
   "execution_count": 4,
   "id": "92a9a684-b5ff-43e1-915e-36a3f7e20df3",
   "metadata": {},
   "outputs": [
    {
     "name": "stdout",
     "output_type": "stream",
     "text": [
      "2\n",
      "4\n",
      "6\n",
      "8\n",
      "10\n"
     ]
    }
   ],
   "source": [
    "# An iterator is an object which allows us to iterate over a collection of data.\n",
    "#iterator is initialise by using two methods one is iter() and another is next().\n",
    "l=[2, 4, 6, 8, 10, 12, 14, 16, 18, 20]\n",
    "l1=iter(l)\n",
    "count=0\n",
    "while count<5:\n",
    "    print(next(l1))\n",
    "    count+=1"
   ]
  },
  {
   "cell_type": "markdown",
   "id": "cb8fcde5-0fba-481a-b1d9-44900767eb85",
   "metadata": {},
   "source": [
    "#### Q4. What is a generator function in python? Why yield keyword is used? Give an example of a generator function."
   ]
  },
  {
   "cell_type": "code",
   "execution_count": 4,
   "id": "dd1b10e1-4662-4741-9be9-81951273930e",
   "metadata": {},
   "outputs": [
    {
     "name": "stdout",
     "output_type": "stream",
     "text": [
      "[0, 1, 2, 3, 4]\n"
     ]
    }
   ],
   "source": [
    "# generator function is also defined like a normal function but whenever it need to generate a value, it do so with yield keyword rather then return.\n",
    "#if body of a def contains yield then it automatically become generator function.\n",
    "# Yield function is used in function to return objects these object will not occupy any space in the memory.\n",
    "def number_gen(n):\n",
    "    for i in range(n):\n",
    "        yield i\n",
    "num_gen=number_gen(5)\n",
    "print(list(num_gen))"
   ]
  },
  {
   "cell_type": "markdown",
   "id": "d565940b-69d5-424f-b3e0-715ce3802b2e",
   "metadata": {},
   "source": [
    "#### Q5. Create a generator function for prime numbers less than 1000. Use the next() method to print the first 20 prime numbers."
   ]
  },
  {
   "cell_type": "code",
   "execution_count": 1,
   "id": "5bbf9db1-83ff-437e-9e84-46d863717eac",
   "metadata": {},
   "outputs": [],
   "source": [
    "def Prime_gen():\n",
    "    num=2\n",
    "    while True:\n",
    "        if is_prime(num):\n",
    "            yield num\n",
    "            num+=1\n",
    "        \n",
    "def is_prime(n):\n",
    "    if n<2:\n",
    "        return False\n",
    "    for i in range(2,int(n**0.5)+1):\n",
    "        if n%i==0:\n",
    "            return False\n",
    "    return True"
   ]
  },
  {
   "cell_type": "code",
   "execution_count": null,
   "id": "bf00b93e-3271-4fd7-ac8a-ecfdde22bcb7",
   "metadata": {},
   "outputs": [],
   "source": [
    "pri_gen=Prime_gen()\n",
    "[next(pri_gen) for _ in range(20)]"
   ]
  },
  {
   "cell_type": "markdown",
   "id": "d16bd748-3162-4664-a090-1e141f77f1ec",
   "metadata": {},
   "source": [
    "#### Q6. Write a python program to print the first 10 Fibonacci numbers using a while loop."
   ]
  },
  {
   "cell_type": "code",
   "execution_count": 1,
   "id": "58cd10a5-86a4-4484-92b3-eda24b2faff7",
   "metadata": {},
   "outputs": [
    {
     "name": "stdout",
     "output_type": "stream",
     "text": [
      "0\n",
      "1\n",
      "1\n",
      "2\n",
      "3\n",
      "5\n",
      "8\n",
      "13\n",
      "21\n",
      "34\n"
     ]
    }
   ],
   "source": [
    "def fib():\n",
    "    a, b = 0, 1\n",
    "    while True:\n",
    "        yield a\n",
    "        a, b = b, a + b\n",
    "\n",
    "\n",
    "fib2 = fib()\n",
    "\n",
    "for i in range(10):\n",
    "    print(next(fib2)) "
   ]
  },
  {
   "cell_type": "markdown",
   "id": "b4a6e681-40a6-4bda-bb5c-9b6d7692b94d",
   "metadata": {},
   "source": [
    "#### Q7. Write a List Comprehension to iterate through the given string: ‘pwskills’. Expected output: ['p', 'w', 's', 'k', 'i', 'l', 'l', 's']"
   ]
  },
  {
   "cell_type": "code",
   "execution_count": 15,
   "id": "748c312b-9fd9-4fc8-97c7-c7daa3a15783",
   "metadata": {},
   "outputs": [
    {
     "name": "stdout",
     "output_type": "stream",
     "text": [
      "['p', 'w', 's', 'k', 'i', 'l', 'l', 's']\n"
     ]
    }
   ],
   "source": [
    "l=[]\n",
    "s=\"pwskills\"\n",
    "\n",
    "for i in s :\n",
    "    l.append(i)\n",
    "print(l)"
   ]
  },
  {
   "cell_type": "markdown",
   "id": "37f6bd86-d401-4be4-883e-0b6c86b01f81",
   "metadata": {},
   "source": [
    "#### Q8. Write a python program to check whether a given number is Palindrome or not using a while loop."
   ]
  },
  {
   "cell_type": "code",
   "execution_count": 6,
   "id": "82385b06-f9d7-4152-8daa-1b4a32ee044d",
   "metadata": {},
   "outputs": [
    {
     "name": "stdin",
     "output_type": "stream",
     "text": [
      "enter no. 252\n"
     ]
    },
    {
     "name": "stdout",
     "output_type": "stream",
     "text": [
      "no.is Palindrome\n"
     ]
    }
   ],
   "source": [
    "my_number=int(input(\"enter no.\"))\n",
    "reverse=int(str(my_number)[::-1])\n",
    "if my_number==reverse:\n",
    "    print(\"no.is Palindrome\")\n",
    "else:\n",
    "    print(\"no. is not palindrome\")"
   ]
  },
  {
   "cell_type": "markdown",
   "id": "312b1b8d-193b-4257-9c91-af8c91844cbc",
   "metadata": {},
   "source": [
    "#### Q9. Write a code to print odd numbers from 1 to 100 using list comprehension. Note: Use a list comprehension to create a list from 1 to 100 and use another List comprehension to filter out odd numbers."
   ]
  },
  {
   "cell_type": "code",
   "execution_count": 13,
   "id": "0a3ef02d-0ce5-4161-9d14-5710c75c2b2d",
   "metadata": {},
   "outputs": [
    {
     "data": {
      "text/plain": [
       "[1,\n",
       " 3,\n",
       " 5,\n",
       " 7,\n",
       " 9,\n",
       " 11,\n",
       " 13,\n",
       " 15,\n",
       " 17,\n",
       " 19,\n",
       " 21,\n",
       " 23,\n",
       " 25,\n",
       " 27,\n",
       " 29,\n",
       " 31,\n",
       " 33,\n",
       " 35,\n",
       " 37,\n",
       " 39,\n",
       " 41,\n",
       " 43,\n",
       " 45,\n",
       " 47,\n",
       " 49,\n",
       " 51,\n",
       " 53,\n",
       " 55,\n",
       " 57,\n",
       " 59,\n",
       " 61,\n",
       " 63,\n",
       " 65,\n",
       " 67,\n",
       " 69,\n",
       " 71,\n",
       " 73,\n",
       " 75,\n",
       " 77,\n",
       " 79,\n",
       " 81,\n",
       " 83,\n",
       " 85,\n",
       " 87,\n",
       " 89,\n",
       " 91,\n",
       " 93,\n",
       " 95,\n",
       " 97,\n",
       " 99]"
      ]
     },
     "execution_count": 13,
     "metadata": {},
     "output_type": "execute_result"
    }
   ],
   "source": [
    "lst=list(range(1,101))              #creating a list of numbers from 1 to 100\n",
    "list(filter(lambda x: x%2!=0,lst))  #filtering the odd numbers from list"
   ]
  },
  {
   "cell_type": "code",
   "execution_count": null,
   "id": "71bf051f-72d4-4fa4-9183-612a0ce89f77",
   "metadata": {},
   "outputs": [],
   "source": []
  }
 ],
 "metadata": {
  "kernelspec": {
   "display_name": "Python 3 (ipykernel)",
   "language": "python",
   "name": "python3"
  },
  "language_info": {
   "codemirror_mode": {
    "name": "ipython",
    "version": 3
   },
   "file_extension": ".py",
   "mimetype": "text/x-python",
   "name": "python",
   "nbconvert_exporter": "python",
   "pygments_lexer": "ipython3",
   "version": "3.10.8"
  }
 },
 "nbformat": 4,
 "nbformat_minor": 5
}
