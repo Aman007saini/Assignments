{
 "cells": [
  {
   "cell_type": "markdown",
   "id": "1368d530",
   "metadata": {},
   "source": [
    "# Support Vector Machines-3\n",
    "This notebook is ready for your next set of SVM experiments, theory, or assignments. Add your questions, code, and explanations below."
   ]
  },
  {
   "cell_type": "markdown",
   "id": "18fa79b5",
   "metadata": {},
   "source": [
    "## Q1. In order to predict house price based on several characteristics, such as location, square footage, number of bedrooms, etc., you are developing an SVM regression model. Which regression metric in this situation would be the best to employ?"
   ]
  },
  {
   "cell_type": "markdown",
   "id": "c5926e1e",
   "metadata": {},
   "source": [
    "The best metric for predicting house prices is **Root Mean Squared Error (RMSE)**. RMSE measures the average magnitude of prediction errors in the same units as the target variable (price), making it intuitive and directly interpretable for regression tasks."
   ]
  },
  {
   "cell_type": "markdown",
   "id": "e849dd3b",
   "metadata": {},
   "source": [
    "## Q2. You have built an SVM regression model and are trying to decide between using MSE or R-squared as your evaluation metric. Which metric would be more appropriate if your goal is to predict the actual price of a house as accurately as possible?"
   ]
  },
  {
   "cell_type": "markdown",
   "id": "383d2b4b",
   "metadata": {},
   "source": [
    "**Mean Squared Error (MSE)** is more appropriate if your goal is to predict the actual price as accurately as possible, because it directly measures the average squared difference between predicted and actual values. R-squared measures explained variance, not absolute accuracy."
   ]
  },
  {
   "cell_type": "markdown",
   "id": "b0023664",
   "metadata": {},
   "source": [
    "## Q3. You have a dataset with a significant number of outliers and are trying to select an appropriate regression metric to use with your SVM model. Which metric would be the most appropriate in this scenario?"
   ]
  },
  {
   "cell_type": "markdown",
   "id": "f84c4cdc",
   "metadata": {},
   "source": [
    "**Mean Absolute Error (MAE)** is the most appropriate metric when your dataset contains many outliers. MAE is less sensitive to outliers than MSE or RMSE, as it measures the average absolute difference between predicted and actual values."
   ]
  },
  {
   "cell_type": "markdown",
   "id": "79d7d731",
   "metadata": {},
   "source": [
    "## Q4. You have built an SVM regression model using a polynomial kernel and are trying to select the best metric to evaluate its performance. You have calculated both MSE and RMSE and found that both values are very close. Which metric should you choose to use in this case?"
   ]
  },
  {
   "cell_type": "markdown",
   "id": "58c84622",
   "metadata": {},
   "source": [
    "**RMSE** is generally preferred because it is in the same units as the target variable (e.g., price), making it easier to interpret. If MSE and RMSE are close, RMSE provides a more intuitive measure of average error."
   ]
  },
  {
   "cell_type": "markdown",
   "id": "5f224d2f",
   "metadata": {},
   "source": [
    "## Q5. You are comparing the performance of different SVM regression models using different kernels (linear, polynomial, and RBF) and are trying to select the best evaluation metric. Which metric would be most appropriate if your goal is to measure how well the model explains the variance in the target variable?"
   ]
  },
  {
   "cell_type": "markdown",
   "id": "ae31d5a6",
   "metadata": {},
   "source": [
    "**R-squared (coefficient of determination)** is the most appropriate metric for measuring how well the model explains the variance in the target variable. It indicates the proportion of variance in the dependent variable that is predictable from the independent variables."
   ]
  }
 ],
 "metadata": {
  "language_info": {
   "name": "python"
  }
 },
 "nbformat": 4,
 "nbformat_minor": 5
}
