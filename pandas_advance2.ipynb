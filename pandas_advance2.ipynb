{
 "cells": [
  {
   "cell_type": "markdown",
   "id": "aff6a578",
   "metadata": {},
   "source": [
    "# Pandas Advance 2 Assignment\n",
    "\n",
    "## Q1. Write a code to print the data present in the second row of the dataframe, df."
   ]
  },
  {
   "cell_type": "code",
   "execution_count": null,
   "id": "92b917a9",
   "metadata": {},
   "outputs": [],
   "source": [
    "import pandas as pd\n",
    "course_name = ['Data Science', 'Machine Learning', 'Big Data', 'Data Engineer']\n",
    "duration = [2,3,6,4]\n",
    "df = pd.DataFrame(data = {'course_name' : course_name, 'duration' : duration})\n",
    "\n",
    "# Print the data in the second row (index 1)\n",
    "print(df.iloc[1])"
   ]
  },
  {
   "cell_type": "markdown",
   "id": "d0304552",
   "metadata": {},
   "source": [
    "## Q2. What is the difference between the functions loc and iloc in pandas.DataFrame?\n",
    "\n",
    "- `loc` is label-based indexing. It is used to access rows and columns by their labels (names).\n",
    "- `iloc` is integer position-based indexing. It is used to access rows and columns by their integer positions (starting from 0)."
   ]
  },
  {
   "cell_type": "markdown",
   "id": "72d5e48d",
   "metadata": {},
   "source": [
    "## Q3. Reindex the given dataframe using a variable, reindex = [3,0,1,2] and store it in the variable, new_df then find the output for both new_df.loc[2] and new_df.iloc[2]."
   ]
  },
  {
   "cell_type": "code",
   "execution_count": null,
   "id": "2568d00f",
   "metadata": {},
   "outputs": [],
   "source": [
    "reindex = [3,0,1,2]\n",
    "new_df = df.reindex(reindex)\n",
    "print('new_df.loc[2]:')\n",
    "print(new_df.loc[2])\n",
    "print('\\nnew_df.iloc[2]:')\n",
    "print(new_df.iloc[2])"
   ]
  },
  {
   "cell_type": "markdown",
   "id": "15fd6212",
   "metadata": {},
   "source": [
    "## Q4. Write a code to find the following statistical measurements for the above dataframe df1:\n",
    "(i) mean of each and every column present in the dataframe.\n",
    "(ii) standard deviation of column, ‘column_2’"
   ]
  },
  {
   "cell_type": "code",
   "execution_count": null,
   "id": "9883e2bf",
   "metadata": {},
   "outputs": [],
   "source": [
    "import numpy as np\n",
    "columns = ['column_1', 'column_2', 'column_3', 'column_4', 'column_5', 'column_6']\n",
    "indices = [1,2,3,4,5,6]\n",
    "df1 = pd.DataFrame(np.random.rand(6,6), columns = columns, index = indices)\n",
    "\n",
    "# (i) Mean of each column\n",
    "print(df1.mean())\n",
    "# (ii) Standard deviation of column_2\n",
    "print(df1['column_2'].std())"
   ]
  },
  {
   "cell_type": "markdown",
   "id": "59dd73ec",
   "metadata": {},
   "source": [
    "## Q5. Replace the data present in the second row of column, ‘column_2’ by a string variable then find the mean of column, column_2.\n",
    "If you are getting errors in executing it then explain why."
   ]
  },
  {
   "cell_type": "code",
   "execution_count": null,
   "id": "43934ffb",
   "metadata": {},
   "outputs": [],
   "source": [
    "df1.loc[2, 'column_2'] = 'string_value'\n",
    "try:\n",
    "    print(df1['column_2'].mean())\n",
    "except Exception as e:\n",
    "    print('Error:', e)\n",
    "\n",
    "# Explanation: The mean cannot be calculated because the column contains a string value, which is not numeric."
   ]
  },
  {
   "cell_type": "markdown",
   "id": "8b5d3d82",
   "metadata": {},
   "source": [
    "## Q6. What do you understand about the windows function in pandas and list the types of windows functions?\n",
    "\n",
    "**Window functions** in pandas are used to perform calculations across a set of rows that are related to the current row. They are commonly used for moving averages, rolling statistics, and expanding statistics.\n",
    "\n",
    "**Types of window functions:**\n",
    "- Rolling window (e.g., `rolling()`)\n",
    "- Expanding window (e.g., `expanding()`)\n",
    "- Exponentially weighted window (e.g., `ewm()`)"
   ]
  },
  {
   "cell_type": "markdown",
   "id": "2f2513e2",
   "metadata": {},
   "source": [
    "## Q7. Write a code to print only the current month and year at the time of answering this question."
   ]
  },
  {
   "cell_type": "code",
   "execution_count": null,
   "id": "b79c385a",
   "metadata": {},
   "outputs": [],
   "source": [
    "import pandas as pd\n",
    "date = pd.Timestamp.now()\n",
    "print('Current Month:', date.month)\n",
    "print('Current Year:', date.year)"
   ]
  },
  {
   "cell_type": "markdown",
   "id": "b935dd82",
   "metadata": {},
   "source": [
    "## Q8. Write a Python program that takes in two dates as input (in the format YYYY-MM-DD) and calculates the difference between them in days, hours, and minutes using Pandas time delta. The program should prompt the user to enter the dates and display the result."
   ]
  },
  {
   "cell_type": "code",
   "execution_count": null,
   "id": "de0eb789",
   "metadata": {},
   "outputs": [],
   "source": [
    "import pandas as pd\n",
    "\n",
    "def date_difference():\n",
    "    date1 = pd.to_datetime(input('Enter first date (YYYY-MM-DD): '))\n",
    "    date2 = pd.to_datetime(input('Enter second date (YYYY-MM-DD): '))\n",
    "    delta = abs(date2 - date1)\n",
    "    days = delta.days\n",
    "    hours = delta.seconds // 3600\n",
    "    minutes = (delta.seconds % 3600) // 60\n",
    "    print(f'Difference: {days} days, {hours} hours, {minutes} minutes')\n",
    "\n",
    "# date_difference()\n",
    "# If you observe a difference in outputs, it may be due to the time component in the input or the way timedelta handles time."
   ]
  },
  {
   "cell_type": "markdown",
   "id": "980922ba",
   "metadata": {},
   "source": [
    "## Q9. Write a Python program that reads a CSV file containing categorical data and converts a specified column to a categorical data type. The program should prompt the user to enter the file path, column name, and category order, and then display the sorted data."
   ]
  },
  {
   "cell_type": "code",
   "execution_count": null,
   "id": "99b90938",
   "metadata": {},
   "outputs": [],
   "source": [
    "import pandas as pd\n",
    "\n",
    "def convert_to_categorical():\n",
    "    file_path = input('Enter CSV file path: ')\n",
    "    col_name = input('Enter column name to convert: ')\n",
    "    cat_order = input('Enter category order (comma separated): ').split(',')\n",
    "    df = pd.read_csv(file_path)\n",
    "    df[col_name] = pd.Categorical(df[col_name], categories=cat_order, ordered=True)\n",
    "    print(df.sort_values(col_name))\n",
    "\n",
    "# convert_to_categorical()"
   ]
  },
  {
   "cell_type": "markdown",
   "id": "c6e795d0",
   "metadata": {},
   "source": [
    "## Q10. Write a Python program that reads a CSV file containing sales data for different products and visualizes the data using a stacked bar chart to show the sales of each product category over time. The program should prompt the user to enter the file path and display the chart."
   ]
  },
  {
   "cell_type": "code",
   "execution_count": null,
   "id": "103d60d8",
   "metadata": {},
   "outputs": [],
   "source": [
    "import pandas as pd\n",
    "import matplotlib.pyplot as plt\n",
    "\n",
    "def plot_stacked_bar():\n",
    "    file_path = input('Enter CSV file path: ')\n",
    "    df = pd.read_csv(file_path)\n",
    "    df_grouped = df.groupby(['Date', 'Product']).sum().unstack('Product').fillna(0)\n",
    "    df_grouped.plot(kind='bar', stacked=True)\n",
    "    plt.ylabel('Sales')\n",
    "    plt.title('Sales by Product Category Over Time')\n",
    "    plt.show()\n",
    "\n",
    "# plot_stacked_bar()"
   ]
  },
  {
   "cell_type": "markdown",
   "id": "5f77c8bf",
   "metadata": {},
   "source": [
    "## Q11. You are given a CSV file containing student data that includes the student ID and their test score. Write a Python program that reads the CSV file, calculates the mean, median, and mode of the test scores, and displays the results in a table."
   ]
  },
  {
   "cell_type": "code",
   "execution_count": null,
   "id": "afa64f0c",
   "metadata": {},
   "outputs": [],
   "source": [
    "import pandas as pd\n",
    "\n",
    "def student_stats():\n",
    "    file_path = input('Enter the file path of the CSV file containing the student data: ')\n",
    "    df = pd.read_csv(file_path)\n",
    "    mean = df['Test Score'].mean()\n",
    "    median = df['Test Score'].median()\n",
    "    mode = ', '.join(map(str, df['Test Score'].mode().tolist()))\n",
    "    print('+-----------+--------+')\n",
    "    print('| Statistic | Value  |')\n",
    "    print('+-----------+--------+')\n",
    "    print(f'| Mean      | {mean:.1f}   |')\n",
    "    print(f'| Median    | {median}     |')\n",
    "    print(f'| Mode      | {mode} |')\n",
    "    print('+-----------+--------+')\n",
    "\n",
    "# student_stats()"
   ]
  }
 ],
 "metadata": {
  "language_info": {
   "name": "python"
  }
 },
 "nbformat": 4,
 "nbformat_minor": 5
}
