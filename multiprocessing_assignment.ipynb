{
 "cells": [
  {
   "cell_type": "markdown",
   "id": "db502733",
   "metadata": {},
   "source": [
    "Q1. What is multiprocessing in Python? Why is it useful?\n",
    "\n",
    "Answer:Multiprocessing in Python is a technique that allows a program to create multiple processes, each running independently and in parallel. Each process has its own Python interpreter and memory space. This is useful because it enables programs to take advantage of multiple CPU cores, allowing for true parallelism and improved performance, especially for CPU-bound tasks."
   ]
  },
  {
   "cell_type": "markdown",
   "id": "acdf0ec0",
   "metadata": {},
   "source": [
    "Q2. What are the differences between multiprocessing and multithreading?\n",
    "\n",
    "Answer:Multiprocessing uses multiple processes, each with its own memory space. It bypasses Python's Global Interpreter Lock (GIL), allowing true parallel execution on multiple CPU cores.\n",
    "Multithreading uses multiple threads within a single process, sharing the same memory space. In CPython, the GIL prevents true parallel execution of threads, so multithreading is best for I/O-bound tasks, not CPU-bound tasks."
   ]
  },
  {
   "cell_type": "markdown",
   "id": "fe3354ae",
   "metadata": {},
   "source": [
    "Q3. Write a python code to create a process using the multiprocessing module."
   ]
  },
  {
   "cell_type": "code",
   "execution_count": 1,
   "id": "f65ca679",
   "metadata": {},
   "outputs": [],
   "source": [
    "import multiprocessing\n",
    "\n",
    "def worker():\n",
    "    print(\"This is a process running.\")\n",
    "\n",
    "if __name__ == \"__main__\":\n",
    "    p = multiprocessing.Process(target=worker)\n",
    "    p.start()\n",
    "    p.join()"
   ]
  },
  {
   "cell_type": "markdown",
   "id": "6b30b723",
   "metadata": {},
   "source": [
    "Q4. What is a multiprocessing pool in Python? Why is it used?\n",
    "\n",
    "Answer:A multiprocessing pool in Python is a collection of worker processes managed by the Pool class in the multiprocessing module. It is used to parallelize the execution of a function across multiple input values, distributing the work among the available processes. This makes it easy to perform data parallelism and efficiently utilize multiple CPU cores."
   ]
  },
  {
   "cell_type": "markdown",
   "id": "f26ef13b",
   "metadata": {},
   "source": [
    "Q5. How can we create a pool of worker processes in Python using the multiprocessing module?"
   ]
  },
  {
   "cell_type": "code",
   "execution_count": null,
   "id": "551adbdf",
   "metadata": {},
   "outputs": [],
   "source": [
    "from multiprocessing import Pool\n",
    "\n",
    "def square(x):\n",
    "    return x * x\n",
    "\n",
    "if __name__ == \"__main__\":\n",
    "    with Pool(processes=4) as pool:\n",
    "        results = pool.map(square, [1, 2, 3, 4])\n",
    "        print(results)"
   ]
  },
  {
   "cell_type": "markdown",
   "id": "ac81d1f9",
   "metadata": {},
   "source": [
    "Q6. Write a python program to create 4 processes, each process should print a different number using the multiprocessing module in python."
   ]
  },
  {
   "cell_type": "code",
   "execution_count": null,
   "id": "b0ee28b9",
   "metadata": {},
   "outputs": [],
   "source": [
    "import multiprocessing\n",
    "\n",
    "def print_number(number):\n",
    "    print(f\"Process {multiprocessing.current_process().name} prints: {number}\")\n",
    "\n",
    "if __name__ == \"__main__\":\n",
    "    numbers = [10, 20, 30, 40]\n",
    "    processes = []\n",
    "    for i, num in enumerate(numbers):\n",
    "        p = multiprocessing.Process(target=print_number, args=(num,), name=f\"Process-{i+1}\")\n",
    "        processes.append(p)\n",
    "        p.start()\n",
    "    for p in processes:\n",
    "        p.join()"
   ]
  }
 ],
 "metadata": {
  "kernelspec": {
   "display_name": "env",
   "language": "python",
   "name": "python3"
  },
  "language_info": {
   "codemirror_mode": {
    "name": "ipython",
    "version": 3
   },
   "file_extension": ".py",
   "mimetype": "text/x-python",
   "name": "python",
   "nbconvert_exporter": "python",
   "pygments_lexer": "ipython3",
   "version": "3.10.18"
  }
 },
 "nbformat": 4,
 "nbformat_minor": 5
}
