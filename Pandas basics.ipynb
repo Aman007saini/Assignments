{
 "cells": [
  {
   "cell_type": "markdown",
   "id": "cbde4fba",
   "metadata": {},
   "source": [
    "# Pandas Basics Assignment\n",
    "\n",
    "## Q1. Create a Pandas Series that contains the following data: 4, 8, 15, 16, 23, and 42. Then, print the series."
   ]
  },
  {
   "cell_type": "code",
   "execution_count": null,
   "id": "634f7eb4",
   "metadata": {},
   "outputs": [],
   "source": [
    "import pandas as pd\n",
    "\n",
    "# Q1\n",
    "series1 = pd.Series([4, 8, 15, 16, 23, 42])\n",
    "print(series1)"
   ]
  },
  {
   "cell_type": "markdown",
   "id": "08933ac3",
   "metadata": {},
   "source": [
    "## Q2. Create a variable of list type containing 10 elements in it, and apply pandas.Series function on the variable. Print it."
   ]
  },
  {
   "cell_type": "code",
   "execution_count": null,
   "id": "c111600c",
   "metadata": {},
   "outputs": [],
   "source": [
    "# Q2\n",
    "my_list = [1, 2, 3, 4, 5, 6, 7, 8, 9, 10]\n",
    "series2 = pd.Series(my_list)\n",
    "print(series2)"
   ]
  },
  {
   "cell_type": "markdown",
   "id": "8715693c",
   "metadata": {},
   "source": [
    "## Q3. Create a Pandas DataFrame that contains the following data:\n",
    "# Name , Age, Gender\n",
    "# Alice, 25, Female\n",
    "# Bob, 30, Male\n",
    "# Claire, 27, Female\n",
    "# Then, print the DataFrame."
   ]
  },
  {
   "cell_type": "code",
   "execution_count": null,
   "id": "80065868",
   "metadata": {},
   "outputs": [],
   "source": [
    "# Q3\n",
    "import pandas as pd\n",
    "\n",
    "data = {\n",
    "    'Name': ['Alice', 'Bob', 'Claire'],\n",
    "    'Age': [25, 30, 27],\n",
    "    'Gender': ['Female', 'Male', 'Female']\n",
    "}\n",
    "df = pd.DataFrame(data)\n",
    "print(df)"
   ]
  },
  {
   "cell_type": "markdown",
   "id": "8591e2fd",
   "metadata": {},
   "source": [
    "## Q4. What is ‘DataFrame’ in pandas and how is it different from pandas.Series? Explain with an example.\n",
    "\n",
    "A **DataFrame** in pandas is a 2-dimensional labeled data structure with columns of potentially different types, similar to a spreadsheet or SQL table. A **Series** is a 1-dimensional labeled array.\n",
    "\n",
    "**Example:**\n",
    "- A Series can represent a single column of data (like a list).\n",
    "- A DataFrame can represent a table with multiple columns.\n",
    "\n",
    "```python\n",
    "# Series example\n",
    "s = pd.Series([10, 20, 30])\n",
    "# DataFrame example\n",
    "df = pd.DataFrame({'A': [10, 20, 30], 'B': [40, 50, 60]})\n",
    "```"
   ]
  },
  {
   "cell_type": "markdown",
   "id": "b765b860",
   "metadata": {},
   "source": [
    "## Q5. What are some common functions you can use to manipulate data in a Pandas DataFrame? Can you give an example of when you might use one of these functions?\n",
    "\n",
    "Some common functions:\n",
    "- `head()`, `tail()`: View the first/last rows\n",
    "- `describe()`: Get summary statistics\n",
    "- `sort_values()`: Sort by column values\n",
    "- `groupby()`: Group data for aggregation\n",
    "- `drop()`: Remove rows or columns\n",
    "- `fillna()`: Fill missing values\n",
    "\n",
    "**Example:**\n",
    "You might use `groupby()` to calculate the average age by gender:\n",
    "\n",
    "```python\n",
    "df.groupby('Gender')['Age'].mean()\n",
    "```"
   ]
  },
  {
   "cell_type": "markdown",
   "id": "d02a1c78",
   "metadata": {},
   "source": [
    "## Q6. Which of the following is mutable in nature Series, DataFrame, Panel?\n",
    "\n",
    "All three (Series, DataFrame, Panel) are mutable in pandas. However, Panel is deprecated in recent versions of pandas."
   ]
  },
  {
   "cell_type": "markdown",
   "id": "e9afff8b",
   "metadata": {},
   "source": [
    "## Q7. Create a DataFrame using multiple Series. Explain with an example."
   ]
  },
  {
   "cell_type": "code",
   "execution_count": null,
   "id": "44a286fa",
   "metadata": {},
   "outputs": [],
   "source": [
    "# Q7\n",
    "import pandas as pd\n",
    "\n",
    "names = pd.Series(['Tom', 'Jerry', 'Spike'])\n",
    "ages = pd.Series([5, 3, 7])\n",
    "genders = pd.Series(['Male', 'Male', 'Male'])\n",
    "\n",
    "df2 = pd.DataFrame({'Name': names, 'Age': ages, 'Gender': genders})\n",
    "print(df2)"
   ]
  },
  {
   "cell_type": "markdown",
   "id": "5cbc8e53",
   "metadata": {},
   "source": [
    "**Explanation:**\n",
    "Each Series represents a column. By combining them in a dictionary, we create a DataFrame where each Series becomes a column in the table."
   ]
  }
 ],
 "metadata": {
  "language_info": {
   "name": "python"
  }
 },
 "nbformat": 4,
 "nbformat_minor": 5
}
