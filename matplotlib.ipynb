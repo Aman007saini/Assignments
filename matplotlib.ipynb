{
 "cells": [
  {
   "cell_type": "markdown",
   "id": "ae2383db",
   "metadata": {},
   "source": [
    "# Matplotlib Assignment\n",
    "\n",
    "## Q1: What is Matplotlib? Why is it used? Name five plots that can be plotted using the Pyplot module of Matplotlib."
   ]
  },
  {
   "cell_type": "markdown",
   "id": "fcbf6c3b",
   "metadata": {},
   "source": [
    "**Matplotlib** is a popular Python library for data visualization. It is used to create static, interactive, and animated visualizations in Python. Matplotlib is widely used for plotting a variety of graphs and charts to analyze and present data.\n",
    "\n",
    "**Five plots that can be plotted using Pyplot:**\n",
    "1. Line plot\n",
    "2. Scatter plot\n",
    "3. Bar plot\n",
    "4. Histogram\n",
    "5. Box plot"
   ]
  },
  {
   "cell_type": "markdown",
   "id": "4737c909",
   "metadata": {},
   "source": [
    "## Q2: What is a scatter plot? Use the following code to generate data for x and y. Using this generated data plot a scatter plot."
   ]
  },
  {
   "cell_type": "code",
   "execution_count": null,
   "id": "5bf60631",
   "metadata": {},
   "outputs": [],
   "source": [
    "import numpy as np\n",
    "import matplotlib.pyplot as plt\n",
    "\n",
    "np.random.seed(3)\n",
    "x = 3 + np.random.normal(0, 2, 50)\n",
    "y = 3 + np.random.normal(0, 2, len(x))\n",
    "\n",
    "plt.figure(figsize=(6,4))\n",
    "plt.scatter(x, y, color='blue')\n",
    "plt.title('Scatter Plot of Random Data')\n",
    "plt.xlabel('X values')\n",
    "plt.ylabel('Y values')\n",
    "plt.show()"
   ]
  },
  {
   "cell_type": "markdown",
   "id": "4398e3d9",
   "metadata": {},
   "source": [
    "## Q3: Why is the subplot() function used? Draw four line plots using the subplot() function."
   ]
  },
  {
   "cell_type": "markdown",
   "id": "303e8fd0",
   "metadata": {},
   "source": [
    "The `subplot()` function in Matplotlib is used to display multiple plots in a single figure. It allows you to arrange multiple plots in a grid layout, making it easier to compare different visualizations side by side."
   ]
  },
  {
   "cell_type": "code",
   "execution_count": null,
   "id": "f2a67bb7",
   "metadata": {},
   "outputs": [],
   "source": [
    "import numpy as np\n",
    "import matplotlib.pyplot as plt\n",
    "\n",
    "x = np.array([0, 1, 2, 3, 4, 5])\n",
    "\n",
    "plt.figure(figsize=(10,8))\n",
    "\n",
    "# Line 1\n",
    "plt.subplot(2,2,1)\n",
    "y1 = np.array([0, 100, 200, 300, 400, 500])\n",
    "plt.plot(x, y1)\n",
    "plt.title('Line 1')\n",
    "\n",
    "# Line 2\n",
    "plt.subplot(2,2,2)\n",
    "y2 = np.array([50, 20, 40, 20, 60, 70])\n",
    "plt.plot(x, y2, 'r')\n",
    "plt.title('Line 2')\n",
    "\n",
    "# Line 3\n",
    "plt.subplot(2,2,3)\n",
    "y3 = np.array([10, 20, 30, 40, 50, 60])\n",
    "plt.plot(x, y3, 'g')\n",
    "plt.title('Line 3')\n",
    "\n",
    "# Line 4\n",
    "plt.subplot(2,2,4)\n",
    "y4 = np.array([200, 350, 250, 550, 450, 150])\n",
    "plt.plot(x, y4, 'm')\n",
    "plt.title('Line 4')\n",
    "\n",
    "plt.tight_layout()\n",
    "plt.show()"
   ]
  },
  {
   "cell_type": "markdown",
   "id": "1c92f70e",
   "metadata": {},
   "source": [
    "## Q4: What is a bar plot? Why is it used? Using the following data plot a bar plot and a horizontal bar plot."
   ]
  },
  {
   "cell_type": "markdown",
   "id": "3c635b61",
   "metadata": {},
   "source": [
    "A **bar plot** is a chart that represents categorical data with rectangular bars. The length of each bar is proportional to the value it represents. Bar plots are used to compare quantities across different categories."
   ]
  },
  {
   "cell_type": "code",
   "execution_count": null,
   "id": "4a79221d",
   "metadata": {},
   "outputs": [],
   "source": [
    "import numpy as np\n",
    "import matplotlib.pyplot as plt\n",
    "\n",
    "company = np.array([\"Apple\", \"Microsoft\", \"Google\", \"AMD\"])\n",
    "profit = np.array([3000, 8000, 1000, 10000])\n",
    "\n",
    "plt.figure(figsize=(8,4))\n",
    "plt.bar(company, profit, color='skyblue')\n",
    "plt.title('Company Profits - Bar Plot')\n",
    "plt.xlabel('Company')\n",
    "plt.ylabel('Profit')\n",
    "plt.show()\n",
    "\n",
    "plt.figure(figsize=(8,4))\n",
    "plt.barh(company, profit, color='orange')\n",
    "plt.title('Company Profits - Horizontal Bar Plot')\n",
    "plt.xlabel('Profit')\n",
    "plt.ylabel('Company')\n",
    "plt.show()"
   ]
  },
  {
   "cell_type": "markdown",
   "id": "a4ba67ae",
   "metadata": {},
   "source": [
    "## Q5: What is a box plot? Why is it used? Using the following data plot a box plot."
   ]
  },
  {
   "cell_type": "markdown",
   "id": "20958685",
   "metadata": {},
   "source": [
    "A **box plot** (box-and-whisker plot) is a graphical representation of the distribution of a dataset. It shows the median, quartiles, and outliers. Box plots are used to visualize the spread and skewness of the data and to identify outliers."
   ]
  },
  {
   "cell_type": "code",
   "execution_count": null,
   "id": "898d849e",
   "metadata": {},
   "outputs": [],
   "source": [
    "import numpy as np\n",
    "import matplotlib.pyplot as plt\n",
    "\n",
    "box1 = np.random.normal(100, 10, 200)\n",
    "box2 = np.random.normal(90, 20, 200)\n",
    "\n",
    "plt.figure(figsize=(6,4))\n",
    "plt.boxplot([box1, box2], labels=['Box1', 'Box2'])\n",
    "plt.title('Box Plot Example')\n",
    "plt.ylabel('Values')\n",
    "plt.show()"
   ]
  }
 ],
 "metadata": {
  "language_info": {
   "name": "python"
  }
 },
 "nbformat": 4,
 "nbformat_minor": 5
}
