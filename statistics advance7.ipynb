{
 "cells": [
  {
   "cell_type": "markdown",
   "id": "3b30f83a",
   "metadata": {},
   "source": [
    "# Statistics Advance 7 Assignment"
   ]
  },
  {
   "cell_type": "markdown",
   "id": "9e287771",
   "metadata": {},
   "source": [
    "## Q1. Write a Python function that takes in two arrays of data and calculates the F-value for a variance ratio test. The function should return the F-value and the corresponding p-value for the test."
   ]
  },
  {
   "cell_type": "code",
   "execution_count": null,
   "id": "eade88cd",
   "metadata": {},
   "outputs": [],
   "source": [
    "import numpy as np\n",
    "from scipy.stats import f\n",
    "\n",
    "def variance_ratio_test(arr1, arr2):\n",
    "    var1 = np.var(arr1, ddof=1)\n",
    "    var2 = np.var(arr2, ddof=1)\n",
    "    f_value = var1 / var2\n",
    "    dfn = len(arr1) - 1\n",
    "    dfd = len(arr2) - 1\n",
    "    p_value = 2 * min(f.cdf(f_value, dfn, dfd), 1 - f.cdf(f_value, dfn, dfd))\n",
    "    return f_value, p_value\n",
    "\n",
    "# Example usage:\n",
    "# arr1 = [10, 12, 9, 11]\n",
    "# arr2 = [20, 22, 19, 21]\n",
    "# print(variance_ratio_test(arr1, arr2))"
   ]
  },
  {
   "cell_type": "markdown",
   "id": "9da85047",
   "metadata": {},
   "source": [
    "## Q2. Given a significance level of 0.05 and the degrees of freedom for the numerator and denominator of an F-distribution, write a Python function that returns the critical F-value for a two-tailed test."
   ]
  },
  {
   "cell_type": "code",
   "execution_count": null,
   "id": "466a7ff6",
   "metadata": {},
   "outputs": [],
   "source": [
    "from scipy.stats import f\n",
    "\n",
    "def critical_f_value(alpha, dfn, dfd):\n",
    "    lower = f.ppf(alpha/2, dfn, dfd)\n",
    "    upper = f.ppf(1 - alpha/2, dfn, dfd)\n",
    "    return lower, upper\n",
    "\n",
    "# Example usage:\n",
    "# print(critical_f_value(0.05, 5, 10))"
   ]
  },
  {
   "cell_type": "markdown",
   "id": "fa152d30",
   "metadata": {},
   "source": [
    "## Q3. Write a Python program that generates random samples from two normal distributions with known variances and uses an F-test to determine if the variances are equal. The program should output the F-value, degrees of freedom, and p-value for the test."
   ]
  },
  {
   "cell_type": "code",
   "execution_count": null,
   "id": "961371d8",
   "metadata": {},
   "outputs": [],
   "source": [
    "import numpy as np\n",
    "from scipy.stats import f\n",
    "\n",
    "np.random.seed(0)\n",
    "sample1 = np.random.normal(0, 2, 30)\n",
    "sample2 = np.random.normal(0, 3, 30)\n",
    "var1 = np.var(sample1, ddof=1)\n",
    "var2 = np.var(sample2, ddof=1)\n",
    "f_value = var1 / var2\n",
    "dfn = len(sample1) - 1\n",
    "dfd = len(sample2) - 1\n",
    "p_value = 2 * min(f.cdf(f_value, dfn, dfd), 1 - f.cdf(f_value, dfn, dfd))\n",
    "print(f\"F-value: {f_value:.3f}, dfn: {dfn}, dfd: {dfd}, p-value: {p_value:.4f}\")"
   ]
  },
  {
   "cell_type": "markdown",
   "id": "6fe00031",
   "metadata": {},
   "source": [
    "## Q4. The variances of two populations are known to be 10 and 15. A sample of 12 observations is taken from each population. Conduct an F-test at the 5% significance level to determine if the variances are significantly different."
   ]
  },
  {
   "cell_type": "code",
   "execution_count": null,
   "id": "0f809e5c",
   "metadata": {},
   "outputs": [],
   "source": [
    "from scipy.stats import f\n",
    "\n",
    "var1 = 10\n",
    "var2 = 15\n",
    "n1 = n2 = 12\n",
    "dfn = n1 - 1\n",
    "dfd = n2 - 1\n",
    "f_value = var1 / var2\n",
    "p_value = 2 * min(f.cdf(f_value, dfn, dfd), 1 - f.cdf(f_value, dfn, dfd))\n",
    "print(f\"F-value: {f_value:.3f}, p-value: {p_value:.4f}\")\n",
    "if p_value < 0.05:\n",
    "    print(\"Variances are significantly different.\")\n",
    "else:\n",
    "    print(\"No significant difference in variances.\")"
   ]
  },
  {
   "cell_type": "markdown",
   "id": "532415cc",
   "metadata": {},
   "source": [
    "## Q5. A manufacturer claims that the variance of the diameter of a certain product is 0.005. A sample of 25 products is taken, and the sample variance is found to be 0.006. Conduct an F-test at the 1% significance level to determine if the claim is justified."
   ]
  },
  {
   "cell_type": "code",
   "execution_count": null,
   "id": "7720994e",
   "metadata": {},
   "outputs": [],
   "source": [
    "from scipy.stats import f\n",
    "\n",
    "claimed_var = 0.005\n",
    "sample_var = 0.006\n",
    "n = 25\n",
    "dfn = n - 1\n",
    "dfd = n - 1\n",
    "f_value = sample_var / claimed_var\n",
    "p_value = 2 * min(f.cdf(f_value, dfn, dfd), 1 - f.cdf(f_value, dfn, dfd))\n",
    "print(f\"F-value: {f_value:.3f}, p-value: {p_value:.4f}\")\n",
    "if p_value < 0.01:\n",
    "    print(\"Variance is significantly different from the claim.\")\n",
    "else:\n",
    "    print(\"No significant difference from the claim.\")"
   ]
  },
  {
   "cell_type": "markdown",
   "id": "f07e0241",
   "metadata": {},
   "source": [
    "## Q6. Write a Python function that takes in the degrees of freedom for the numerator and denominator of an F-distribution and calculates the mean and variance of the distribution. The function should return the mean and variance as a tuple."
   ]
  },
  {
   "cell_type": "code",
   "execution_count": null,
   "id": "3dd35941",
   "metadata": {},
   "outputs": [],
   "source": [
    "def f_distribution_mean_variance(dfn, dfd):\n",
    "    if dfd > 2:\n",
    "        mean = dfd / (dfd - 2)\n",
    "    else:\n",
    "        mean = float('inf')\n",
    "    if dfd > 4:\n",
    "        variance = (2 * dfd**2 * (dfn + dfd - 2)) / (dfn * (dfd - 2)**2 * (dfd - 4))\n",
    "    else:\n",
    "        variance = float('inf')\n",
    "    return mean, variance\n",
    "\n",
    "# Example usage:\n",
    "# print(f_distribution_mean_variance(5, 10))"
   ]
  },
  {
   "cell_type": "markdown",
   "id": "4e0281eb",
   "metadata": {},
   "source": [
    "## Q7. A random sample of 10 measurements is taken from a normal population with unknown variance. The sample variance is found to be 25. Another random sample of 15 measurements is taken from another normal population with unknown variance, and the sample variance is found to be 20. Conduct an F-test at the 10% significance level to determine if the variances are significantly different."
   ]
  },
  {
   "cell_type": "code",
   "execution_count": null,
   "id": "ff8c2a06",
   "metadata": {},
   "outputs": [],
   "source": [
    "from scipy.stats import f\n",
    "\n",
    "var1 = 25\n",
    "var2 = 20\n",
    "n1 = 10\n",
    "n2 = 15\n",
    "dfn = n1 - 1\n",
    "dfd = n2 - 1\n",
    "f_value = var1 / var2\n",
    "p_value = 2 * min(f.cdf(f_value, dfn, dfd), 1 - f.cdf(f_value, dfn, dfd))\n",
    "print(f\"F-value: {f_value:.3f}, p-value: {p_value:.4f}\")\n",
    "if p_value < 0.10:\n",
    "    print(\"Variances are significantly different.\")\n",
    "else:\n",
    "    print(\"No significant difference in variances.\")"
   ]
  },
  {
   "cell_type": "markdown",
   "id": "8e1c8cfe",
   "metadata": {},
   "source": [
    "## Q8. The following data represent the waiting times in minutes at two different restaurants on a Saturday night: Restaurant A: 24, 25, 28, 23, 22, 20, 27; Restaurant B: 31, 33, 35, 30, 32, 36. Conduct an F-test at the 5% significance level to determine if the variances are significantly different."
   ]
  },
  {
   "cell_type": "code",
   "execution_count": null,
   "id": "550d7940",
   "metadata": {},
   "outputs": [],
   "source": [
    "import numpy as np\n",
    "from scipy.stats import f\n",
    "\n",
    "rest_a = [24, 25, 28, 23, 22, 20, 27]\n",
    "rest_b = [31, 33, 35, 30, 32, 36]\n",
    "var_a = np.var(rest_a, ddof=1)\n",
    "var_b = np.var(rest_b, ddof=1)\n",
    "dfn = len(rest_a) - 1\n",
    "dfd = len(rest_b) - 1\n",
    "f_value = var_a / var_b\n",
    "p_value = 2 * min(f.cdf(f_value, dfn, dfd), 1 - f.cdf(f_value, dfn, dfd))\n",
    "print(f\"F-value: {f_value:.3f}, p-value: {p_value:.4f}\")\n",
    "if p_value < 0.05:\n",
    "    print(\"Variances are significantly different.\")\n",
    "else:\n",
    "    print(\"No significant difference in variances.\")"
   ]
  },
  {
   "cell_type": "markdown",
   "id": "9a892017",
   "metadata": {},
   "source": [
    "## Q9. The following data represent the test scores of two groups of students: Group A: 80, 85, 90, 92, 87, 83; Group B: 75, 78, 82, 79, 81, 84. Conduct an F-test at the 1% significance level to determine if the variances are significantly different."
   ]
  },
  {
   "cell_type": "code",
   "execution_count": null,
   "id": "44e7e94a",
   "metadata": {},
   "outputs": [],
   "source": [
    "import numpy as np\n",
    "from scipy.stats import f\n",
    "\n",
    "group_a = [80, 85, 90, 92, 87, 83]\n",
    "group_b = [75, 78, 82, 79, 81, 84]\n",
    "var_a = np.var(group_a, ddof=1)\n",
    "var_b = np.var(group_b, ddof=1)\n",
    "dfn = len(group_a) - 1\n",
    "dfd = len(group_b) - 1\n",
    "f_value = var_a / var_b\n",
    "p_value = 2 * min(f.cdf(f_value, dfn, dfd), 1 - f.cdf(f_value, dfn, dfd))\n",
    "print(f\"F-value: {f_value:.3f}, p-value: {p_value:.4f}\")\n",
    "if p_value < 0.01:\n",
    "    print(\"Variances are significantly different.\")\n",
    "else:\n",
    "    print(\"No significant difference in variances.\")"
   ]
  }
 ],
 "metadata": {
  "language_info": {
   "name": "python"
  }
 },
 "nbformat": 4,
 "nbformat_minor": 5
}
