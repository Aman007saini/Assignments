{
 "cells": [
  {
   "cell_type": "markdown",
   "id": "fa45791e",
   "metadata": {},
   "source": [
    "# Plotly Assignment\n",
    "\n",
    "## Q1. Load the \"titanic\" dataset using the load_dataset function of seaborn. Use Plotly express to plot a scatter plot for age and fare columns in the titanic dataset."
   ]
  },
  {
   "cell_type": "code",
   "execution_count": null,
   "id": "7d6b46c2",
   "metadata": {},
   "outputs": [],
   "source": [
    "import seaborn as sns\n",
    "import plotly.express as px\n",
    "\n",
    "titanic = sns.load_dataset('titanic')\n",
    "fig = px.scatter(titanic, x='age', y='fare', title='Titanic: Age vs Fare', labels={'age': 'Age', 'fare': 'Fare'})\n",
    "fig.show()"
   ]
  },
  {
   "cell_type": "markdown",
   "id": "8e567248",
   "metadata": {},
   "source": [
    "## Q2. Using the tips dataset in the Plotly library, plot a box plot using Plotly express."
   ]
  },
  {
   "cell_type": "code",
   "execution_count": null,
   "id": "a7b8e4fa",
   "metadata": {},
   "outputs": [],
   "source": [
    "import plotly.express as px\n",
    "\n",
    "tips = px.data.tips()\n",
    "fig = px.box(tips, x='day', y='total_bill', color='sex', title='Box Plot of Total Bill by Day and Sex')\n",
    "fig.show()"
   ]
  },
  {
   "cell_type": "markdown",
   "id": "49078e6d",
   "metadata": {},
   "source": [
    "## Q3. Using the tips dataset in the Plotly library, Plot a histogram for x= \"sex\" and y=\"total_bill\" column in the tips dataset. Also, use the \"smoker\" column with the pattern_shape parameter and the \"day\" column with the color parameter."
   ]
  },
  {
   "cell_type": "code",
   "execution_count": null,
   "id": "b10f449f",
   "metadata": {},
   "outputs": [],
   "source": [
    "import plotly.express as px\n",
    "\n",
    "tips = px.data.tips()\n",
    "fig = px.histogram(tips, x='sex', y='total_bill', color='day', pattern_shape='smoker',\n",
    "                   title='Histogram of Total Bill by Sex, Day, and Smoker')\n",
    "fig.show()"
   ]
  },
  {
   "cell_type": "markdown",
   "id": "7261218e",
   "metadata": {},
   "source": [
    "## Q4. Using the iris dataset in the Plotly library, Plot a scatter matrix plot, using the \"species\" column for the color parameter.\n",
    "Note: Use \"sepal_length\", \"sepal_width\", \"petal_length\", \"petal_width\" columns only with the dimensions parameter."
   ]
  },
  {
   "cell_type": "code",
   "execution_count": null,
   "id": "1ee6811a",
   "metadata": {},
   "outputs": [],
   "source": [
    "import plotly.express as px\n",
    "\n",
    "iris = px.data.iris()\n",
    "fig = px.scatter_matrix(iris, dimensions=[\"sepal_length\", \"sepal_width\", \"petal_length\", \"petal_width\"], color=\"species\",\n",
    "                       title='Scatter Matrix of Iris Dataset')\n",
    "fig.show()"
   ]
  },
  {
   "cell_type": "markdown",
   "id": "8f9ec5b4",
   "metadata": {},
   "source": [
    "## Q5. What is Distplot? Using Plotly express, plot a distplot."
   ]
  },
  {
   "cell_type": "markdown",
   "id": "a53c2c08",
   "metadata": {},
   "source": [
    "A **distplot** (distribution plot) is used to visualize the distribution of a dataset, showing the probability density of a continuous variable. In Plotly Express, the equivalent is `px.histogram` or `px.density_contour`/`px.density_heatmap` for continuous distributions."
   ]
  },
  {
   "cell_type": "code",
   "execution_count": null,
   "id": "ef733bf7",
   "metadata": {},
   "outputs": [],
   "source": [
    "import plotly.express as px\n",
    "\n",
    "tips = px.data.tips()\n",
    "fig = px.histogram(tips, x='total_bill', nbins=30, marginal='box', title='Distribution Plot of Total Bill')\n",
    "fig.show()"
   ]
  }
 ],
 "metadata": {
  "language_info": {
   "name": "python"
  }
 },
 "nbformat": 4,
 "nbformat_minor": 5
}
