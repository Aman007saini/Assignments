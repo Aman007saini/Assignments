{
 "cells": [
  {
   "cell_type": "markdown",
   "id": "e9c8d890",
   "metadata": {},
   "source": [
    "# Feature Engineering - 6"
   ]
  },
  {
   "cell_type": "markdown",
   "id": "92980b90",
   "metadata": {},
   "source": [
    "## Q1. Pearson correlation coefficient is a measure of the linear relationship between two variables. Suppose you have collected data on the amount of time students spend studying for an exam and their final exam scores. Calculate the Pearson correlation coefficient between these two variables and interpret the result."
   ]
  },
  {
   "cell_type": "code",
   "execution_count": null,
   "id": "9f8b858f",
   "metadata": {},
   "outputs": [],
   "source": [
    "import numpy as np\n",
    "from scipy.stats import pearsonr\n",
    "\n",
    "# Example data\n",
    "study_hours = np.array([2, 4, 6, 8, 10])\n",
    "exam_scores = np.array([60, 65, 70, 80, 85])\n",
    "\n",
    "corr, p_value = pearsonr(study_hours, exam_scores)\n",
    "print(f\"Pearson correlation coefficient: {corr:.2f}, p-value: {p_value:.4f}\")"
   ]
  },
  {
   "cell_type": "markdown",
   "id": "4b406c78",
   "metadata": {},
   "source": [
    "**Interpretation:**\n",
    "\n",
    "A Pearson correlation coefficient close to 1 indicates a strong positive linear relationship between study hours and exam scores."
   ]
  },
  {
   "cell_type": "markdown",
   "id": "5676a49d",
   "metadata": {},
   "source": [
    "## Q2. Spearman's rank correlation is a measure of the monotonic relationship between two variables. Suppose you have collected data on the amount of sleep individuals get each night and their overall job satisfaction level on a scale of 1 to 10. Calculate the Spearman's rank correlation between these two variables and interpret the result."
   ]
  },
  {
   "cell_type": "code",
   "execution_count": null,
   "id": "7693e3d1",
   "metadata": {},
   "outputs": [],
   "source": [
    "import numpy as np\n",
    "from scipy.stats import spearmanr\n",
    "\n",
    "# Example data\n",
    "sleep_hours = np.array([6, 7, 5, 8, 6])\n",
    "job_satisfaction = np.array([5, 7, 4, 9, 6])\n",
    "\n",
    "corr, p_value = spearmanr(sleep_hours, job_satisfaction)\n",
    "print(f\"Spearman's rank correlation: {corr:.2f}, p-value: {p_value:.4f}\")"
   ]
  },
  {
   "cell_type": "markdown",
   "id": "d86c93aa",
   "metadata": {},
   "source": [
    "**Interpretation:**\n",
    "\n",
    "A Spearman's rank correlation close to 1 indicates a strong monotonic relationship between sleep hours and job satisfaction."
   ]
  },
  {
   "cell_type": "markdown",
   "id": "eef1cf9f",
   "metadata": {},
   "source": [
    "## Q3. Suppose you are conducting a study to examine the relationship between the number of hours of exercise per week and body mass index (BMI) in a sample of adults. You collected data on both variables for 50 participants. Calculate the Pearson correlation coefficient and the Spearman's rank correlation between these two variables and compare the results."
   ]
  },
  {
   "cell_type": "code",
   "execution_count": null,
   "id": "fad8c660",
   "metadata": {},
   "outputs": [],
   "source": [
    "import numpy as np\n",
    "from scipy.stats import pearsonr, spearmanr\n",
    "\n",
    "np.random.seed(0)\n",
    "exercise_hours = np.random.randint(0, 10, 50)\n",
    "bmi = np.random.normal(25, 3, 50)\n",
    "\n",
    "pearson_corr, _ = pearsonr(exercise_hours, bmi)\n",
    "spearman_corr, _ = spearmanr(exercise_hours, bmi)\n",
    "print(f\"Pearson: {pearson_corr:.2f}, Spearman: {spearman_corr:.2f}\")"
   ]
  },
  {
   "cell_type": "markdown",
   "id": "f59a3d35",
   "metadata": {},
   "source": [
    "**Comparison:**\n",
    "\n",
    "Pearson measures linear correlation, while Spearman measures monotonic correlation. If the values are similar, the relationship is likely linear; if not, it may be monotonic but not linear."
   ]
  },
  {
   "cell_type": "markdown",
   "id": "c2724820",
   "metadata": {},
   "source": [
    "## Q4. A researcher is interested in examining the relationship between the number of hours individuals spend watching television per day and their level of physical activity. The researcher collected data on both variables from a sample of 50 participants. Calculate the Pearson correlation coefficient between these two variables."
   ]
  },
  {
   "cell_type": "code",
   "execution_count": null,
   "id": "a55b7b80",
   "metadata": {},
   "outputs": [],
   "source": [
    "import numpy as np\n",
    "from scipy.stats import pearsonr\n",
    "\n",
    "np.random.seed(1)\n",
    "tv_hours = np.random.randint(1, 6, 50)\n",
    "physical_activity = np.random.randint(1, 11, 50)\n",
    "\n",
    "corr, p_value = pearsonr(tv_hours, physical_activity)\n",
    "print(f\"Pearson correlation coefficient: {corr:.2f}, p-value: {p_value:.4f}\")"
   ]
  },
  {
   "cell_type": "markdown",
   "id": "683df260",
   "metadata": {},
   "source": [
    "## Q5. A survey was conducted to examine the relationship between age and preference for a particular brand of soft drink. The survey results are shown below:\n",
    "\n",
    "Age(Years): 25, 42, 37, 19, 31, 28\n",
    "Soft drink Preference: Coke, Pepsi, Mountain dew, Coke, Pepsi, Coke"
   ]
  },
  {
   "cell_type": "code",
   "execution_count": null,
   "id": "802231eb",
   "metadata": {},
   "outputs": [],
   "source": [
    "import pandas as pd\n",
    "from scipy.stats import spearmanr\n",
    "\n",
    "age = [25, 42, 37, 19, 31, 28]\n",
    "pref = ['Coke', 'Pepsi', 'Mountain dew', 'Coke', 'Pepsi', 'Coke']\n",
    "\n",
    "# Encode preferences\n",
    "pref_map = {'Coke': 0, 'Pepsi': 1, 'Mountain dew': 2}\n",
    "pref_encoded = [pref_map[x] for x in pref]\n",
    "\n",
    "corr, p_value = spearmanr(age, pref_encoded)\n",
    "print(f\"Spearman's rank correlation: {corr:.2f}, p-value: {p_value:.4f}\")"
   ]
  },
  {
   "cell_type": "markdown",
   "id": "3fb32fb9",
   "metadata": {},
   "source": [
    "**Interpretation:**\n",
    "\n",
    "Spearman's rank correlation is used here because preference is categorical. The result shows the strength and direction of the association between age and soft drink preference."
   ]
  },
  {
   "cell_type": "markdown",
   "id": "fe061f61",
   "metadata": {},
   "source": [
    "## Q6. A company is interested in examining the relationship between the number of sales calls made per day and the number of sales made per week. The company collected data on both variables from a sample of 30 sales representatives. Calculate the Pearson correlation coefficient between these two variables."
   ]
  },
  {
   "cell_type": "code",
   "execution_count": null,
   "id": "98cbf0d0",
   "metadata": {},
   "outputs": [],
   "source": [
    "import numpy as np\n",
    "from scipy.stats import pearsonr\n",
    "\n",
    "np.random.seed(2)\n",
    "sales_calls = np.random.randint(10, 50, 30)\n",
    "sales_made = np.random.randint(1, 20, 30)\n",
    "\n",
    "corr, p_value = pearsonr(sales_calls, sales_made)\n",
    "print(f\"Pearson correlation coefficient: {corr:.2f}, p-value: {p_value:.4f}\")"
   ]
  }
 ],
 "metadata": {
  "language_info": {
   "name": "python"
  }
 },
 "nbformat": 4,
 "nbformat_minor": 5
}
