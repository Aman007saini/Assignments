{
 "cells": [
  {
   "cell_type": "markdown",
   "id": "e98054b6",
   "metadata": {},
   "source": [
    "# Exploratory Data Analysis - 1"
   ]
  },
  {
   "cell_type": "markdown",
   "id": "6545873c",
   "metadata": {},
   "source": [
    "## Q1. What are the key features of the wine quality data set? Discuss the importance of each feature in predicting the quality of wine."
   ]
  },
  {
   "cell_type": "markdown",
   "id": "b2b8ac7b",
   "metadata": {},
   "source": [
    "**Answer:**\n",
    "\n",
    "Key features typically include: fixed acidity, volatile acidity, citric acid, residual sugar, chlorides, free sulfur dioxide, total sulfur dioxide, density, pH, sulphates, alcohol. Each feature can influence wine quality, e.g., high volatile acidity can negatively impact taste, while alcohol and sulphates often have a positive effect."
   ]
  },
  {
   "cell_type": "markdown",
   "id": "0d99eb9b",
   "metadata": {},
   "source": [
    "## Q2. How did you handle missing data in the wine quality data set during the feature engineering process? Discuss the advantages and disadvantages of different imputation techniques."
   ]
  },
  {
   "cell_type": "markdown",
   "id": "23f4d037",
   "metadata": {},
   "source": [
    "**Answer:**\n",
    "\n",
    "Common techniques: mean/median imputation, mode imputation, KNN imputation, or dropping rows. Mean/median is simple but may distort distributions. KNN preserves relationships but is computationally expensive. Dropping rows can reduce data size and bias results."
   ]
  },
  {
   "cell_type": "markdown",
   "id": "638ae324",
   "metadata": {},
   "source": [
    "## Q3. What are the key factors that affect students' performance in exams? How would you go about analyzing these factors using statistical techniques?"
   ]
  },
  {
   "cell_type": "markdown",
   "id": "12c2667a",
   "metadata": {},
   "source": [
    "**Answer:**\n",
    "\n",
    "Key factors: study time, attendance, parental education, previous grades, socio-economic status, health, etc. Analyze using correlation, regression, and hypothesis testing to identify significant predictors."
   ]
  },
  {
   "cell_type": "markdown",
   "id": "81e8caad",
   "metadata": {},
   "source": [
    "## Q4. Describe the process of feature engineering in the context of the student performance data set. How did you select and transform the variables for your model?"
   ]
  },
  {
   "cell_type": "markdown",
   "id": "b1a48efd",
   "metadata": {},
   "source": [
    "**Answer:**\n",
    "\n",
    "Process: Identify relevant features (e.g., study time, absences), encode categorical variables (e.g., gender, school), scale numerical features, create new features (e.g., average grade), and remove irrelevant or redundant variables."
   ]
  },
  {
   "cell_type": "markdown",
   "id": "58413339",
   "metadata": {},
   "source": [
    "## Q5. Load the wine quality data set and perform exploratory data analysis (EDA) to identify the distribution of each feature. Which feature(s) exhibit non-normality, and what transformations could be applied to these features to improve normality?"
   ]
  },
  {
   "cell_type": "code",
   "execution_count": null,
   "id": "5a1e985a",
   "metadata": {},
   "outputs": [],
   "source": [
    "import pandas as pd\n",
    "import matplotlib.pyplot as plt\n",
    "import seaborn as sns\n",
    "\n",
    "# Load the wine quality dataset (update path as needed)\n",
    "wine = pd.read_csv('winequality-red.csv')\n",
    "\n",
    "# Plot distributions\n",
    "wine.hist(bins=20, figsize=(15, 10))\n",
    "plt.tight_layout()\n",
    "plt.show()\n",
    "\n",
    "# Check skewness\n",
    "print(wine.skew())"
   ]
  },
  {
   "cell_type": "markdown",
   "id": "12d97087",
   "metadata": {},
   "source": [
    "**Answer:**\n",
    "\n",
    "Features with high skewness (e.g., residual sugar, chlorides) exhibit non-normality. Log or Box-Cox transformations can be applied to improve normality."
   ]
  },
  {
   "cell_type": "markdown",
   "id": "0f58fd1c",
   "metadata": {},
   "source": [
    "## Q6. Using the wine quality data set, perform principal component analysis (PCA) to reduce the number of features. What is the minimum number of principal components required to explain 90% of the variance in the data?"
   ]
  },
  {
   "cell_type": "code",
   "execution_count": null,
   "id": "ba168621",
   "metadata": {},
   "outputs": [],
   "source": [
    "from sklearn.preprocessing import StandardScaler\n",
    "from sklearn.decomposition import PCA\n",
    "import pandas as pd\n",
    "\n",
    "wine = pd.read_csv('winequality-red.csv')\n",
    "X = wine.drop('quality', axis=1)\n",
    "X_scaled = StandardScaler().fit_transform(X)\n",
    "pca = PCA().fit(X_scaled)\n",
    "\n",
    "explained_var = pca.explained_variance_ratio_.cumsum()\n",
    "for i, var in enumerate(explained_var):\n",
    "    if var >= 0.9:\n",
    "        print(f\"Number of components to explain 90% variance: {i+1}\")\n",
    "        break"
   ]
  }
 ],
 "metadata": {
  "language_info": {
   "name": "python"
  }
 },
 "nbformat": 4,
 "nbformat_minor": 5
}
