{
 "cells": [
  {
   "cell_type": "markdown",
   "id": "315e8d7d",
   "metadata": {},
   "source": [
    "# Pandas Advance 1 Assignment\n",
    "\n",
    "## Q1. List any five functions of the pandas library with execution."
   ]
  },
  {
   "cell_type": "code",
   "execution_count": null,
   "id": "5bc11f39",
   "metadata": {},
   "outputs": [],
   "source": [
    "import pandas as pd\n",
    "\n",
    "data = {'A': [1, 2, 3], 'B': [4, 5, 6]}\n",
    "df = pd.DataFrame(data)\n",
    "\n",
    "# 1. head() - returns the first n rows\n",
    "print('head():')\n",
    "print(df.head(2))\n",
    "\n",
    "# 2. describe() - summary statistics\n",
    "print('\\ndescribe():')\n",
    "print(df.describe())\n",
    "\n",
    "# 3. mean() - mean of each column\n",
    "print('\\nmean():')\n",
    "print(df.mean())\n",
    "\n",
    "# 4. drop() - drop a column\n",
    "print('\\ndrop():')\n",
    "print(df.drop('B', axis=1))\n",
    "\n",
    "# 5. sort_values() - sort by column 'B'\n",
    "print('\\nsort_values():')\n",
    "print(df.sort_values('B', ascending=False))"
   ]
  },
  {
   "cell_type": "markdown",
   "id": "a1cda435",
   "metadata": {},
   "source": [
    "## Q2. Given a Pandas DataFrame df with columns 'A', 'B', and 'C', write a Python function to re-index the DataFrame with a new index that starts from 1 and increments by 2 for each row."
   ]
  },
  {
   "cell_type": "code",
   "execution_count": null,
   "id": "1eb7a954",
   "metadata": {},
   "outputs": [],
   "source": [
    "def reindex_df(df):\n",
    "    new_index = range(1, 1 + 2*len(df), 2)\n",
    "    df.index = new_index\n",
    "    return df\n",
    "\n",
    "# Example usage:\n",
    "df = pd.DataFrame({'A': [1,2,3], 'B': [4,5,6], 'C': [7,8,9]})\n",
    "print(reindex_df(df))"
   ]
  },
  {
   "cell_type": "markdown",
   "id": "36713235",
   "metadata": {},
   "source": [
    "## Q3. You have a Pandas DataFrame df with a column named 'Values'. Write a Python function that iterates over the DataFrame and calculates the sum of the first three values in the 'Values' column. The function should print the sum to the console."
   ]
  },
  {
   "cell_type": "code",
   "execution_count": null,
   "id": "51bfe7b3",
   "metadata": {},
   "outputs": [],
   "source": [
    "def sum_first_three(df):\n",
    "    total = df['Values'].iloc[:3].sum()\n",
    "    print('Sum of first three values:', total)\n",
    "\n",
    "# Example usage:\n",
    "df = pd.DataFrame({'Values': [10, 20, 30, 40, 50]})\n",
    "sum_first_three(df)"
   ]
  },
  {
   "cell_type": "markdown",
   "id": "7f9461e2",
   "metadata": {},
   "source": [
    "## Q4. Given a Pandas DataFrame df with a column 'Text', write a Python function to create a new column 'Word_Count' that contains the number of words in each row of the 'Text' column."
   ]
  },
  {
   "cell_type": "code",
   "execution_count": null,
   "id": "8ba0ede1",
   "metadata": {},
   "outputs": [],
   "source": [
    "def add_word_count(df):\n",
    "    df['Word_Count'] = df['Text'].apply(lambda x: len(str(x).split()))\n",
    "    return df\n",
    "\n",
    "# Example usage:\n",
    "df = pd.DataFrame({'Text': ['Hello world', 'Pandas is great', 'Data Science']})\n",
    "print(add_word_count(df))"
   ]
  },
  {
   "cell_type": "markdown",
   "id": "d422935e",
   "metadata": {},
   "source": [
    "## Q5. How are DataFrame.size() and DataFrame.shape() different?\n",
    "\n",
    "- `DataFrame.size` returns the total number of elements (rows × columns) in the DataFrame.\n",
    "- `DataFrame.shape` returns a tuple representing the dimensions (number of rows, number of columns) of the DataFrame."
   ]
  },
  {
   "cell_type": "markdown",
   "id": "19b15064",
   "metadata": {},
   "source": [
    "## Q6. Which function of pandas do we use to read an excel file?\n",
    "\n",
    "We use `pd.read_excel()` to read an Excel file in pandas."
   ]
  },
  {
   "cell_type": "markdown",
   "id": "b4b3d98c",
   "metadata": {},
   "source": [
    "## Q7. You have a Pandas DataFrame df that contains a column named 'Email' that contains email addresses in the format 'username@domain.com'. Write a Python function that creates a new column 'Username' in df that contains only the username part of each email address."
   ]
  },
  {
   "cell_type": "code",
   "execution_count": null,
   "id": "5dc98eb4",
   "metadata": {},
   "outputs": [],
   "source": [
    "def extract_username(df):\n",
    "    df['Username'] = df['Email'].apply(lambda x: x.split('@')[0])\n",
    "    return df\n",
    "\n",
    "# Example usage:\n",
    "df = pd.DataFrame({'Email': ['john.doe@example.com', 'alice@abc.com']})\n",
    "print(extract_username(df))"
   ]
  },
  {
   "cell_type": "markdown",
   "id": "75499a42",
   "metadata": {},
   "source": [
    "## Q8. You have a Pandas DataFrame df with columns 'A', 'B', and 'C'. Write a Python function that selects all rows where the value in column 'A' is greater than 5 and the value in column 'B' is less than 10. The function should return a new DataFrame that contains only the selected rows."
   ]
  },
  {
   "cell_type": "code",
   "execution_count": null,
   "id": "a862080e",
   "metadata": {},
   "outputs": [],
   "source": [
    "def select_rows(df):\n",
    "    return df[(df['A'] > 5) & (df['B'] < 10)]\n",
    "\n",
    "# Example usage:\n",
    "data = {'A': [3, 8, 6, 2, 9], 'B': [5, 2, 9, 3, 1], 'C': [1, 7, 4, 5, 2]}\n",
    "df = pd.DataFrame(data)\n",
    "print(select_rows(df))"
   ]
  }
 ],
 "metadata": {
  "language_info": {
   "name": "python"
  }
 },
 "nbformat": 4,
 "nbformat_minor": 5
}
