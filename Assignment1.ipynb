{
 "cells": [
  {
   "cell_type": "markdown",
   "id": "ea3cd1ea-e381-4697-b7ec-b1380bc59969",
   "metadata": {},
   "source": [
    "Q1. Create one variable containing following type of data:\n",
    "\n",
    "(i) string\n",
    "\n",
    "(ii) list\n",
    "\n",
    "(iii) float\n",
    "\n",
    "(iv) tuple"
   ]
  },
  {
   "cell_type": "code",
   "execution_count": 1,
   "id": "27175038-f528-4402-8977-3d72b8390b7c",
   "metadata": {},
   "outputs": [
    {
     "name": "stdout",
     "output_type": "stream",
     "text": [
      "Ashu\n",
      "[2, 4.5432, (3+3j), 'kya haal']\n",
      "69.69\n",
      "(2, 53.32, 'Data science')\n"
     ]
    }
   ],
   "source": [
    "# (i) variable containing string\n",
    "name=\"Ashu\"\n",
    "# (ii) variable containing list\n",
    "lst=[2,4.5432,3+3j,\"kya haal\"]\n",
    "# (iii) variable containing float \n",
    "floatno= 69.69\n",
    "# (iv) variale containig tuple\n",
    "tple=(2,53.32,\"Data science\")\n",
    "\n",
    "print(name)\n",
    "print(lst)\n",
    "print(floatno)\n",
    "print(tple)\n"
   ]
  },
  {
   "cell_type": "markdown",
   "id": "9536c884-95ac-4bf1-a9ef-e3f737b497c9",
   "metadata": {},
   "source": [
    "Q2. Given are some following variables containing data:\n",
    "\n",
    "(i)\tvar1 = ‘ ‘\n",
    "\n",
    "(ii)\tvar2 = ‘[ DS , ML , Python]’\n",
    "\n",
    "(iii)\tvar3 = [ ‘DS’ , ’ML’ , ‘Python’ ]\n",
    "\n",
    "(iv)\tvar4 = 1.\n",
    "What will be the data type of the above given variable."
   ]
  },
  {
   "cell_type": "code",
   "execution_count": 2,
   "id": "49b2eb06-dd18-4719-adea-8fe827482dbb",
   "metadata": {},
   "outputs": [
    {
     "name": "stdout",
     "output_type": "stream",
     "text": [
      "<class 'str'>\n",
      "<class 'str'>\n",
      "<class 'list'>\n",
      "<class 'int'>\n"
     ]
    }
   ],
   "source": [
    " var1 = ''\n",
    "\n",
    " var2 = '[ DS , ML , Python]'\n",
    "\n",
    " var3 = [ 'DS','ML','Python']\n",
    "\n",
    " var4 = 1\n",
    "print(type(var1))\n",
    "print(type(var2))\n",
    "print(type(var3))\n",
    "print(type(var4))"
   ]
  },
  {
   "cell_type": "markdown",
   "id": "66c620ea-c995-4908-85c2-126dbf0872da",
   "metadata": {},
   "source": [
    "Q3. Explain the use of the following operators using an example:\n",
    "\n",
    "(i)\t/\n",
    "\n",
    "(ii)\t% \n",
    "\n",
    "(iii)\t//\n",
    "\n",
    "(iv)\t**"
   ]
  },
  {
   "cell_type": "code",
   "execution_count": 3,
   "id": "a2ff9445-6867-4f39-b487-edaf776b5442",
   "metadata": {},
   "outputs": [
    {
     "name": "stdout",
     "output_type": "stream",
     "text": [
      "5.0\n",
      "0\n",
      "3\n",
      "8\n"
     ]
    }
   ],
   "source": [
    "# '/' is used for division operation of two variable.eg:\n",
    "a=10\n",
    "b=2\n",
    "print(a/b)\n",
    "\n",
    "#'%' is used to find the reminder after the division of two variable.eg:\n",
    "print(a%b)\n",
    "\n",
    "#'//' is used to divide the two number and round the result to the nearest whole number.eg:\n",
    "c=3\n",
    "print(a//c)\n",
    "\n",
    "#'**' is used to perform power operations like a^b i.e a to the power b.eg:\n",
    "print(b**c)"
   ]
  },
  {
   "cell_type": "markdown",
   "id": "a7756d04-aea1-47e2-a384-87f4cdc4965f",
   "metadata": {},
   "source": [
    "Q4. Create a list of length 10 of your choice containing multiple types of data. Using for loop print the\n",
    "element and its data type."
   ]
  },
  {
   "cell_type": "code",
   "execution_count": 4,
   "id": "cdfd5a26-8ced-4098-a5e2-93505f29c21c",
   "metadata": {},
   "outputs": [
    {
     "name": "stdout",
     "output_type": "stream",
     "text": [
      "<class 'list'>\n",
      "1\n",
      "43.23\n",
      "5654\n",
      "(3+5j)\n",
      "ashu\n",
      "Bharat mata ki jai\n",
      "True\n"
     ]
    }
   ],
   "source": [
    "lst=[1,43.23,5654,3+5j,\"ashu\",\"Bharat mata ki jai\",True]\n",
    "print(type(lst))\n",
    "for i in lst:\n",
    "    print(i)"
   ]
  },
  {
   "cell_type": "markdown",
   "id": "0519b4e6-7329-4946-b232-de0444fa7344",
   "metadata": {},
   "source": [
    "Q5. Using a while loop, verify if the number A is purely divisible by number B and if so then how many\n",
    "times it can be divisible."
   ]
  },
  {
   "cell_type": "code",
   "execution_count": 6,
   "id": "c1c10d92-4b70-4a39-b251-efc496030c20",
   "metadata": {},
   "outputs": [
    {
     "name": "stdin",
     "output_type": "stream",
     "text": [
      " 20\n",
      " 2\n"
     ]
    },
    {
     "name": "stdout",
     "output_type": "stream",
     "text": [
      "20 is purely divisible by 2\n",
      "1\n",
      "10.0 is purely divisible by 2\n",
      "2\n"
     ]
    }
   ],
   "source": [
    "a=int(input())\n",
    "b=int(input())\n",
    "count=0\n",
    "while a/b:\n",
    "    if a%b==0:\n",
    "        print(a,\"is purely divisible by\",b)\n",
    "        count+=1\n",
    "        print(count)\n",
    "    a/=b    "
   ]
  },
  {
   "cell_type": "markdown",
   "id": "8ce9e62c-c4e2-47c0-bb85-01e073b12693",
   "metadata": {},
   "source": [
    "Q6. Create a list containing 25 int type data. Using for loop and if-else condition print if the element is\n",
    "divisible by 3 or not."
   ]
  },
  {
   "cell_type": "code",
   "execution_count": 7,
   "id": "8ee0818b-5e61-40c6-a945-e7c1daa9e338",
   "metadata": {},
   "outputs": [
    {
     "name": "stdout",
     "output_type": "stream",
     "text": [
      "[1, 2, 3, 4, 5, 6, 7, 8, 9, 10, 11, 12, 13, 14, 15, 16, 17, 18, 19, 20, 21, 22, 23, 24]\n",
      "3\n",
      "it is divisible by 3\n",
      "6\n",
      "it is divisible by 3\n",
      "9\n",
      "it is divisible by 3\n",
      "12\n",
      "it is divisible by 3\n",
      "15\n",
      "it is divisible by 3\n",
      "18\n",
      "it is divisible by 3\n",
      "21\n",
      "it is divisible by 3\n",
      "24\n",
      "it is divisible by 3\n"
     ]
    }
   ],
   "source": [
    "lst=[]\n",
    "for i in range(1,25):\n",
    "    lst.append(i)\n",
    "print(lst)\n",
    "\n",
    "for i in lst:\n",
    "    if (i%3==0):\n",
    "        print (i)\n",
    "        print(\"it is divisible by 3\")"
   ]
  },
  {
   "cell_type": "markdown",
   "id": "6dae3657-1576-436c-8893-4beded629077",
   "metadata": {},
   "source": [
    "Q7. What do you understand about mutable and immutable data types? Give examples for both showing\n",
    "this property."
   ]
  },
  {
   "cell_type": "code",
   "execution_count": 8,
   "id": "ff2fac8d-6a02-470e-a4ae-aa248df93bd9",
   "metadata": {},
   "outputs": [
    {
     "ename": "TypeError",
     "evalue": "'str' object does not support item assignment",
     "output_type": "error",
     "traceback": [
      "\u001b[0;31m---------------------------------------------------------------------------\u001b[0m",
      "\u001b[0;31mTypeError\u001b[0m                                 Traceback (most recent call last)",
      "Cell \u001b[0;32mIn[8], line 3\u001b[0m\n\u001b[1;32m      1\u001b[0m \u001b[38;5;66;03m# immutable objects - it does not support assignment on a particular object and if do so then it will give us an error.\u001b[39;00m\n\u001b[1;32m      2\u001b[0m s \u001b[38;5;241m=\u001b[39m\u001b[38;5;124m\"\u001b[39m\u001b[38;5;124mIndia\u001b[39m\u001b[38;5;124m\"\u001b[39m\n\u001b[0;32m----> 3\u001b[0m \u001b[43ms\u001b[49m\u001b[43m[\u001b[49m\u001b[38;5;241;43m2\u001b[39;49m\u001b[43m]\u001b[49m\u001b[38;5;241m=\u001b[39m\u001b[38;5;124m\"\u001b[39m\u001b[38;5;124ms\u001b[39m\u001b[38;5;124m\"\u001b[39m\n\u001b[1;32m      4\u001b[0m \u001b[38;5;66;03m# mutable objects-it support assignment on a particular object .\u001b[39;00m\n\u001b[1;32m      5\u001b[0m lst\u001b[38;5;241m=\u001b[39m[\u001b[38;5;241m3\u001b[39m,\u001b[38;5;241m54.64\u001b[39m,\u001b[38;5;28;01mTrue\u001b[39;00m,\u001b[38;5;124m\"\u001b[39m\u001b[38;5;124mIndia\u001b[39m\u001b[38;5;124m\"\u001b[39m,\u001b[38;5;241m3\u001b[39m\u001b[38;5;241m+\u001b[39m\u001b[38;5;241m4\u001b[39mj]\n",
      "\u001b[0;31mTypeError\u001b[0m: 'str' object does not support item assignment"
     ]
    }
   ],
   "source": [
    "# immutable objects - it does not support assignment on a particular object and if do so then it will give us an error.\n",
    "s =\"India\"\n",
    "s[2]=\"s\"\n",
    "# mutable objects-it support assignment on a particular object .\n",
    "lst=[3,54.64,True,\"India\",3+4j]\n",
    "lst[2]=45\n",
    "print(lst)"
   ]
  },
  {
   "cell_type": "code",
   "execution_count": null,
   "id": "1e45b210-c475-4b81-ba11-bf254694c2d5",
   "metadata": {},
   "outputs": [],
   "source": [
    "# Create your assignment in Jupyter notebook and upload it to GitHub & share that github repository link through your dashboard. Make sure the repository is public."
   ]
  }
 ],
 "metadata": {
  "kernelspec": {
   "display_name": "Python 3 (ipykernel)",
   "language": "python",
   "name": "python3"
  },
  "language_info": {
   "codemirror_mode": {
    "name": "ipython",
    "version": 3
   },
   "file_extension": ".py",
   "mimetype": "text/x-python",
   "name": "python",
   "nbconvert_exporter": "python",
   "pygments_lexer": "ipython3",
   "version": "3.10.8"
  }
 },
 "nbformat": 4,
 "nbformat_minor": 5
}
