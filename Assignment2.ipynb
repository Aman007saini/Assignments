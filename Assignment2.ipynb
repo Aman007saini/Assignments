{
 "cells": [
  {
   "cell_type": "markdown",
   "id": "d74890c8-432a-4b19-90aa-fc7298809a41",
   "metadata": {},
   "source": [
    "Q1. How do you comment code in Python? What are the different types of comments?"
   ]
  },
  {
   "cell_type": "code",
   "execution_count": 2,
   "id": "f0f53a6b-35e2-4f6e-b1ea-78180d064bdf",
   "metadata": {},
   "outputs": [
    {
     "data": {
      "text/plain": [
       "\"\\n    we can make comment by using double hash(# comment) and by using triple quotes eg: \\n   \\n   their are 2 types of comment \\n   single line comment  eg: # this is a single line comment \\n   multiline comment eg: '''this\\n                            is \\n                            a\\n                            multiline \\n                            comment'''\\n    hash function is used to make single line comment and quotation  mark were used to make multiline comment \\n\""
      ]
     },
     "execution_count": 2,
     "metadata": {},
     "output_type": "execute_result"
    }
   ],
   "source": [
    "\"\"\"\n",
    "    we can make comment by using double hash(# comment) and by using triple quotes eg: \n",
    "   \n",
    "   their are 2 types of comment \n",
    "   single line comment  eg: # this is a single line comment \n",
    "   multiline comment eg: '''this\n",
    "                            is \n",
    "                            a\n",
    "                            multiline \n",
    "                            comment'''\n",
    "    hash function is used to make single line comment and quotation  mark were used to make multiline comment \n",
    "\"\"\""
   ]
  },
  {
   "cell_type": "markdown",
   "id": "ff1675e9-6d49-4b8f-b2a1-65bd8208ab2f",
   "metadata": {},
   "source": [
    "Q2. What are variables in Python? How do you declare and assign values to variables?"
   ]
  },
  {
   "cell_type": "code",
   "execution_count": 1,
   "id": "7a851eaf-cea4-4562-9f63-76591afff9a3",
   "metadata": {},
   "outputs": [
    {
     "ename": "NameError",
     "evalue": "name 'b' is not defined",
     "output_type": "error",
     "traceback": [
      "\u001b[0;31m---------------------------------------------------------------------------\u001b[0m",
      "\u001b[0;31mNameError\u001b[0m                                 Traceback (most recent call last)",
      "Cell \u001b[0;32mIn[1], line 4\u001b[0m\n\u001b[1;32m      1\u001b[0m \u001b[38;5;66;03m# Variables is the value that can change depending on condition or on information passed to the program.\u001b[39;00m\n\u001b[1;32m      2\u001b[0m \u001b[38;5;66;03m# python has no command of declaring a variable.Variable is created when first you assign a value to it.\u001b[39;00m\n\u001b[1;32m      3\u001b[0m a\u001b[38;5;241m=\u001b[39m\u001b[38;5;241m2\u001b[39m\n\u001b[0;32m----> 4\u001b[0m \u001b[43mb\u001b[49m\n",
      "\u001b[0;31mNameError\u001b[0m: name 'b' is not defined"
     ]
    }
   ],
   "source": [
    "# Variables is the value that can change depending on condition or on information passed to the program.\n",
    "# python has no command of declaring a variable.Variable is created when first you assign a value to it.\n",
    "a=2\n",
    "b     # this is going to give error as python need assignment along with declaration."
   ]
  },
  {
   "cell_type": "markdown",
   "id": "e24691b5-8914-4a3c-8ad9-9fd9925bb4b4",
   "metadata": {},
   "source": [
    "Q3. How do you convert one data type to another in Python?"
   ]
  },
  {
   "cell_type": "code",
   "execution_count": 3,
   "id": "478fe72a-4f72-49bf-a204-3f7a6c9b3975",
   "metadata": {},
   "outputs": [
    {
     "name": "stdout",
     "output_type": "stream",
     "text": [
      "<class 'int'>\n",
      "<class 'str'>\n"
     ]
    }
   ],
   "source": [
    "# we can convert one data type to another in python by using typecasting\n",
    "a=3\n",
    "print(type(a))\n",
    "a= str(a)\n",
    "print(type(a))"
   ]
  },
  {
   "cell_type": "markdown",
   "id": "39258e8a-f7a2-4125-9806-c3ecf1c9dcea",
   "metadata": {},
   "source": [
    "Q4. How do you write and execute a Python script from the command line?"
   ]
  },
  {
   "cell_type": "code",
   "execution_count": null,
   "id": "045986cc-6f8c-43e8-9940-e098cf88dd8b",
   "metadata": {},
   "outputs": [],
   "source": [
    "# First step: we made our scripy in notepad and save it with the extension '.py'\n",
    "#Second step: then we use command 'cd' command to navigate and change the working directory using terminal window.\n",
    "#Third step: to run the script we use command' python nameofscripy.py ', then the script we run.\n"
   ]
  },
  {
   "cell_type": "markdown",
   "id": "91f52873-e6d0-488d-85f5-217fe2acff10",
   "metadata": {},
   "source": [
    "Q5. Given a list my_list = [1, 2, 3, 4, 5], write the code to slice the list and obtain the sub-list [2, 3]."
   ]
  },
  {
   "cell_type": "code",
   "execution_count": 4,
   "id": "6571a542-ae52-43fc-bbf3-1570acdcfb10",
   "metadata": {},
   "outputs": [
    {
     "name": "stdout",
     "output_type": "stream",
     "text": [
      "[2, 3]\n"
     ]
    }
   ],
   "source": [
    "my_list = [1, 2, 3, 4, 5]            #given list\n",
    "sub_list= list(my_list[1:3])         #using slicing and typecasting it into list and storing the outcome into another list\n",
    "print(sub_list)                      # obtaining the sub-list."
   ]
  },
  {
   "cell_type": "markdown",
   "id": "8cc52ac0-dc2d-4a4c-857d-c1189562b2d4",
   "metadata": {},
   "source": [
    "Q6. What is a complex number in mathematics, and how is it represented in Python?"
   ]
  },
  {
   "cell_type": "code",
   "execution_count": 8,
   "id": "64c39538-53f4-45c5-8310-8ac089b6030e",
   "metadata": {},
   "outputs": [
    {
     "data": {
      "text/plain": [
       "complex"
      ]
     },
     "execution_count": 8,
     "metadata": {},
     "output_type": "execute_result"
    }
   ],
   "source": [
    "# complex number are the number which have a imaginary part along with a real part eg: 3+4i this 3 is real part and 4 is imaginary part.\n",
    "#the representation of complex number is different in python language,the imaginary part is represented by 'j' in python.\n",
    "a= 3+4j\n",
    "type(a)"
   ]
  },
  {
   "cell_type": "markdown",
   "id": "1475970c-1545-432f-9f8b-784d40a2e78f",
   "metadata": {},
   "source": [
    "Q7. What is the correct way to declare a variable named age and assign the value 25 to it?"
   ]
  },
  {
   "cell_type": "code",
   "execution_count": null,
   "id": "1779b098-5666-4433-a262-fdedb82e0ea9",
   "metadata": {},
   "outputs": [],
   "source": [
    "age = 25 # as python automatically identify the type of variable, so their is no need to specify the type of data type as we declare in other programming languages like c++ ,java etc."
   ]
  },
  {
   "cell_type": "markdown",
   "id": "a5a3ebda-366b-4838-b650-55aca66587f2",
   "metadata": {},
   "source": [
    "Q8. Declare a variable named price and assign the value 9.99 to it. What data type does this variable\n",
    "belong to?"
   ]
  },
  {
   "cell_type": "code",
   "execution_count": 7,
   "id": "eb4d2d12-98cd-4580-88b5-e7e870e14911",
   "metadata": {},
   "outputs": [
    {
     "name": "stdout",
     "output_type": "stream",
     "text": [
      "<class 'float'>\n"
     ]
    }
   ],
   "source": [
    "# assigning the valur 9.99 to the variable named price.\n",
    "price=9.99     # this variable belongs to floating type data type\n",
    "print(type(price))"
   ]
  },
  {
   "cell_type": "markdown",
   "id": "c8a05f5c-81ce-4d76-9f49-77ec1fb6ca5e",
   "metadata": {},
   "source": [
    "Q9. Create a variable named name and assign your full name to it as a string. How would you print the\n",
    "value of this variable?"
   ]
  },
  {
   "cell_type": "code",
   "execution_count": 6,
   "id": "67d39d85-b52d-4615-9afa-3b7e1664d1df",
   "metadata": {},
   "outputs": [
    {
     "name": "stdout",
     "output_type": "stream",
     "text": [
      "<class 'str'>\n",
      "Aman Saini\n"
     ]
    }
   ],
   "source": [
    "name=\"Aman Saini\"        #creating a variable named 'name' and assigning my full name to it as a string.\n",
    "print(type(name))\n",
    "print(name)         #printing the variable in which string is stored ."
   ]
  },
  {
   "cell_type": "markdown",
   "id": "1f578e32-ec0b-4246-a0b5-e5fa60099578",
   "metadata": {},
   "source": [
    "Q10. Given the string \"Hello, World!\", extract the substring \"World\"."
   ]
  },
  {
   "cell_type": "code",
   "execution_count": 10,
   "id": "cca265bf-d147-4383-8886-41b42e34284c",
   "metadata": {},
   "outputs": [
    {
     "data": {
      "text/plain": [
       "'World'"
      ]
     },
     "execution_count": 10,
     "metadata": {},
     "output_type": "execute_result"
    }
   ],
   "source": [
    "s=\"Hello,World!\"            # given string\n",
    "s[6:11]           # using slicing to get favourable extraction."
   ]
  },
  {
   "cell_type": "markdown",
   "id": "e3b566ab-bd12-4fbd-b0f6-7623527b1bdd",
   "metadata": {},
   "source": [
    "Q11. Create a variable named \"is_student\" and assign it a boolean value indicating whether you are\n",
    "currently a student or not."
   ]
  },
  {
   "cell_type": "code",
   "execution_count": 9,
   "id": "0988026f-5e0a-4bbe-8ba2-d88f065e9639",
   "metadata": {},
   "outputs": [
    {
     "data": {
      "text/plain": [
       "bool"
      ]
     },
     "execution_count": 9,
     "metadata": {},
     "output_type": "execute_result"
    }
   ],
   "source": [
    "# as assigning the variable 'is_student' true because i am currently a student, as true represent legal value in the boolean .\n",
    "\n",
    "is_student= True\n",
    "type(is_student)"
   ]
  },
  {
   "cell_type": "markdown",
   "id": "a7bd88ff-735c-4d98-ac5c-66dddf3fbc4a",
   "metadata": {},
   "source": [
    "Note: Create your assignment in Jupyter notebook and upload it to GitHub & share that github repository\n",
    "link through your dashboard. Make sure the repository is public."
   ]
  }
 ],
 "metadata": {
  "kernelspec": {
   "display_name": "Python 3 (ipykernel)",
   "language": "python",
   "name": "python3"
  },
  "language_info": {
   "codemirror_mode": {
    "name": "ipython",
    "version": 3
   },
   "file_extension": ".py",
   "mimetype": "text/x-python",
   "name": "python",
   "nbconvert_exporter": "python",
   "pygments_lexer": "ipython3",
   "version": "3.10.8"
  }
 },
 "nbformat": 4,
 "nbformat_minor": 5
}
