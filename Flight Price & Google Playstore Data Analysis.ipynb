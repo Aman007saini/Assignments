{
 "cells": [
  {
   "cell_type": "markdown",
   "id": "09f09dc9",
   "metadata": {},
   "source": [
    "# Flight Price & Google Playstore Data Analysis"
   ]
  },
  {
   "cell_type": "markdown",
   "id": "44898524",
   "metadata": {},
   "source": [
    "## Q1. Load the flight price dataset and examine its dimensions. How many rows and columns does the dataset have?"
   ]
  },
  {
   "cell_type": "code",
   "execution_count": null,
   "id": "3f3d8ad1",
   "metadata": {},
   "outputs": [],
   "source": [
    "import pandas as pd\n",
    "\n",
    "# Load the flight price dataset (update path as needed)\n",
    "flight = pd.read_csv('flight_price.csv')\n",
    "print(f\"Rows: {flight.shape[0]}, Columns: {flight.shape[1]}\")"
   ]
  },
  {
   "cell_type": "markdown",
   "id": "9c3957d6",
   "metadata": {},
   "source": [
    "## Q2. What is the distribution of flight prices in the dataset? Create a histogram to visualize the distribution."
   ]
  },
  {
   "cell_type": "code",
   "execution_count": null,
   "id": "72328280",
   "metadata": {},
   "outputs": [],
   "source": [
    "import matplotlib.pyplot as plt\n",
    "\n",
    "plt.hist(flight['Price'], bins=30, color='skyblue', edgecolor='black')\n",
    "plt.xlabel('Flight Price')\n",
    "plt.ylabel('Frequency')\n",
    "plt.title('Distribution of Flight Prices')\n",
    "plt.show()"
   ]
  },
  {
   "cell_type": "markdown",
   "id": "5af48bb9",
   "metadata": {},
   "source": [
    "## Q3. What is the range of prices in the dataset? What is the minimum and maximum price?"
   ]
  },
  {
   "cell_type": "code",
   "execution_count": null,
   "id": "8d12cb66",
   "metadata": {},
   "outputs": [],
   "source": [
    "min_price = flight['Price'].min()\n",
    "max_price = flight['Price'].max()\n",
    "print(f\"Min price: {min_price}, Max price: {max_price}\")"
   ]
  },
  {
   "cell_type": "markdown",
   "id": "dcbac544",
   "metadata": {},
   "source": [
    "## Q4. How does the price of flights vary by airline? Create a boxplot to compare the prices of different airlines."
   ]
  },
  {
   "cell_type": "code",
   "execution_count": null,
   "id": "ac43530d",
   "metadata": {},
   "outputs": [],
   "source": [
    "import seaborn as sns\n",
    "\n",
    "plt.figure(figsize=(12,6))\n",
    "sns.boxplot(x='Airline', y='Price', data=flight)\n",
    "plt.xticks(rotation=45)\n",
    "plt.title('Flight Prices by Airline')\n",
    "plt.show()"
   ]
  },
  {
   "cell_type": "markdown",
   "id": "5bcffb27",
   "metadata": {},
   "source": [
    "## Q5. Are there any outliers in the dataset? Identify any potential outliers using a boxplot and describe how they may impact your analysis."
   ]
  },
  {
   "cell_type": "code",
   "execution_count": null,
   "id": "8621ad55",
   "metadata": {},
   "outputs": [],
   "source": [
    "plt.figure(figsize=(8,4))\n",
    "sns.boxplot(x=flight['Price'])\n",
    "plt.title('Boxplot of Flight Prices')\n",
    "plt.show()\n",
    "\n",
    "# Outliers are points outside the whiskers. They may skew the mean and affect model performance."
   ]
  },
  {
   "cell_type": "markdown",
   "id": "cb735884",
   "metadata": {},
   "source": [
    "## Q6. You are working for a travel agency, and your boss has asked you to analyze the Flight Price dataset to identify the peak travel season. What features would you analyze to identify the peak season, and how would you present your findings to your boss?"
   ]
  },
  {
   "cell_type": "markdown",
   "id": "defd3b35",
   "metadata": {},
   "source": [
    "**Answer:**\n",
    "\n",
    "Analyze features like date of journey, month, and number of bookings. Group by month or season and plot the number of flights or average price to identify peaks. Present findings using line or bar charts."
   ]
  },
  {
   "cell_type": "markdown",
   "id": "57702fae",
   "metadata": {},
   "source": [
    "## Q7. You are a data analyst for a flight booking website, and you have been asked to analyze the Flight Price dataset to identify any trends in flight prices. What features would you analyze to identify these trends, and what visualizations would you use to present your findings to your team?"
   ]
  },
  {
   "cell_type": "markdown",
   "id": "30ff165d",
   "metadata": {},
   "source": [
    "**Answer:**\n",
    "\n",
    "Analyze features like date, airline, source, destination, and duration. Use line plots for price over time, boxplots for price by airline, and heatmaps for price by route."
   ]
  },
  {
   "cell_type": "markdown",
   "id": "ae1e87d5",
   "metadata": {},
   "source": [
    "## Q8. You are a data scientist working for an airline company, and you have been asked to analyze the Flight Price dataset to identify the factors that affect flight prices. What features would you analyze to identify these factors, and how would you present your findings to the management team?"
   ]
  },
  {
   "cell_type": "markdown",
   "id": "6284fcbd",
   "metadata": {},
   "source": [
    "**Answer:**\n",
    "\n",
    "Analyze features such as airline, source, destination, duration, stops, and time of booking. Use correlation analysis, regression, and feature importance plots to present findings."
   ]
  },
  {
   "cell_type": "markdown",
   "id": "669be743",
   "metadata": {},
   "source": [
    "## Q9. Load the Google Playstore dataset and examine its dimensions. How many rows and columns does the dataset have?"
   ]
  },
  {
   "cell_type": "code",
   "execution_count": null,
   "id": "1e134161",
   "metadata": {},
   "outputs": [],
   "source": [
    "playstore = pd.read_csv('googleplaystore.csv')\n",
    "print(f\"Rows: {playstore.shape[0]}, Columns: {playstore.shape[1]}\")"
   ]
  },
  {
   "cell_type": "markdown",
   "id": "3763853e",
   "metadata": {},
   "source": [
    "## Q10. How does the rating of apps vary by category? Create a boxplot to compare the ratings of different app categories."
   ]
  },
  {
   "cell_type": "code",
   "execution_count": null,
   "id": "0f1f4ada",
   "metadata": {},
   "outputs": [],
   "source": [
    "plt.figure(figsize=(14,6))\n",
    "sns.boxplot(x='Category', y='Rating', data=playstore)\n",
    "plt.xticks(rotation=90)\n",
    "plt.title('App Ratings by Category')\n",
    "plt.show()"
   ]
  },
  {
   "cell_type": "markdown",
   "id": "c9e7e856",
   "metadata": {},
   "source": [
    "## Q11. Are there any missing values in the dataset? Identify any missing values and describe how they may impact your analysis."
   ]
  },
  {
   "cell_type": "code",
   "execution_count": null,
   "id": "e325ab24",
   "metadata": {},
   "outputs": [],
   "source": [
    "missing = playstore.isnull().sum()\n",
    "print(missing[missing > 0])\n",
    "# Missing values can bias results or reduce data size if rows are dropped."
   ]
  },
  {
   "cell_type": "markdown",
   "id": "88dc669e",
   "metadata": {},
   "source": [
    "## Q12. What is the relationship between the size of an app and its rating? Create a scatter plot to visualize the relationship."
   ]
  },
  {
   "cell_type": "code",
   "execution_count": null,
   "id": "ed850363",
   "metadata": {},
   "outputs": [],
   "source": [
    "plt.scatter(playstore['Size'], playstore['Rating'], alpha=0.5)\n",
    "plt.xlabel('App Size')\n",
    "plt.ylabel('Rating')\n",
    "plt.title('App Size vs. Rating')\n",
    "plt.show()"
   ]
  },
  {
   "cell_type": "markdown",
   "id": "de214341",
   "metadata": {},
   "source": [
    "## Q13. How does the type of app affect its price? Create a bar chart to compare average prices by app type."
   ]
  },
  {
   "cell_type": "code",
   "execution_count": null,
   "id": "9e2e019d",
   "metadata": {},
   "outputs": [],
   "source": [
    "app_type_price = playstore.groupby('Type')['Price'].mean()\n",
    "app_type_price.plot(kind='bar', color='orange')\n",
    "plt.ylabel('Average Price')\n",
    "plt.title('Average App Price by Type')\n",
    "plt.show()"
   ]
  },
  {
   "cell_type": "markdown",
   "id": "4ef3125a",
   "metadata": {},
   "source": [
    "## Q14. What are the top 10 most popular apps in the dataset? Create a frequency table to identify the apps with the highest number of installs."
   ]
  },
  {
   "cell_type": "code",
   "execution_count": null,
   "id": "c36f11b4",
   "metadata": {},
   "outputs": [],
   "source": [
    "top_apps = playstore.groupby('App')['Installs'].sum().sort_values(ascending=False).head(10)\n",
    "print(top_apps)"
   ]
  },
  {
   "cell_type": "markdown",
   "id": "fd1626ee",
   "metadata": {},
   "source": [
    "## Q15. A company wants to launch a new app on the Google Playstore and has asked you to analyze the Google Playstore dataset to identify the most popular app categories. How would you approach this task, and what features would you analyze to make recommendations to the company?"
   ]
  },
  {
   "cell_type": "markdown",
   "id": "f23d0d3d",
   "metadata": {},
   "source": [
    "**Answer:**\n",
    "\n",
    "Analyze the 'Category' and 'Installs' features. Group by category and sum installs to find the most popular categories. Recommend categories with the highest total installs."
   ]
  },
  {
   "cell_type": "markdown",
   "id": "e1675d40",
   "metadata": {},
   "source": [
    "## Q16. A mobile app development company wants to analyze the Google Playstore dataset to identify the most successful app developers. What features would you analyze to make recommendations to the company, and what data visualizations would you use to present your findings?"
   ]
  },
  {
   "cell_type": "markdown",
   "id": "1da0f9a9",
   "metadata": {},
   "source": [
    "**Answer:**\n",
    "\n",
    "Analyze 'App', 'Developer', 'Installs', and 'Rating'. Group by developer, sum installs, and average ratings. Use bar charts to show top developers by installs and ratings."
   ]
  },
  {
   "cell_type": "markdown",
   "id": "1d8d1b4b",
   "metadata": {},
   "source": [
    "## Q17. A marketing research firm wants to analyze the Google Playstore dataset to identify the best time to launch a new app. What features would you analyze to make recommendations to the company, and what data visualizations would you use to present your findings?"
   ]
  },
  {
   "cell_type": "markdown",
   "id": "609234a9",
   "metadata": {},
   "source": [
    "**Answer:**\n",
    "\n",
    "Analyze 'Last Updated' or release date, installs, and ratings. Group by month or season to find trends. Use line plots or bar charts to present the best launch periods."
   ]
  }
 ],
 "metadata": {
  "language_info": {
   "name": "python"
  }
 },
 "nbformat": 4,
 "nbformat_minor": 5
}
