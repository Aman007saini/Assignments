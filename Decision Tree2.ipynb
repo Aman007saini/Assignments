{
 "cells": [
  {
   "cell_type": "markdown",
   "id": "534f8938",
   "metadata": {},
   "source": [
    "# Decision Tree 2: Predicting Diabetes with Clinical Variables\n",
    "This notebook demonstrates how to use a decision tree to identify patients with diabetes based on clinical variables, following a real-world healthcare scenario."
   ]
  },
  {
   "cell_type": "markdown",
   "id": "67a860ba",
   "metadata": {},
   "source": [
    "## Q1. Import the dataset and examine the variables. Use descriptive statistics and visualizations to understand the distribution and relationships between the variables."
   ]
  },
  {
   "cell_type": "code",
   "execution_count": null,
   "id": "a37a8016",
   "metadata": {},
   "outputs": [],
   "source": [
    "import pandas as pd\n",
    "import matplotlib.pyplot as plt\n",
    "import seaborn as sns\n",
    "\n",
    "# Load the dataset (update the path as needed)\n",
    "diabetes = pd.read_csv('diabetes.csv')\n",
    "diabetes.head()"
   ]
  },
  {
   "cell_type": "code",
   "execution_count": null,
   "id": "544f26e5",
   "metadata": {},
   "outputs": [],
   "source": [
    "# Descriptive statistics\n",
    "print(diabetes.describe())"
   ]
  },
  {
   "cell_type": "code",
   "execution_count": null,
   "id": "681b047e",
   "metadata": {},
   "outputs": [],
   "source": [
    "# Visualizations\n",
    "sns.pairplot(diabetes, hue='Outcome')\n",
    "plt.show()\n",
    "\n",
    "plt.figure(figsize=(10,6))\n",
    "sns.heatmap(diabetes.corr(), annot=True, cmap='coolwarm')\n",
    "plt.title('Correlation Matrix')\n",
    "plt.show()"
   ]
  },
  {
   "cell_type": "markdown",
   "id": "2ba2c05d",
   "metadata": {},
   "source": [
    "## Q2. Preprocess the data by cleaning missing values, removing outliers, and transforming categorical variables into dummy variables if necessary."
   ]
  },
  {
   "cell_type": "code",
   "execution_count": null,
   "id": "96111910",
   "metadata": {},
   "outputs": [],
   "source": [
    "# Check for missing values\n",
    "print(diabetes.isnull().sum())\n",
    "\n",
    "# Replace zero values in certain columns with NaN (as zeros are not physiologically plausible)\n",
    "cols_with_zero = ['Glucose', 'BloodPressure', 'SkinThickness', 'Insulin', 'BMI']\n",
    "diabetes[cols_with_zero] = diabetes[cols_with_zero].replace(0, pd.NA)\n",
    "\n",
    "# Impute missing values with median\n",
    "for col in cols_with_zero:\n",
    "    diabetes[col].fillna(diabetes[col].median(), inplace=True)\n",
    "\n",
    "# Remove outliers using IQR method (example for BMI)\n",
    "Q1 = diabetes['BMI'].quantile(0.25)\n",
    "Q3 = diabetes['BMI'].quantile(0.75)\n",
    "IQR = Q3 - Q1\n",
    "mask = (diabetes['BMI'] >= Q1 - 1.5 * IQR) & (diabetes['BMI'] <= Q3 + 1.5 * IQR)\n",
    "diabetes = diabetes[mask]"
   ]
  },
  {
   "cell_type": "markdown",
   "id": "079135c4",
   "metadata": {},
   "source": [
    "## Q3. Split the dataset into a training set and a test set. Use a random seed to ensure reproducibility."
   ]
  },
  {
   "cell_type": "code",
   "execution_count": null,
   "id": "678bedac",
   "metadata": {},
   "outputs": [],
   "source": [
    "from sklearn.model_selection import train_test_split\n",
    "\n",
    "X = diabetes.drop('Outcome', axis=1)\n",
    "y = diabetes['Outcome']\n",
    "X_train, X_test, y_train, y_test = train_test_split(X, y, test_size=0.2, random_state=42)"
   ]
  },
  {
   "cell_type": "markdown",
   "id": "b8c80d84",
   "metadata": {},
   "source": [
    "## Q4. Use a decision tree algorithm, such as ID3 or C4.5, to train a decision tree model on the training set. Use cross-validation to optimize the hyperparameters and avoid overfitting."
   ]
  },
  {
   "cell_type": "code",
   "execution_count": null,
   "id": "bb91bc37",
   "metadata": {},
   "outputs": [],
   "source": [
    "from sklearn.tree import DecisionTreeClassifier\n",
    "from sklearn.model_selection import GridSearchCV\n",
    "\n",
    "param_grid = {\n",
    "    'max_depth': [3, 5, 7, 9, None],\n",
    "    'min_samples_split': [2, 5, 10],\n",
    "    'criterion': ['gini', 'entropy']\n",
    "}\n",
    "grid = GridSearchCV(DecisionTreeClassifier(random_state=42), param_grid, cv=5)\n",
    "grid.fit(X_train, y_train)\n",
    "print('Best parameters:', grid.best_params_)\n",
    "model = grid.best_estimator_"
   ]
  },
  {
   "cell_type": "markdown",
   "id": "fb6aff4d",
   "metadata": {},
   "source": [
    "## Q5. Evaluate the performance of the decision tree model on the test set using metrics such as accuracy, precision, recall, and F1 score. Use confusion matrices and ROC curves to visualize the results."
   ]
  },
  {
   "cell_type": "code",
   "execution_count": null,
   "id": "874117bb",
   "metadata": {},
   "outputs": [],
   "source": [
    "from sklearn.metrics import accuracy_score, precision_score, recall_score, f1_score, confusion_matrix, roc_curve, roc_auc_score\n",
    "\n",
    "# Predictions\n",
    "y_pred = model.predict(X_test)\n",
    "\n",
    "# Metrics\n",
    "print('Accuracy:', accuracy_score(y_test, y_pred))\n",
    "print('Precision:', precision_score(y_test, y_pred))\n",
    "print('Recall:', recall_score(y_test, y_pred))\n",
    "print('F1 Score:', f1_score(y_test, y_pred))\n",
    "\n",
    "# Confusion matrix\n",
    "cm = confusion_matrix(y_test, y_pred)\n",
    "sns.heatmap(cm, annot=True, fmt='d', cmap='Blues')\n",
    "plt.xlabel('Predicted')\n",
    "plt.ylabel('Actual')\n",
    "plt.title('Confusion Matrix')\n",
    "plt.show()\n",
    "\n",
    "# ROC curve\n",
    "probs = model.predict_proba(X_test)[:, 1]\n",
    "fpr, tpr, _ = roc_curve(y_test, probs)\n",
    "auc = roc_auc_score(y_test, probs)\n",
    "plt.plot(fpr, tpr, label=f'AUC = {auc:.2f}')\n",
    "plt.plot([0, 1], [0, 1], linestyle='--')\n",
    "plt.xlabel('False Positive Rate')\n",
    "plt.ylabel('True Positive Rate')\n",
    "plt.title('ROC Curve')\n",
    "plt.legend()\n",
    "plt.show()"
   ]
  },
  {
   "cell_type": "markdown",
   "id": "4358a5d4",
   "metadata": {},
   "source": [
    "## Q6. Interpret the decision tree by examining the splits, branches, and leaves. Identify the most important variables and their thresholds. Use domain knowledge and common sense to explain the patterns and trends."
   ]
  },
  {
   "cell_type": "code",
   "execution_count": null,
   "id": "1a3614b1",
   "metadata": {},
   "outputs": [],
   "source": [
    "from sklearn.tree import plot_tree\n",
    "\n",
    "plt.figure(figsize=(20,10))\n",
    "plot_tree(model, feature_names=X.columns, class_names=['Non-Diabetic', 'Diabetic'], filled=True, max_depth=3)\n",
    "plt.show()\n",
    "\n",
    "# Feature importance\n",
    "importances = pd.Series(model.feature_importances_, index=X.columns)\n",
    "print('Feature importances:\\n', importances.sort_values(ascending=False))"
   ]
  },
  {
   "cell_type": "markdown",
   "id": "256fb5ab",
   "metadata": {},
   "source": [
    "## Q7. Validate the decision tree model by applying it to new data or testing its robustness to changes in the dataset or the environment. Use sensitivity analysis and scenario testing to explore the uncertainty and risks."
   ]
  },
  {
   "cell_type": "code",
   "execution_count": null,
   "id": "bb9c820a",
   "metadata": {},
   "outputs": [],
   "source": [
    "# Sensitivity analysis: Varying glucose value for a sample patient\n",
    "import numpy as np\n",
    "sample = X_test.iloc[0].copy()\n",
    "glucose_range = np.arange(80, 200, 5)\n",
    "preds = []\n",
    "for g in glucose_range:\n",
    "    sample['Glucose'] = g\n",
    "    preds.append(model.predict([sample])[0])\n",
    "plt.plot(glucose_range, preds, marker='o')\n",
    "plt.xlabel('Glucose')\n",
    "plt.ylabel('Predicted Outcome')\n",
    "plt.title('Sensitivity Analysis: Glucose Effect')\n",
    "plt.show()"
   ]
  },
  {
   "cell_type": "markdown",
   "id": "ca24f291",
   "metadata": {},
   "source": [
    "This notebook demonstrates the end-to-end process of building, evaluating, and interpreting a decision tree for diabetes prediction in a healthcare setting."
   ]
  }
 ],
 "metadata": {
  "language_info": {
   "name": "python"
  }
 },
 "nbformat": 4,
 "nbformat_minor": 5
}
