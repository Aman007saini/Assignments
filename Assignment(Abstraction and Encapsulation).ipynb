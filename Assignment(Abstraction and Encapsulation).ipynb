{
 "cells": [
  {
   "cell_type": "markdown",
   "id": "451b15c7-9371-479b-b681-076edbb13367",
   "metadata": {},
   "source": [
    "#### Q1. What is Abstraction in OOps? Explain with an example."
   ]
  },
  {
   "cell_type": "code",
   "execution_count": 6,
   "id": "e55f475a-410e-4b8b-8553-100765c9b46f",
   "metadata": {},
   "outputs": [],
   "source": [
    "# Abstraction is a process of hiding internal functionality of the function from the user.eg:-\n",
    "import abc\n",
    "class school:\n",
    "    @abc.abstractmethod\n",
    "    def stu_details(self):\n",
    "        pass\n",
    "    \n",
    "    @abc.abstractmethod\n",
    "    def course_details(self):\n",
    "        pass\n",
    "    \n",
    "    @abc.abstractmethod\n",
    "    def assign_detals(self):\n",
    "        pass    "
   ]
  },
  {
   "cell_type": "code",
   "execution_count": 7,
   "id": "72119488-a00b-423e-94f1-993335b5aef3",
   "metadata": {},
   "outputs": [],
   "source": [
    "class KV(school):\n",
    "    def stu_details(self):\n",
    "        return \"this is student details\"\n",
    "    def course_details(self):\n",
    "        return \"this is course details\"\n",
    "    def assign_detals(self):\n",
    "        return \"this is assignment details\"\n",
    "        "
   ]
  },
  {
   "cell_type": "code",
   "execution_count": 9,
   "id": "4718c8ec-1ccc-44e7-a814-e321715b6c4a",
   "metadata": {},
   "outputs": [
    {
     "data": {
      "text/plain": [
       "'this is assignment details'"
      ]
     },
     "execution_count": 9,
     "metadata": {},
     "output_type": "execute_result"
    }
   ],
   "source": [
    "k= KV()\n",
    "k.assign_detals()"
   ]
  },
  {
   "cell_type": "markdown",
   "id": "2de753b1-5b47-4b2c-9b2b-e5b92a51e585",
   "metadata": {},
   "source": [
    "#### Q2. Differentiate between Abstraction and Encapsulation. Explain with an example."
   ]
  },
  {
   "cell_type": "code",
   "execution_count": 19,
   "id": "0194f860-f823-45c3-acad-a5e9d3bf525e",
   "metadata": {},
   "outputs": [],
   "source": [
    "# Abstraction is a process of hiding internal functionality of the function from the user.\n",
    "# Encapsulation is a mechanism of wrapping data and methods into a single unit.\n",
    "class car:\n",
    "    \n",
    "    def __init__(self,year_modal,make,model,speed):\n",
    "        \n",
    "        self.__year_modal=year_modal\n",
    "        self.__make=make\n",
    "        self.__model=model\n",
    "        self.__speed=0\n",
    "    #now if i want that speed can only be set by a function.\n",
    "    def set_speed(self,speed):\n",
    "        self.speed=0 if speed<0 else speed\n",
    "    def get_speed(self):\n",
    "        return self.__speed\n",
    "    @abc.abstractmethod\n",
    "    def no_of_seats(self):\n",
    "        pass"
   ]
  },
  {
   "cell_type": "code",
   "execution_count": 25,
   "id": "8ba2c61f-5fe2-413b-afba-32ab97586edd",
   "metadata": {},
   "outputs": [],
   "source": [
    "class BMW(car):\n",
    "    def no_of_seats(self,seats):\n",
    "        return \"the no of seats in this car is %d\"% seats"
   ]
  },
  {
   "cell_type": "code",
   "execution_count": 26,
   "id": "fcde3e7f-d9f5-49cc-aa55-5336c433f432",
   "metadata": {},
   "outputs": [
    {
     "data": {
      "text/plain": [
       "'the no of seats in this car is 2'"
      ]
     },
     "execution_count": 26,
     "metadata": {},
     "output_type": "execute_result"
    }
   ],
   "source": [
    "m3=BMW(2023,'BMW','MIII',300)\n",
    "m3.no_of_seats(2)"
   ]
  },
  {
   "cell_type": "markdown",
   "id": "d8dcc97d-15ed-4777-9a71-5e173551229c",
   "metadata": {},
   "source": [
    "#### Q3. What is abc module in python? Why is it used?"
   ]
  },
  {
   "cell_type": "markdown",
   "id": "8297ede2-37a1-461a-82ad-0b91819ad7e1",
   "metadata": {},
   "source": [
    "Python has a module called abc that offer the necessary tools for crafting an abstract class. It provides the infrastructure for defining custom abstract classes."
   ]
  },
  {
   "cell_type": "markdown",
   "id": "1a7beead-ff16-487e-8aa6-bac4b1c1f7a7",
   "metadata": {},
   "source": [
    "#### Q4. How can we achieve data abstraction?"
   ]
  },
  {
   "cell_type": "markdown",
   "id": "b5b433ed-ac37-4cf9-a5f9-7e04b249c2f8",
   "metadata": {},
   "source": [
    "Data abstraction can be achieve by creating abstract class and inheriting it later."
   ]
  },
  {
   "cell_type": "markdown",
   "id": "4f7dc5b6-dc9b-4202-a2c9-20529065889b",
   "metadata": {},
   "source": [
    "#### Q5. Can we create an instance of an abstract class? Explain your answer."
   ]
  },
  {
   "cell_type": "markdown",
   "id": "2acd0e44-136c-4144-a7d4-110684df8274",
   "metadata": {},
   "source": [
    "No we cannot create an instance or object of an abstract class because Abstract classes are not complete, as they may have some methods that are not defined."
   ]
  },
  {
   "cell_type": "code",
   "execution_count": null,
   "id": "4fbf9187-7936-4f8c-89ed-0a869d5d29df",
   "metadata": {},
   "outputs": [],
   "source": []
  }
 ],
 "metadata": {
  "kernelspec": {
   "display_name": "Python 3 (ipykernel)",
   "language": "python",
   "name": "python3"
  },
  "language_info": {
   "codemirror_mode": {
    "name": "ipython",
    "version": 3
   },
   "file_extension": ".py",
   "mimetype": "text/x-python",
   "name": "python",
   "nbconvert_exporter": "python",
   "pygments_lexer": "ipython3",
   "version": "3.10.8"
  }
 },
 "nbformat": 4,
 "nbformat_minor": 5
}
