{
 "cells": [
  {
   "cell_type": "markdown",
   "id": "a13eb50d",
   "metadata": {},
   "source": [
    "# NumPy Basics Assignment\n",
    "\n",
    "## Q1. Is there any difference in the data type of variables list_ and array_list? If there is then write a code to print the data types of both the variables."
   ]
  },
  {
   "cell_type": "code",
   "execution_count": null,
   "id": "6fbc9582",
   "metadata": {},
   "outputs": [],
   "source": [
    "import numpy as np\n",
    "list_ = ['1', '2', '3', '4', '5']\n",
    "array_list = np.array(object = list_)\n",
    "\n",
    "print('Type of list_:', type(list_))\n",
    "print('Type of array_list:', type(array_list))"
   ]
  },
  {
   "cell_type": "markdown",
   "id": "39b505a7",
   "metadata": {},
   "source": [
    "## Q2. Write a code to print the data type of each and every element of both the variables list_ and array_list."
   ]
  },
  {
   "cell_type": "code",
   "execution_count": null,
   "id": "472d4dc7",
   "metadata": {},
   "outputs": [],
   "source": [
    "# Q2\n",
    "print('Data types in list_:')\n",
    "for item in list_:\n",
    "    print(type(item))\n",
    "\n",
    "print('Data types in array_list:')\n",
    "for item in array_list:\n",
    "    print(type(item))"
   ]
  },
  {
   "cell_type": "markdown",
   "id": "7d7787f1",
   "metadata": {},
   "source": [
    "## Q3. Considering the following changes in the variable, array_list:\n",
    "# array_list = np.array(object = list_, dtype = int)\n",
    "# Will there be any difference in the data type of the elements present in both the variables, list_ and array_list? If so then print the data types of each and every element present in both the variables, list_ and array_list."
   ]
  },
  {
   "cell_type": "code",
   "execution_count": null,
   "id": "b8cff066",
   "metadata": {},
   "outputs": [],
   "source": [
    "array_list = np.array(object = list_, dtype = int)\n",
    "\n",
    "print('Data types in list_ after conversion:')\n",
    "for item in list_:\n",
    "    print(type(item))\n",
    "\n",
    "print('Data types in array_list after conversion:')\n",
    "for item in array_list:\n",
    "    print(type(item))"
   ]
  },
  {
   "cell_type": "markdown",
   "id": "00458447",
   "metadata": {},
   "source": [
    "## Q4. Write a code to find the following characteristics of variable, num_array:\n",
    "# (i) shape\n",
    "# (ii) size"
   ]
  },
  {
   "cell_type": "code",
   "execution_count": null,
   "id": "dd9bd39f",
   "metadata": {},
   "outputs": [],
   "source": [
    "num_list = [ [ 1 , 2 , 3 ] , [ 4 , 5 , 6 ] ]\n",
    "num_array = np.array(object = num_list)\n",
    "\n",
    "print('Shape:', num_array.shape)\n",
    "print('Size:', num_array.size)"
   ]
  },
  {
   "cell_type": "markdown",
   "id": "121fe59b",
   "metadata": {},
   "source": [
    "## Q5. Write a code to create numpy array of 3*3 matrix containing zeros only, using a numpy array creation function.\n",
    "# [Hint: The size of the array will be 9 and the shape will be (3,3).]"
   ]
  },
  {
   "cell_type": "code",
   "execution_count": null,
   "id": "18be55db",
   "metadata": {},
   "outputs": [],
   "source": [
    "zeros_matrix = np.zeros((3,3))\n",
    "print(zeros_matrix)\n",
    "print('Shape:', zeros_matrix.shape)\n",
    "print('Size:', zeros_matrix.size)"
   ]
  },
  {
   "cell_type": "markdown",
   "id": "e9e997a5",
   "metadata": {},
   "source": [
    "## Q6. Create an identity matrix of shape (5,5) using numpy functions?\n",
    "# [Hint: An identity matrix is a matrix containing 1 diagonally and other elements will be 0.]"
   ]
  },
  {
   "cell_type": "code",
   "execution_count": null,
   "id": "43af5731",
   "metadata": {},
   "outputs": [],
   "source": [
    "identity_matrix = np.eye(5)\n",
    "print(identity_matrix)"
   ]
  }
 ],
 "metadata": {
  "language_info": {
   "name": "python"
  }
 },
 "nbformat": 4,
 "nbformat_minor": 5
}
