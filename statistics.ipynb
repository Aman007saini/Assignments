{
 "cells": [
  {
   "cell_type": "markdown",
   "id": "0b842ae5",
   "metadata": {},
   "source": [
    "# Statistics Assignment\n",
    "\n",
    "## Q1. What is Statistics?\n",
    "\n",
    "Statistics is the branch of mathematics that deals with collecting, analyzing, interpreting, presenting, and organizing data. It helps in making informed decisions based on data analysis."
   ]
  },
  {
   "cell_type": "markdown",
   "id": "d6ef599d",
   "metadata": {},
   "source": [
    "## Q2. Define the different types of statistics and give an example of when each type might be used.\n",
    "\n",
    "There are two main types of statistics:\n",
    "- **Descriptive Statistics:** Summarizes and describes the main features of a dataset. Example: Calculating the average score of students in a class.\n",
    "- **Inferential Statistics:** Makes predictions or inferences about a population based on a sample. Example: Estimating the average height of all adults in a city based on a sample."
   ]
  },
  {
   "cell_type": "markdown",
   "id": "4ecb89ce",
   "metadata": {},
   "source": [
    "## Q3. What are the different types of data and how do they differ from each other? Provide an example of each type of data.\n",
    "\n",
    "- **Qualitative (Categorical) Data:** Describes categories or groups. Example: Colors (red, blue, green).\n",
    "- **Quantitative (Numerical) Data:** Represents numerical values. Example: Age (23, 45, 67).\n",
    "  - **Discrete Data:** Countable values. Example: Number of students in a class (20, 25).\n",
    "  - **Continuous Data:** Measurable values. Example: Height (5.6 ft, 6.1 ft)."
   ]
  },
  {
   "cell_type": "markdown",
   "id": "94c7e36a",
   "metadata": {},
   "source": [
    "## Q5. Explain the concept of levels of measurement and give an example of a variable for each level.\n",
    "\n",
    "Levels of measurement describe the nature of information within the values assigned to variables:\n",
    "- **Nominal:** Categories without order. Example: Gender (Male, Female).\n",
    "- **Ordinal:** Categories with a meaningful order. Example: Education level (High School, Bachelor, Master).\n",
    "- **Interval:** Ordered, equal intervals, no true zero. Example: Temperature in Celsius.\n",
    "- **Ratio:** Ordered, equal intervals, true zero. Example: Weight (0 kg means no weight)."
   ]
  },
  {
   "cell_type": "markdown",
   "id": "341dcd4d",
   "metadata": {},
   "source": [
    "## Q6. Why is it important to understand the level of measurement when analyzing data? Provide an example to illustrate your answer.\n",
    "\n",
    "Understanding the level of measurement is important because it determines which statistical methods and visualizations are appropriate. For example, calculating the mean of nominal data (like colors) is meaningless, but calculating the mean of ratio data (like height) is valid."
   ]
  },
  {
   "cell_type": "markdown",
   "id": "93b83756",
   "metadata": {},
   "source": [
    "## Q7. How nominal data type is different from ordinal data type.\n",
    "\n",
    "- **Nominal data** represents categories without any order (e.g., blood type: A, B, AB, O).\n",
    "- **Ordinal data** represents categories with a meaningful order (e.g., survey ratings: poor, fair, good, excellent)."
   ]
  },
  {
   "cell_type": "markdown",
   "id": "bdfee2ae",
   "metadata": {},
   "source": [
    "## Q8. Which type of plot can be used to display data in terms of range?\n",
    "\n",
    "A **box plot** (box-and-whisker plot) is commonly used to display data in terms of range, showing the minimum, first quartile, median, third quartile, and maximum."
   ]
  },
  {
   "cell_type": "markdown",
   "id": "c386631e",
   "metadata": {},
   "source": [
    "## Q9. Describe the difference between descriptive and inferential statistics. Give an example of each type of statistics and explain how they are used.\n",
    "\n",
    "- **Descriptive Statistics:** Summarizes data from a sample using measures such as mean, median, and standard deviation. Example: Calculating the average test score in a class.\n",
    "- **Inferential Statistics:** Makes predictions or generalizations about a population based on a sample. Example: Predicting election results based on a poll."
   ]
  },
  {
   "cell_type": "markdown",
   "id": "5adb0327",
   "metadata": {},
   "source": [
    "## Q10. What are some common measures of central tendency and variability used in statistics? Explain how each measure can be used to describe a dataset.\n",
    "\n",
    "**Measures of Central Tendency:**\n",
    "- **Mean:** The average value. Useful for normally distributed data.\n",
    "- **Median:** The middle value. Useful for skewed distributions.\n",
    "- **Mode:** The most frequent value. Useful for categorical data.\n",
    "\n",
    "**Measures of Variability:**\n",
    "- **Range:** Difference between maximum and minimum values.\n",
    "- **Variance:** Average of squared differences from the mean.\n",
    "- **Standard Deviation:** Square root of variance, shows spread of data.\n",
    "\n",
    "These measures help describe the center and spread of a dataset, providing insights into its distribution."
   ]
  }
 ],
 "metadata": {
  "language_info": {
   "name": "python"
  }
 },
 "nbformat": 4,
 "nbformat_minor": 5
}
