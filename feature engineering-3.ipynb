{
 "cells": [
  {
   "cell_type": "markdown",
   "id": "0661b83c",
   "metadata": {},
   "source": [
    "# Feature Engineering - 3"
   ]
  },
  {
   "cell_type": "markdown",
   "id": "9bd8bd96",
   "metadata": {},
   "source": [
    "## Q1. What is Min-Max scaling, and how is it used in data preprocessing? Provide an example to illustrate its application."
   ]
  },
  {
   "cell_type": "markdown",
   "id": "6b81eec2",
   "metadata": {},
   "source": [
    "**Answer:**\n",
    "\n",
    "Min-Max scaling transforms features to a fixed range, usually [0, 1] or [-1, 1]. It is used to normalize data so that all features contribute equally to model training.\n",
    "\n",
    "**Example:**\n",
    "If a feature has values [10, 20, 30], Min-Max scaling to [0, 1]:\n",
    "- Scaled value = (x - min) / (max - min)\n",
    "- [0, 0.5, 1]"
   ]
  },
  {
   "cell_type": "markdown",
   "id": "a5bcdfde",
   "metadata": {},
   "source": [
    "## Q2. What is the Unit Vector technique in feature scaling, and how does it differ from Min-Max scaling? Provide an example to illustrate its application."
   ]
  },
  {
   "cell_type": "markdown",
   "id": "92fb1fdf",
   "metadata": {},
   "source": [
    "**Answer:**\n",
    "\n",
    "Unit Vector scaling (Normalization) rescales each sample (row) so its norm (length) is 1. It differs from Min-Max scaling, which rescales each feature (column) to a range.\n",
    "\n",
    "**Example:**\n",
    "For a vector [3, 4], its norm is 5. The unit vector is [0.6, 0.8]."
   ]
  },
  {
   "cell_type": "markdown",
   "id": "66d4b8c4",
   "metadata": {},
   "source": [
    "## Q3. What is PCA (Principal Component Analysis), and how is it used in dimensionality reduction? Provide an example to illustrate its application."
   ]
  },
  {
   "cell_type": "markdown",
   "id": "72325293",
   "metadata": {},
   "source": [
    "**Answer:**\n",
    "\n",
    "PCA is a technique that transforms data into a new coordinate system, reducing dimensionality by keeping only the most important directions (principal components). It helps remove redundancy and noise.\n",
    "\n",
    "**Example:**\n",
    "Reducing a dataset with 10 features to 2 principal components that explain most of the variance."
   ]
  },
  {
   "cell_type": "markdown",
   "id": "d5096f30",
   "metadata": {},
   "source": [
    "## Q4. What is the relationship between PCA and Feature Extraction, and how can PCA be used for Feature Extraction? Provide an example to illustrate this concept."
   ]
  },
  {
   "cell_type": "markdown",
   "id": "dc7a79ed",
   "metadata": {},
   "source": [
    "**Answer:**\n",
    "\n",
    "PCA is a feature extraction method because it creates new features (principal components) that are linear combinations of the original features. These new features capture the most variance in the data.\n",
    "\n",
    "**Example:**\n",
    "Using PCA to extract 2 principal components from 5 original features for visualization or modeling."
   ]
  },
  {
   "cell_type": "markdown",
   "id": "ab38dee8",
   "metadata": {},
   "source": [
    "## Q5. You are working on a project to build a recommendation system for a food delivery service. The dataset contains features such as price, rating, and delivery time. Explain how you would use Min-Max scaling to preprocess the data."
   ]
  },
  {
   "cell_type": "markdown",
   "id": "8900f2e0",
   "metadata": {},
   "source": [
    "**Answer:**\n",
    "\n",
    "I would apply Min-Max scaling to each feature (price, rating, delivery time) so that all are in the same range (e.g., [0, 1]). This ensures that no feature dominates due to its scale and improves model performance."
   ]
  },
  {
   "cell_type": "markdown",
   "id": "19b61c14",
   "metadata": {},
   "source": [
    "## Q6. You are working on a project to build a model to predict stock prices. The dataset contains many features, such as company financial data and market trends. Explain how you would use PCA to reduce the dimensionality of the dataset."
   ]
  },
  {
   "cell_type": "markdown",
   "id": "601961ab",
   "metadata": {},
   "source": [
    "**Answer:**\n",
    "\n",
    "I would apply PCA to the feature set, select the top principal components that explain most of the variance, and use these as inputs to the model. This reduces noise and computational complexity."
   ]
  },
  {
   "cell_type": "markdown",
   "id": "ac7b9070",
   "metadata": {},
   "source": [
    "## Q7. For a dataset containing the following values: [1, 5, 10, 15, 20], perform Min-Max scaling to transform the values to a range of -1 to 1."
   ]
  },
  {
   "cell_type": "code",
   "execution_count": null,
   "id": "45be610b",
   "metadata": {},
   "outputs": [],
   "source": [
    "import numpy as np\n",
    "\n",
    "data = np.array([1, 5, 10, 15, 20])\n",
    "min_val = np.min(data)\n",
    "max_val = np.max(data)\n",
    "scaled = 2 * (data - min_val) / (max_val - min_val) - 1\n",
    "print(\"Scaled values:\", scaled)"
   ]
  },
  {
   "cell_type": "markdown",
   "id": "dce67d55",
   "metadata": {},
   "source": [
    "## Q8. For a dataset containing the following features: [height, weight, age, gender, blood pressure], perform Feature Extraction using PCA. How many principal components would you choose to retain, and why?"
   ]
  },
  {
   "cell_type": "markdown",
   "id": "374f0bf8",
   "metadata": {},
   "source": [
    "**Answer:**\n",
    "\n",
    "I would apply PCA to the standardized features. The number of principal components to retain is typically chosen so that they explain at least 90-95% of the variance. For 5 features, this might be 2 or 3 components, depending on the explained variance ratio."
   ]
  }
 ],
 "metadata": {
  "language_info": {
   "name": "python"
  }
 },
 "nbformat": 4,
 "nbformat_minor": 5
}
