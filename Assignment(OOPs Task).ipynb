{
 "cells": [
  {
   "cell_type": "markdown",
   "id": "773195d8-8e67-4c41-96ed-38a7f03db244",
   "metadata": {},
   "source": [
    "#### Q1, Create a vehicle class with an init method having instance variables as name_of_vehicle, max_speed and average_of_vehicle."
   ]
  },
  {
   "cell_type": "code",
   "execution_count": 9,
   "id": "939732f3-cf7a-4680-8b2b-ae6014c0f478",
   "metadata": {},
   "outputs": [],
   "source": [
    "class vehicle:\n",
    "    def __init__(self,name_of_vehicle,max_speed,average_of_vehicle):\n",
    "        self.name=name_of_vehicle\n",
    "        self.maxspeed=max_speed\n",
    "        self.average=average_of_vehicle"
   ]
  },
  {
   "cell_type": "markdown",
   "id": "3d3404e0-dece-43c7-aac5-58897148d0a9",
   "metadata": {},
   "source": [
    "#### Q2. Create a child class car from the vehicle class created in Que 1, which will inherit the vehicle class. Create a method named seating_capacity which takes capacity as an argument and returns the name of the vehicle and its seating capacity."
   ]
  },
  {
   "cell_type": "code",
   "execution_count": 12,
   "id": "9d5bd9b4-0ddf-4de5-b715-47e4881f82ac",
   "metadata": {},
   "outputs": [],
   "source": [
    "class car(vehicle):\n",
    "    def seating_capacity(self,capacity):\n",
    "        return self.name,capacity"
   ]
  },
  {
   "cell_type": "code",
   "execution_count": 15,
   "id": "de86eb45-7a4f-42af-97f0-429bd063ce6a",
   "metadata": {},
   "outputs": [
    {
     "data": {
      "text/plain": [
       "('bmw m3', 5)"
      ]
     },
     "execution_count": 15,
     "metadata": {},
     "output_type": "execute_result"
    }
   ],
   "source": [
    "kia=car('bmw m3',240,10)\n",
    "kia.seating_capacity(5)"
   ]
  },
  {
   "cell_type": "markdown",
   "id": "c5d07dc3-36e4-4e91-8664-8d8a24503357",
   "metadata": {},
   "source": [
    "#### Q3. What is multiple inheritance? Write a python code to demonstrate multiple inheritance."
   ]
  },
  {
   "cell_type": "code",
   "execution_count": 22,
   "id": "291d1701-7572-4665-a5b1-84a2ef57220f",
   "metadata": {},
   "outputs": [],
   "source": [
    "# When one child class inherit the property of two or more base class then it is known as multiple inheritance.\n",
    "class classA:\n",
    "    def funA(self):\n",
    "        return \"this is function of class A\"\n",
    "\n",
    "class classB:\n",
    "    def funB(self):\n",
    "        return \"this is function of class B\"\n",
    "\n",
    "class classC(classA, classB):\n",
    "    pass"
   ]
  },
  {
   "cell_type": "code",
   "execution_count": 25,
   "id": "3c3929a7-1df5-40c0-893b-831088834930",
   "metadata": {},
   "outputs": [
    {
     "data": {
      "text/plain": [
       "'this is function of class A'"
      ]
     },
     "execution_count": 25,
     "metadata": {},
     "output_type": "execute_result"
    }
   ],
   "source": [
    "c=classC()\n",
    "c.funA()"
   ]
  },
  {
   "cell_type": "code",
   "execution_count": 26,
   "id": "7d583cb0-80fe-4352-a859-170a8f53b1a6",
   "metadata": {},
   "outputs": [
    {
     "data": {
      "text/plain": [
       "'this is function of class B'"
      ]
     },
     "execution_count": 26,
     "metadata": {},
     "output_type": "execute_result"
    }
   ],
   "source": [
    "c.funB()"
   ]
  },
  {
   "cell_type": "markdown",
   "id": "089ee730-9d4d-4f28-992e-5a1bcd58d534",
   "metadata": {},
   "source": [
    "#### Q4. What are getter and setter in python? Create a class and create a getter and a setter method in this class."
   ]
  },
  {
   "cell_type": "code",
   "execution_count": 17,
   "id": "7564eded-a743-4c77-9d33-3500108481f9",
   "metadata": {},
   "outputs": [],
   "source": [
    "class A:\n",
    "    def __init__(self,name_of_person,age_of_person):\n",
    "        self.__name=name_of_person\n",
    "        self.age=age_of_person\n",
    "   #getter\n",
    "    @property\n",
    "    def change_name(self):\n",
    "        return self.__name\n",
    "    #setter \n",
    "    @change_name.setter\n",
    "    def modified_name(self,name):\n",
    "        self.__name=name\n",
    "        \n",
    "        \n",
    "    "
   ]
  },
  {
   "cell_type": "code",
   "execution_count": 18,
   "id": "bb2a3104-be9b-476e-93c4-1ec9d17d164e",
   "metadata": {},
   "outputs": [],
   "source": [
    "a=A(\"ashu\",19)"
   ]
  },
  {
   "cell_type": "code",
   "execution_count": 19,
   "id": "62aea16e-304e-4f16-9957-d43f7f680ef4",
   "metadata": {},
   "outputs": [],
   "source": [
    "a.modified_name=\"Aman\""
   ]
  },
  {
   "cell_type": "code",
   "execution_count": 20,
   "id": "91f5c9ba-8dba-402b-8e73-cd7dd8872674",
   "metadata": {},
   "outputs": [
    {
     "data": {
      "text/plain": [
       "'Aman'"
      ]
     },
     "execution_count": 20,
     "metadata": {},
     "output_type": "execute_result"
    }
   ],
   "source": [
    "a.change_name"
   ]
  },
  {
   "cell_type": "markdown",
   "id": "90097a08-fb0b-4e15-af93-959aae62fadf",
   "metadata": {},
   "source": [
    "#### Q5.What is method overriding in python? Write a python code to demonstrate method overriding."
   ]
  },
  {
   "cell_type": "code",
   "execution_count": 31,
   "id": "b53d7e29-d1bd-4c14-9d3f-056c3ee5dfa4",
   "metadata": {},
   "outputs": [],
   "source": [
    "# it is the ability that allows child class to provide specific implementation of a method that is already provided by it's parent class.\n",
    "class test:\n",
    "    def __init__(self):\n",
    "        self.value= \"this is parent class\"\n",
    "    \n",
    "    def show (self):\n",
    "        print(self.value)\n",
    "        \n",
    "class child_class(test):\n",
    "    def __init__(self):\n",
    "        self.value= \"this is child class\"\n",
    "    \n",
    "    def show(self):\n",
    "        print(self.value)"
   ]
  },
  {
   "cell_type": "code",
   "execution_count": 32,
   "id": "1c270032-c997-46af-8dcc-26de9eb4da90",
   "metadata": {},
   "outputs": [],
   "source": [
    "p=test()\n",
    "c=child_class()"
   ]
  },
  {
   "cell_type": "code",
   "execution_count": 33,
   "id": "a7e036d8-0ab4-472d-8641-97ac2f124657",
   "metadata": {},
   "outputs": [
    {
     "name": "stdout",
     "output_type": "stream",
     "text": [
      "this is parent class\n",
      "this is child class\n"
     ]
    }
   ],
   "source": [
    "p.show()\n",
    "c.show()"
   ]
  }
 ],
 "metadata": {
  "kernelspec": {
   "display_name": "Python 3 (ipykernel)",
   "language": "python",
   "name": "python3"
  },
  "language_info": {
   "codemirror_mode": {
    "name": "ipython",
    "version": 3
   },
   "file_extension": ".py",
   "mimetype": "text/x-python",
   "name": "python",
   "nbconvert_exporter": "python",
   "pygments_lexer": "ipython3",
   "version": "3.10.8"
  }
 },
 "nbformat": 4,
 "nbformat_minor": 5
}
