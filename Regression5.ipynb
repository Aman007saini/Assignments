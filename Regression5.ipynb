{
 "cells": [
  {
   "cell_type": "markdown",
   "id": "b3af2117",
   "metadata": {},
   "source": [
    "# Regression 5: Elastic Net Regression Concepts and Applications\n",
    "This notebook covers Elastic Net Regression, its differences from other techniques, parameter tuning, advantages/disadvantages, use cases, coefficient interpretation, handling missing values, feature selection, and model pickling in Python."
   ]
  },
  {
   "cell_type": "markdown",
   "id": "832f425d",
   "metadata": {},
   "source": [
    "## Q1. What is Elastic Net Regression and how does it differ from other regression techniques?"
   ]
  },
  {
   "cell_type": "markdown",
   "id": "5d5602b0",
   "metadata": {},
   "source": [
    "**Elastic Net Regression** combines L1 (Lasso) and L2 (Ridge) penalties in its loss function. It encourages both sparsity (feature selection) and coefficient shrinkage. Unlike Lasso (L1) or Ridge (L2) alone, Elastic Net can select groups of correlated features and is more flexible for high-dimensional data."
   ]
  },
  {
   "cell_type": "code",
   "execution_count": null,
   "id": "d640b5d9",
   "metadata": {},
   "outputs": [],
   "source": [
    "# Example: Elastic Net Regression\n",
    "from sklearn.linear_model import ElasticNet\n",
    "\n",
    "elastic = ElasticNet(alpha=0.1, l1_ratio=0.5)\n",
    "elastic.fit(X, Y)\n",
    "print('Elastic Net coefficients:', elastic.coef_)"
   ]
  },
  {
   "cell_type": "markdown",
   "id": "c7fdfd0d",
   "metadata": {},
   "source": [
    "## Q2. How do you choose the optimal values of the regularization parameters for Elastic Net Regression?"
   ]
  },
  {
   "cell_type": "markdown",
   "id": "81507969",
   "metadata": {},
   "source": [
    "Elastic Net has two main parameters: **alpha** (overall regularization strength) and **l1_ratio** (balance between L1 and L2). Use cross-validation (e.g., ElasticNetCV in scikit-learn) to select the best combination of parameters that minimizes validation error."
   ]
  },
  {
   "cell_type": "code",
   "execution_count": null,
   "id": "50e41d55",
   "metadata": {},
   "outputs": [],
   "source": [
    "# Example: Cross-validation for Elastic Net\n",
    "from sklearn.linear_model import ElasticNetCV\n",
    "\n",
    "elastic_cv = ElasticNetCV(alphas=[0.01, 0.1, 1], l1_ratio=[0.2, 0.5, 0.8], cv=5)\n",
    "elastic_cv.fit(X, Y)\n",
    "print('Best alpha:', elastic_cv.alpha_)\n",
    "print('Best l1_ratio:', elastic_cv.l1_ratio_)"
   ]
  },
  {
   "cell_type": "markdown",
   "id": "659734cd",
   "metadata": {},
   "source": [
    "## Q3. What are the advantages and disadvantages of Elastic Net Regression?"
   ]
  },
  {
   "cell_type": "markdown",
   "id": "4ccc008e",
   "metadata": {},
   "source": [
    "**Advantages:**\n",
    "- Handles multicollinearity well.\n",
    "- Performs feature selection and coefficient shrinkage.\n",
    "- Useful for high-dimensional data with correlated features.\n",
    "\n",
    "**Disadvantages:**\n",
    "- Requires tuning of two parameters (alpha and l1_ratio).\n",
    "- May be less interpretable than Lasso or Ridge alone."
   ]
  },
  {
   "cell_type": "markdown",
   "id": "bedc48f7",
   "metadata": {},
   "source": [
    "## Q4. What are some common use cases for Elastic Net Regression?"
   ]
  },
  {
   "cell_type": "markdown",
   "id": "9bf0d4be",
   "metadata": {},
   "source": [
    "- Genomics and bioinformatics (many correlated predictors)\n",
    "- Text classification (high-dimensional sparse data)\n",
    "- Financial modeling with correlated variables\n",
    "- Any regression problem with many features and potential multicollinearity"
   ]
  },
  {
   "cell_type": "markdown",
   "id": "6c1d24fb",
   "metadata": {},
   "source": [
    "## Q5. How do you interpret the coefficients in Elastic Net Regression?"
   ]
  },
  {
   "cell_type": "markdown",
   "id": "c8113c45",
   "metadata": {},
   "source": [
    "Non-zero coefficients indicate important features. The magnitude and sign show the strength and direction of the relationship with the target variable. Zero coefficients mean the feature is excluded from the model."
   ]
  },
  {
   "cell_type": "markdown",
   "id": "fa9819c2",
   "metadata": {},
   "source": [
    "## Q6. How do you handle missing values when using Elastic Net Regression?"
   ]
  },
  {
   "cell_type": "markdown",
   "id": "0a7ecc64",
   "metadata": {},
   "source": [
    "Elastic Net cannot handle missing values directly. You must impute missing values (e.g., using mean, median, or more advanced imputation methods) before fitting the model."
   ]
  },
  {
   "cell_type": "code",
   "execution_count": null,
   "id": "ca93a4e7",
   "metadata": {},
   "outputs": [],
   "source": [
    "# Example: Imputing missing values\n",
    "import numpy as np\n",
    "from sklearn.impute import SimpleImputer\n",
    "\n",
    "X_missing = np.array([[1, 2], [np.nan, 3], [7, 6]])\n",
    "imputer = SimpleImputer(strategy='mean')\n",
    "X_imputed = imputer.fit_transform(X_missing)\n",
    "print('Imputed X:', X_imputed)"
   ]
  },
  {
   "cell_type": "markdown",
   "id": "83c85a57",
   "metadata": {},
   "source": [
    "## Q7. How do you use Elastic Net Regression for feature selection?"
   ]
  },
  {
   "cell_type": "markdown",
   "id": "1d9f1477",
   "metadata": {},
   "source": [
    "After fitting Elastic Net, features with non-zero coefficients are considered selected. You can use these features for further analysis or modeling."
   ]
  },
  {
   "cell_type": "code",
   "execution_count": null,
   "id": "a32290ed",
   "metadata": {},
   "outputs": [],
   "source": [
    "# Example: Feature selection with Elastic Net\n",
    "selected_features = [i for i, coef in enumerate(elastic.coef_) if coef != 0]\n",
    "print('Selected feature indices:', selected_features)"
   ]
  },
  {
   "cell_type": "markdown",
   "id": "5e469bca",
   "metadata": {},
   "source": [
    "## Q8. How do you pickle and unpickle a trained Elastic Net Regression model in Python?"
   ]
  },
  {
   "cell_type": "code",
   "execution_count": null,
   "id": "e663c655",
   "metadata": {},
   "outputs": [],
   "source": [
    "# Example: Pickling and unpickling a model\n",
    "import pickle\n",
    "\n",
    "# Pickle (save) the model\n",
    "with open('elastic_model.pkl', 'wb') as f:\n",
    "    pickle.dump(elastic, f)\n",
    "\n",
    "# Unpickle (load) the model\n",
    "with open('elastic_model.pkl', 'rb') as f:\n",
    "    loaded_model = pickle.load(f)\n",
    "print('Loaded model coefficients:', loaded_model.coef_)"
   ]
  },
  {
   "cell_type": "markdown",
   "id": "348a4c97",
   "metadata": {},
   "source": [
    "## Q9. What is the purpose of pickling a model in machine learning?"
   ]
  },
  {
   "cell_type": "markdown",
   "id": "ada396b1",
   "metadata": {},
   "source": [
    "Pickling allows you to save a trained model to disk so it can be reloaded and used later without retraining. This is useful for deploying models to production or sharing with others."
   ]
  }
 ],
 "metadata": {
  "language_info": {
   "name": "python"
  }
 },
 "nbformat": 4,
 "nbformat_minor": 5
}
