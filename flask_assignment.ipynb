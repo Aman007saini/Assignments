{
 "cells": [
  {
   "cell_type": "markdown",
   "id": "8511ffc4",
   "metadata": {},
   "source": [
    "# Flask-1 Assignment\n",
    "\n",
    "## Q1. What is Flask Framework? What are the advantages of Flask Framework?\n",
    "\n",
    "**Flask** is a lightweight and flexible web framework written in Python. It is classified as a micro-framework because it does not require particular tools or libraries and has no database abstraction layer or form validation by default.\n",
    "\n",
    "**Advantages of Flask Framework:**\n",
    "- Simple and easy to use for beginners.\n",
    "- Lightweight with minimal setup.\n",
    "- Flexible and modular, allowing you to add only what you need.\n",
    "- Extensive documentation and large community support.\n",
    "- Built-in development server and debugger.\n",
    "- Easy integration with other libraries and tools."
   ]
  },
  {
   "cell_type": "markdown",
   "id": "cd088df6",
   "metadata": {},
   "source": [
    "## Q2. Create a simple Flask application to display ‘Hello World!!’. Attach the screenshot of the output in Jupyter Notebook."
   ]
  },
  {
   "cell_type": "code",
   "execution_count": null,
   "id": "a73d71ee",
   "metadata": {},
   "outputs": [],
   "source": [
    "# Simple Flask application to display 'Hello World!!'\n",
    "from flask import Flask\n",
    "\n",
    "app = Flask(__name__)\n",
    "\n",
    "@app.route('/')\n",
    "def hello_world():\n",
    "    return 'Hello World!!'\n",
    "\n",
    "# To run the app, uncomment the line below and run this cell.\n",
    "# app.run()"
   ]
  },
  {
   "cell_type": "markdown",
   "id": "53a7c098",
   "metadata": {},
   "source": [
    "**Screenshot of the output:**  \n",
    "*(Please run the Flask app and open the displayed URL in your browser. Take a screenshot and insert it below.)*\n",
    "\n",
    "![Hello World Output](attachment:hello_world_output.png)"
   ]
  },
  {
   "cell_type": "markdown",
   "id": "3cba9ffa",
   "metadata": {},
   "source": [
    "## Q3. What is App routing in Flask? Why do we use app routes?\n",
    "\n",
    "**App routing** in Flask refers to the mechanism of mapping URLs to specific functions in your application. This is done using the `@app.route()` decorator.\n",
    "\n",
    "**Why use app routes?**\n",
    "- To define different endpoints (URLs) for your web application.\n",
    "- To organize and handle different functionalities based on the URL accessed by the user.\n",
    "- To make the application more modular and maintainable."
   ]
  },
  {
   "cell_type": "markdown",
   "id": "1446e931",
   "metadata": {},
   "source": [
    "## Q4. Create a “/welcome” route to display the welcome message “Welcome to ABC Corporation” and a “/” route to show the following details:\n",
    "\n",
    "- Company Name: ABC Corporation  \n",
    "- Location: India  \n",
    "- Contact Detail: 999-999-9999\n",
    "\n",
    "Attach the screenshot of the output in Jupyter Notebook."
   ]
  },
  {
   "cell_type": "code",
   "execution_count": null,
   "id": "9eb11b49",
   "metadata": {},
   "outputs": [],
   "source": [
    "# Flask app with \"/\" and \"/welcome\" routes\n",
    "from flask import Flask\n",
    "\n",
    "app = Flask(__name__)\n",
    "\n",
    "@app.route('/')\n",
    "def company_details():\n",
    "    return '''\n",
    "    <h2>Company Name: ABC Corporation</h2>\n",
    "    <h3>Location: India</h3>\n",
    "    <h3>Contact Detail: 999-999-9999</h3>\n",
    "    '''\n",
    "\n",
    "@app.route('/welcome')\n",
    "def welcome():\n",
    "    return '<h2>Welcome to ABC Corporation</h2>'\n",
    "\n",
    "# To run the app, uncomment the line below and run this cell.\n",
    "# app.run()"
   ]
  },
  {
   "cell_type": "markdown",
   "id": "02ac94b5",
   "metadata": {},
   "source": [
    "**Screenshot of the output:**  \n",
    "*(Please run the Flask app, visit both \"/\" and \"/welcome\" in your browser, take screenshots, and insert them below.)*\n",
    "\n",
    "- ![Company Details Output](attachment:company_details_output.png)\n",
    "- ![Welcome Output](attachment:welcome_output.png)"
   ]
  },
  {
   "cell_type": "markdown",
   "id": "bf09772b",
   "metadata": {},
   "source": [
    "## Q5. What function is used in Flask for URL Building? Write a Python code to demonstrate the working of the url_for() function.\n",
    "\n",
    "The `url_for()` function in Flask is used for URL building. It generates a URL to the given endpoint (function name) and can also pass arguments to the URL dynamically."
   ]
  },
  {
   "cell_type": "code",
   "execution_count": null,
   "id": "742f8a08",
   "metadata": {},
   "outputs": [],
   "source": [
    "# Demonstration of url_for() function\n",
    "from flask import Flask, url_for\n",
    "\n",
    "app = Flask(__name__)\n",
    "\n",
    "@app.route('/')\n",
    "def index():\n",
    "    return 'Index Page'\n",
    "\n",
    "@app.route('/user/<username>')\n",
    "def show_user(username):\n",
    "    return f'User: {username}'\n",
    "\n",
    "with app.test_request_context():\n",
    "    print(url_for('index'))  # Output: /\n",
    "    print(url_for('show_user', username='john'))  # Output: /user/john"
   ]
  }
 ],
 "metadata": {
  "language_info": {
   "name": "python"
  }
 },
 "nbformat": 4,
 "nbformat_minor": 5
}
