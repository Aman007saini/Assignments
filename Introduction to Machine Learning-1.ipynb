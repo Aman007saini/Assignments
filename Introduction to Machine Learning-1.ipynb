{
 "cells": [
  {
   "cell_type": "markdown",
   "id": "a407acb4",
   "metadata": {},
   "source": [
    "# Introduction to Machine Learning - 1"
   ]
  },
  {
   "cell_type": "markdown",
   "id": "5450ab19",
   "metadata": {},
   "source": [
    "## Q1: Explain the following with an example:\n",
    "- Artificial Intelligence (AI)\n",
    "- Machine Learning (ML)\n",
    "- Deep Learning (DL)"
   ]
  },
  {
   "cell_type": "markdown",
   "id": "0a30de8f",
   "metadata": {},
   "source": [
    "**Answer:**\n",
    "\n",
    "- **Artificial Intelligence (AI):** The broader concept of machines being able to carry out tasks in a way that we would consider \"smart.\" Example: A chess-playing computer.\n",
    "- **Machine Learning (ML):** A subset of AI that allows systems to learn and improve from experience without being explicitly programmed. Example: Email spam filters that learn to detect spam based on data.\n",
    "- **Deep Learning (DL):** A subset of ML that uses neural networks with many layers to model complex patterns. Example: Image recognition systems that identify objects in photos."
   ]
  },
  {
   "cell_type": "markdown",
   "id": "41eaaf17",
   "metadata": {},
   "source": [
    "## Q2: What is supervised learning? List some examples of supervised learning."
   ]
  },
  {
   "cell_type": "markdown",
   "id": "830840cd",
   "metadata": {},
   "source": [
    "**Answer:**\n",
    "\n",
    "Supervised learning is a type of machine learning where the model is trained on labeled data (input-output pairs). The goal is to learn a mapping from inputs to outputs.\n",
    "\n",
    "**Examples:**\n",
    "- Linear regression\n",
    "- Logistic regression\n",
    "- Decision trees\n",
    "- Support vector machines\n",
    "- k-Nearest Neighbors (k-NN)\n",
    "- Neural networks (for classification/regression)"
   ]
  },
  {
   "cell_type": "markdown",
   "id": "3276e180",
   "metadata": {},
   "source": [
    "## Q3: What is unsupervised learning? List some examples of unsupervised learning."
   ]
  },
  {
   "cell_type": "markdown",
   "id": "40166e50",
   "metadata": {},
   "source": [
    "**Answer:**\n",
    "\n",
    "Unsupervised learning is a type of machine learning where the model is trained on unlabeled data and must find patterns or structure in the data.\n",
    "\n",
    "**Examples:**\n",
    "- Clustering (e.g., K-means, hierarchical clustering)\n",
    "- Dimensionality reduction (e.g., PCA, t-SNE)\n",
    "- Association rule mining\n",
    "- Anomaly detection"
   ]
  },
  {
   "cell_type": "markdown",
   "id": "9d7c845b",
   "metadata": {},
   "source": [
    "## Q4: What is the difference between AI, ML, DL, and DS?"
   ]
  },
  {
   "cell_type": "markdown",
   "id": "9527e45c",
   "metadata": {},
   "source": [
    "**Answer:**\n",
    "\n",
    "- **AI:** The broadest field, focused on creating intelligent systems.\n",
    "- **ML:** A subset of AI, focused on systems that learn from data.\n",
    "- **DL:** A subset of ML, focused on deep neural networks.\n",
    "- **DS (Data Science):** An interdisciplinary field that uses scientific methods, processes, and algorithms to extract knowledge from data. It often uses AI/ML/DL as tools."
   ]
  },
  {
   "cell_type": "markdown",
   "id": "fbb20a9e",
   "metadata": {},
   "source": [
    "## Q5: What are the main differences between supervised, unsupervised, and semi-supervised learning?"
   ]
  },
  {
   "cell_type": "markdown",
   "id": "e9332029",
   "metadata": {},
   "source": [
    "**Answer:**\n",
    "\n",
    "- **Supervised learning:** Uses labeled data (input-output pairs).\n",
    "- **Unsupervised learning:** Uses unlabeled data, finds patterns or structure.\n",
    "- **Semi-supervised learning:** Uses a mix of labeled and unlabeled data, often to improve learning accuracy when labeled data is scarce."
   ]
  },
  {
   "cell_type": "markdown",
   "id": "5ed1f235",
   "metadata": {},
   "source": [
    "## Q6: What is train, test and validation split? Explain the importance of each term."
   ]
  },
  {
   "cell_type": "markdown",
   "id": "0eafab21",
   "metadata": {},
   "source": [
    "**Answer:**\n",
    "\n",
    "- **Train set:** Used to train the model.\n",
    "- **Validation set:** Used to tune model hyperparameters and prevent overfitting.\n",
    "- **Test set:** Used to evaluate the final model's performance on unseen data.\n",
    "\n",
    "Splitting data helps ensure the model generalizes well and is not overfitting."
   ]
  },
  {
   "cell_type": "markdown",
   "id": "a2a70168",
   "metadata": {},
   "source": [
    "## Q7: How can unsupervised learning be used in anomaly detection?"
   ]
  },
  {
   "cell_type": "markdown",
   "id": "ab39c3ae",
   "metadata": {},
   "source": [
    "**Answer:**\n",
    "\n",
    "Unsupervised learning algorithms can identify patterns or clusters in data. Data points that do not fit well into any cluster or pattern can be flagged as anomalies. Example: Using clustering to detect fraudulent transactions that differ from normal behavior."
   ]
  },
  {
   "cell_type": "markdown",
   "id": "9d4a82c7",
   "metadata": {},
   "source": [
    "## Q8: List down some commonly used supervised learning algorithms and unsupervised learning algorithms."
   ]
  },
  {
   "cell_type": "markdown",
   "id": "22d436e8",
   "metadata": {},
   "source": [
    "**Answer:**\n",
    "\n",
    "- **Supervised learning algorithms:**\n",
    "  - Linear regression\n",
    "  - Logistic regression\n",
    "  - Decision trees\n",
    "  - Random forest\n",
    "  - Support vector machines\n",
    "  - k-Nearest Neighbors (k-NN)\n",
    "  - Neural networks\n",
    "- **Unsupervised learning algorithms:**\n",
    "  - K-means clustering\n",
    "  - Hierarchical clustering\n",
    "  - Principal Component Analysis (PCA)\n",
    "  - t-SNE\n",
    "  - DBSCAN\n",
    "  - Autoencoders"
   ]
  }
 ],
 "metadata": {
  "language_info": {
   "name": "python"
  }
 },
 "nbformat": 4,
 "nbformat_minor": 5
}
