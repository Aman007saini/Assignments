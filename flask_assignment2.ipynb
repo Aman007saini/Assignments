{
 "cells": [
  {
   "cell_type": "markdown",
   "id": "3ceefd2d",
   "metadata": {},
   "source": [
    "# Flask-2 Assignment\n",
    "\n",
    "## Q1. Explain GET and POST methods.\n",
    "\n",
    "**GET** and **POST** are two of the most commonly used HTTP methods:\n",
    "- **GET:** Used to request data from a specified resource. Data is sent in the URL, making it visible and limited in length. It is mainly used for retrieving data.\n",
    "- **POST:** Used to send data to a server to create/update a resource. Data is sent in the request body, making it more secure for sensitive information. It is mainly used for submitting form data or uploading files."
   ]
  },
  {
   "cell_type": "markdown",
   "id": "5a39cfe4",
   "metadata": {},
   "source": [
    "## Q2. Why is request used in Flask?\n",
    "\n",
    "The `request` object in Flask is used to access incoming request data such as form data, query parameters, headers, cookies, and files sent by the client. It allows you to handle and process data sent to your Flask application from the client side."
   ]
  },
  {
   "cell_type": "markdown",
   "id": "4cb7f9f8",
   "metadata": {},
   "source": [
    "## Q3. Why is redirect() used in Flask?\n",
    "\n",
    "The `redirect()` function in Flask is used to redirect the user to a different endpoint (URL). It is commonly used after form submissions or when you want to guide the user to another page after a certain action."
   ]
  },
  {
   "cell_type": "markdown",
   "id": "cb5dc166",
   "metadata": {},
   "source": [
    "## Q4. What are templates in Flask? Why is the render_template() function used?\n",
    "\n",
    "**Templates** in Flask are files (usually HTML) that allow you to separate the presentation layer from the business logic. They enable dynamic content rendering by embedding Python-like expressions and statements.\n",
    "\n",
    "The `render_template()` function is used to render these templates and pass data from your Flask application to the template for dynamic content generation."
   ]
  },
  {
   "cell_type": "markdown",
   "id": "20a20fad",
   "metadata": {},
   "source": [
    "## Q5. Create a simple API. Use Postman to test it. Attach the screenshot of the output in the Jupyter Notebook."
   ]
  },
  {
   "cell_type": "code",
   "execution_count": null,
   "id": "5ceb0392",
   "metadata": {},
   "outputs": [],
   "source": [
    "# Simple Flask API example\n",
    "from flask import Flask, jsonify, request\n",
    "\n",
    "app = Flask(__name__)\n",
    "\n",
    "@app.route('/api/greet', methods=['GET', 'POST'])\n",
    "def greet():\n",
    "    if request.method == 'POST':\n",
    "        data = request.get_json()\n",
    "        name = data.get('name', 'Guest')\n",
    "        return jsonify({'message': f'Hello, {name}!'}), 200\n",
    "    else:\n",
    "        return jsonify({'message': 'Send a POST request with your name!'}), 200\n",
    "\n",
    "# To run the app, uncomment the line below and run this cell.\n",
    "# app.run()"
   ]
  },
  {
   "cell_type": "markdown",
   "id": "2134c22b",
   "metadata": {},
   "source": [
    "**Screenshot of the output:**  \n",
    "*(Use Postman to send a POST request to `/api/greet` with a JSON body like `{ \"name\": \"Alice\" }`. Take a screenshot of the response and insert it below.)*\n",
    "\n",
    "![API Output](attachment:api_output.png)"
   ]
  }
 ],
 "metadata": {
  "language_info": {
   "name": "python"
  }
 },
 "nbformat": 4,
 "nbformat_minor": 5
}
