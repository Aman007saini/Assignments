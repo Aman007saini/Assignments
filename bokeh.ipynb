{
 "cells": [
  {
   "cell_type": "markdown",
   "id": "2525c531",
   "metadata": {},
   "source": [
    "# Bokeh Assignment\n",
    "\n",
    "## Q1. How can you create a Bokeh plot using Python code?"
   ]
  },
  {
   "cell_type": "code",
   "execution_count": null,
   "id": "cd08bd8f",
   "metadata": {},
   "outputs": [],
   "source": [
    "from bokeh.plotting import figure, show, output_notebook\n",
    "output_notebook()\n",
    "\n",
    "# Create a simple line plot\n",
    "p = figure(title=\"Simple Line Plot\", x_axis_label='x', y_axis_label='y')\n",
    "p.line([1, 2, 3, 4, 5], [6, 7, 2, 4, 5], legend_label=\"Line\", line_width=2)\n",
    "show(p)"
   ]
  },
  {
   "cell_type": "markdown",
   "id": "af449272",
   "metadata": {},
   "source": [
    "## Q2. What are glyphs in Bokeh, and how can you add them to a Bokeh plot? Explain with an example."
   ]
  },
  {
   "cell_type": "markdown",
   "id": "3bd7c5aa",
   "metadata": {},
   "source": [
    "**Glyphs** in Bokeh are the basic visual building blocks of plots, such as circles, lines, rectangles, etc. You add glyphs to a plot using methods like `circle()`, `line()`, `rect()`, etc."
   ]
  },
  {
   "cell_type": "code",
   "execution_count": null,
   "id": "3c43d885",
   "metadata": {},
   "outputs": [],
   "source": [
    "from bokeh.plotting import figure, show, output_notebook\n",
    "output_notebook()\n",
    "\n",
    "# Example: Adding circle and line glyphs\n",
    "p = figure(title=\"Glyph Example\", x_axis_label='x', y_axis_label='y')\n",
    "p.circle([1, 2, 3], [4, 6, 5], size=10, color=\"navy\", alpha=0.5, legend_label=\"Circle\")\n",
    "p.line([1, 2, 3], [4, 6, 5], line_width=2, color=\"orange\", legend_label=\"Line\")\n",
    "show(p)"
   ]
  },
  {
   "cell_type": "markdown",
   "id": "83b1dcf1",
   "metadata": {},
   "source": [
    "## Q3. How can you customize the appearance of a Bokeh plot, including the axes, title, and legend?"
   ]
  },
  {
   "cell_type": "code",
   "execution_count": null,
   "id": "46af250a",
   "metadata": {},
   "outputs": [],
   "source": [
    "from bokeh.plotting import figure, show, output_notebook\n",
    "output_notebook()\n",
    "\n",
    "p = figure(title=\"Customized Plot\", x_axis_label='X Axis', y_axis_label='Y Axis', plot_width=400, plot_height=300)\n",
    "p.line([1, 2, 3], [4, 6, 5], line_width=2, color=\"green\", legend_label=\"Data Line\")\n",
    "p.title.text_font_size = '16pt'\n",
    "p.xaxis.axis_label_text_color = \"blue\"\n",
    "p.yaxis.axis_label_text_color = \"red\"\n",
    "p.legend.label_text_font_size = '12pt'\n",
    "p.legend.location = \"top_left\"\n",
    "show(p)"
   ]
  },
  {
   "cell_type": "markdown",
   "id": "f66e4680",
   "metadata": {},
   "source": [
    "## Q4. What is a Bokeh server, and how can you use it to create interactive plots that can be updated in real time?"
   ]
  },
  {
   "cell_type": "markdown",
   "id": "9055ff82",
   "metadata": {},
   "source": [
    "A **Bokeh server** allows you to build interactive web applications with Bokeh plots that can be updated in real time based on user input or other events. You can use Python callbacks to update data sources and plot elements dynamically.\n",
    "\n",
    "**Example:**\n",
    "```python\n",
    "from bokeh.io import curdoc\n",
    "from bokeh.models import ColumnDataSource\n",
    "from bokeh.plotting import figure\n",
    "from bokeh.layouts import column\n",
    "from bokeh.models import Slider\n",
    "\n",
    "data = {'x': [1, 2, 3, 4, 5], 'y': [6, 7, 2, 4, 5]}\n",
    "source = ColumnDataSource(data=data)\n",
    "\n",
    "plot = figure()\n",
    "plot.line('x', 'y', source=source)\n",
    "\n",
    "slider = Slider(start=1, end=10, value=1, step=1, title=\"Multiplier\")\n",
    "\n",
    "def update(attr, old, new):\n",
    "    source.data = {'x': data['x'], 'y': [i * slider.value for i in data['y']]}\n",
    "slider.on_change('value', update)\n",
    "\n",
    "curdoc().add_root(column(slider, plot))\n",
    "```\n",
    "To run this, save it as `main.py` and run `bokeh serve main.py` in the terminal."
   ]
  },
  {
   "cell_type": "markdown",
   "id": "c5c40541",
   "metadata": {},
   "source": [
    "## Q5. How can you embed a Bokeh plot into a web page or dashboard using Flask or Django?"
   ]
  },
  {
   "cell_type": "markdown",
   "id": "b2ba817c",
   "metadata": {},
   "source": [
    "You can embed a Bokeh plot into a Flask or Django web page using the `components` function from `bokeh.embed` to generate script and div elements, which can be inserted into your HTML templates.\n",
    "\n",
    "**Example with Flask:**\n",
    "```python\n",
    "from flask import Flask, render_template_string\n",
    "from bokeh.plotting import figure\n",
    "from bokeh.embed import components\n",
    "\n",
    "app = Flask(__name__)\n",
    "\n",
    "@app.route('/')\n",
    "def index():\n",
    "    p = figure()\n",
    "    p.line([1, 2, 3], [4, 6, 5])\n",
    "    script, div = components(p)\n",
    "    html = f\"\"\"\n",
    "    <html><body>{div}{script}</body></html>\n",
    "    \"\"\"\n",
    "    return html\n",
    "\n",
    "if __name__ == '__main__':\n",
    "    app.run(debug=True)\n",
    "```"
   ]
  }
 ],
 "metadata": {
  "language_info": {
   "name": "python"
  }
 },
 "nbformat": 4,
 "nbformat_minor": 5
}
