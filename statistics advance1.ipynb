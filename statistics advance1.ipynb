{
 "cells": [
  {
   "cell_type": "markdown",
   "id": "3d59341b",
   "metadata": {},
   "source": [
    "# Statistics Advance 1 Assignment\n",
    "\n",
    "## Q1. What is the Probability density function?\n",
    "\n",
    "A **Probability Density Function (PDF)** describes the likelihood of a continuous random variable taking on a particular value. The area under the PDF curve over an interval represents the probability that the variable falls within that interval."
   ]
  },
  {
   "cell_type": "markdown",
   "id": "40342369",
   "metadata": {},
   "source": [
    "## Q2. What are the types of Probability distribution?\n",
    "\n",
    "- **Discrete Probability Distributions:** e.g., Binomial, Poisson, Geometric\n",
    "- **Continuous Probability Distributions:** e.g., Normal, Exponential, Uniform"
   ]
  },
  {
   "cell_type": "markdown",
   "id": "d973b0c7",
   "metadata": {},
   "source": [
    "## Q3. Write a Python function to calculate the probability density function of a normal distribution with given mean and standard deviation at a given point."
   ]
  },
  {
   "cell_type": "code",
   "execution_count": null,
   "id": "a62175de",
   "metadata": {},
   "outputs": [],
   "source": [
    "import numpy as np\n",
    "\n",
    "def normal_pdf(x, mean, std):\n",
    "    return (1/(std * np.sqrt(2 * np.pi))) * np.exp(-0.5 * ((x - mean)/std)**2)\n",
    "\n",
    "# Example usage:\n",
    "print(normal_pdf(0, 0, 1))  # PDF at x=0 for standard normal"
   ]
  },
  {
   "cell_type": "markdown",
   "id": "cdb8e8ff",
   "metadata": {},
   "source": [
    "## Q4. What are the properties of Binomial distribution? Give two examples of events where binomial distribution can be applied.\n",
    "\n",
    "**Properties:**\n",
    "- Fixed number of trials (n)\n",
    "- Each trial has two possible outcomes (success/failure)\n",
    "- Probability of success (p) is constant for each trial\n",
    "- Trials are independent\n",
    "\n",
    "**Examples:**\n",
    "1. Tossing a coin 10 times and counting the number of heads.\n",
    "2. Number of defective items in a batch of 20 products."
   ]
  },
  {
   "cell_type": "markdown",
   "id": "8404cedf",
   "metadata": {},
   "source": [
    "## Q5. Generate a random sample of size 1000 from a binomial distribution with probability of success 0.4 and plot a histogram of the results using matplotlib."
   ]
  },
  {
   "cell_type": "code",
   "execution_count": null,
   "id": "f0ef15f5",
   "metadata": {},
   "outputs": [],
   "source": [
    "import numpy as np\n",
    "import matplotlib.pyplot as plt\n",
    "\n",
    "sample = np.random.binomial(n=10, p=0.4, size=1000)\n",
    "plt.hist(sample, bins=range(0,12), edgecolor='black', alpha=0.7)\n",
    "plt.title('Binomial Distribution (n=10, p=0.4)')\n",
    "plt.xlabel('Number of Successes')\n",
    "plt.ylabel('Frequency')\n",
    "plt.show()"
   ]
  },
  {
   "cell_type": "markdown",
   "id": "574daa61",
   "metadata": {},
   "source": [
    "## Q6. Write a Python function to calculate the cumulative distribution function of a Poisson distribution with given mean at a given point."
   ]
  },
  {
   "cell_type": "code",
   "execution_count": null,
   "id": "04c34c4b",
   "metadata": {},
   "outputs": [],
   "source": [
    "from scipy.stats import poisson\n",
    "\n",
    "def poisson_cdf(k, mu):\n",
    "    return poisson.cdf(k, mu)\n",
    "\n",
    "# Example usage:\n",
    "print(poisson_cdf(3, 2))  # CDF at k=3 for mean=2"
   ]
  },
  {
   "cell_type": "markdown",
   "id": "3c7ea82c",
   "metadata": {},
   "source": [
    "## Q7. How Binomial distribution different from Poisson distribution?\n",
    "\n",
    "- **Binomial distribution** models the number of successes in a fixed number of independent trials with constant probability of success.\n",
    "- **Poisson distribution** models the number of events occurring in a fixed interval of time or space, with a known average rate and independent occurrences."
   ]
  },
  {
   "cell_type": "markdown",
   "id": "9541ae7c",
   "metadata": {},
   "source": [
    "## Q8. Generate a random sample of size 1000 from a Poisson distribution with mean 5 and calculate the sample mean and variance."
   ]
  },
  {
   "cell_type": "code",
   "execution_count": null,
   "id": "fa28b82e",
   "metadata": {},
   "outputs": [],
   "source": [
    "import numpy as np\n",
    "\n",
    "sample = np.random.poisson(lam=5, size=1000)\n",
    "print('Sample Mean:', np.mean(sample))\n",
    "print('Sample Variance:', np.var(sample))"
   ]
  },
  {
   "cell_type": "markdown",
   "id": "ac80cc8f",
   "metadata": {},
   "source": [
    "## Q9. How mean and variance are related in Binomial distribution and Poisson distribution?\n",
    "\n",
    "- **Binomial:** Mean = n*p, Variance = n*p*(1-p)\n",
    "- **Poisson:** Mean = Variance = λ (lambda)"
   ]
  },
  {
   "cell_type": "markdown",
   "id": "6decc900",
   "metadata": {},
   "source": [
    "## Q10. In normal distribution with respect to mean position, where does the least frequent data appear?\n",
    "\n",
    "In a normal distribution, the least frequent data appears in the tails, farthest from the mean."
   ]
  }
 ],
 "metadata": {
  "language_info": {
   "name": "python"
  }
 },
 "nbformat": 4,
 "nbformat_minor": 5
}
