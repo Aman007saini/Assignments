{
 "cells": [
  {
   "cell_type": "markdown",
   "id": "697dd1f1",
   "metadata": {},
   "source": [
    "# Statistics Advance 2 Assignment\n",
    "\n",
    "## Q1: What are the Probability Mass Function (PMF) and Probability Density Function (PDF)? Explain with an example.\n",
    "\n",
    "- **PMF** is used for discrete random variables and gives the probability that a variable is exactly equal to some value. Example: The probability of getting 2 heads in 3 coin tosses.\n",
    "- **PDF** is used for continuous random variables and describes the relative likelihood for a variable to take on a given value. Example: The height distribution of people in a population."
   ]
  },
  {
   "cell_type": "markdown",
   "id": "17e5c62c",
   "metadata": {},
   "source": [
    "## Q2: What is Cumulative Density Function (CDF)? Explain with an example. Why CDF is used?\n",
    "\n",
    "The **Cumulative Density Function (CDF)** gives the probability that a random variable is less than or equal to a certain value. Example: For a normal distribution, the CDF at x=1 gives the probability that a value is less than or equal to 1. CDF is used to determine probabilities for ranges and to compare distributions."
   ]
  },
  {
   "cell_type": "markdown",
   "id": "457d571a",
   "metadata": {},
   "source": [
    "## Q3: What are some examples of situations where the normal distribution might be used as a model? Explain how the parameters of the normal distribution relate to the shape of the distribution.\n",
    "\n",
    "Examples: Heights of people, test scores, measurement errors. The mean (μ) determines the center, and the standard deviation (σ) determines the spread. A larger σ means a wider, flatter curve; a smaller σ means a narrower, taller curve."
   ]
  },
  {
   "cell_type": "markdown",
   "id": "c094d780",
   "metadata": {},
   "source": [
    "## Q4: Explain the importance of Normal Distribution. Give a few real-life examples of Normal Distribution.\n",
    "\n",
    "The normal distribution is important because many natural phenomena follow it, and it is the basis for many statistical methods. Examples: IQ scores, blood pressure, measurement errors, and heights of adults."
   ]
  },
  {
   "cell_type": "markdown",
   "id": "f4e8b5cc",
   "metadata": {},
   "source": [
    "## Q5: What is Bernaulli Distribution? Give an Example. What is the difference between Bernoulli Distribution and Binomial Distribution?\n",
    "\n",
    "- **Bernoulli Distribution** models a single trial with two outcomes (success/failure). Example: Tossing a coin once.\n",
    "- **Binomial Distribution** models the number of successes in a fixed number of independent Bernoulli trials. Example: Tossing a coin 10 times and counting the number of heads."
   ]
  },
  {
   "cell_type": "markdown",
   "id": "f6187572",
   "metadata": {},
   "source": [
    "## Q6. Consider a dataset with a mean of 50 and a standard deviation of 10. If we assume that the dataset is normally distributed, what is the probability that a randomly selected observation will be greater than 60? Use the appropriate formula and show your calculations."
   ]
  },
  {
   "cell_type": "code",
   "execution_count": null,
   "id": "acae7fe6",
   "metadata": {},
   "outputs": [],
   "source": [
    "from scipy.stats import norm\n",
    "\n",
    "mean = 50\n",
    "std = 10\n",
    "x = 60\n",
    "z = (x - mean) / std\n",
    "prob = 1 - norm.cdf(z)\n",
    "print(f\"Probability that X > 60: {prob}\")"
   ]
  },
  {
   "cell_type": "markdown",
   "id": "df01adfe",
   "metadata": {},
   "source": [
    "## Q7: Explain uniform Distribution with an example.\n",
    "\n",
    "A **uniform distribution** is a distribution where all outcomes are equally likely within a certain interval. Example: Rolling a fair die, where each face (1-6) has an equal probability of 1/6."
   ]
  },
  {
   "cell_type": "markdown",
   "id": "2d016a26",
   "metadata": {},
   "source": [
    "## Q8: What is the z score? State the importance of the z score.\n",
    "\n",
    "A **z score** measures how many standard deviations a value is from the mean. It is important for standardizing data, comparing values from different distributions, and calculating probabilities in a normal distribution."
   ]
  },
  {
   "cell_type": "markdown",
   "id": "5e69be29",
   "metadata": {},
   "source": [
    "## Q9: What is Central Limit Theorem? State the significance of the Central Limit Theorem.\n",
    "\n",
    "The **Central Limit Theorem (CLT)** states that the sampling distribution of the sample mean approaches a normal distribution as the sample size increases, regardless of the population's distribution. It is significant because it allows us to use normal probability theory for inference even when the population is not normal."
   ]
  },
  {
   "cell_type": "markdown",
   "id": "b36f187a",
   "metadata": {},
   "source": [
    "## Q10: State the assumptions of the Central Limit Theorem.\n",
    "\n",
    "- Samples are independent.\n",
    "- The sample size is sufficiently large (usually n > 30).\n",
    "- The population has a finite mean and variance."
   ]
  }
 ],
 "metadata": {
  "language_info": {
   "name": "python"
  }
 },
 "nbformat": 4,
 "nbformat_minor": 5
}
