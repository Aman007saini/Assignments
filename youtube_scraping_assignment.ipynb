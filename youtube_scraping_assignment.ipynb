{
 "cells": [
  {
   "cell_type": "markdown",
   "id": "79c4a61a",
   "metadata": {},
   "source": [
    "# YouTube Video Data Scraping Assignment\n",
    "\n",
    "## Q1-Q5: Scrape video URL, thumbnail URL, title, views, and posting time for the first five videos, and save to CSV\n",
    "\n",
    "Below is a Python program using `requests` and `BeautifulSoup` to scrape the required data from a YouTube search results page. Note: YouTube uses dynamic content loading, so for reliable scraping, Selenium is often used. This example uses `requests` and `BeautifulSoup` for demonstration, but may not work for all YouTube pages due to JavaScript rendering."
   ]
  },
  {
   "cell_type": "code",
   "execution_count": null,
   "id": "bde53564",
   "metadata": {},
   "outputs": [],
   "source": [
    "import requests\n",
    "from bs4 import BeautifulSoup\n",
    "import pandas as pd\n",
    "\n",
    "# Example YouTube search URL (replace with your target URL)\n",
    "url = 'https://www.youtube.com/results?search_query=python+programming'\n",
    "\n",
    "headers = {\n",
    "    'User-Agent': 'Mozilla/5.0 (Windows NT 10.0; Win64; x64) AppleWebKit/537.36 (KHTML, like Gecko) Chrome/58.0.3029.110 Safari/537.3'\n",
    "}\n",
    "\n",
    "response = requests.get(url, headers=headers)\n",
    "soup = BeautifulSoup(response.text, 'html.parser')\n",
    "\n",
    "# Find all video containers (YouTube uses 'a' tags with 'href' containing '/watch')\n",
    "videos = []\n",
    "for a in soup.find_all('a', href=True):\n",
    "    if '/watch?v=' in a['href']:\n",
    "        videos.append(a)\n",
    "\n",
    "# Remove duplicates and keep only the first five unique videos\n",
    "seen = set()\n",
    "unique_videos = []\n",
    "for v in videos:\n",
    "    if v['href'] not in seen:\n",
    "        unique_videos.append(v)\n",
    "        seen.add(v['href'])\n",
    "    if len(unique_videos) == 5:\n",
    "        break\n",
    "\n",
    "video_data = []\n",
    "for v in unique_videos:\n",
    "    video_url = 'https://www.youtube.com' + v['href']\n",
    "    title = v.get('title') or v.text.strip()\n",
    "    # Thumbnail URL pattern\n",
    "    video_id = v['href'].split('v=')[1].split('&')[0]\n",
    "    thumbnail_url = f'https://img.youtube.com/vi/{video_id}/0.jpg'\n",
    "    # Views and posting time are not available in the anchor tag; would require more advanced scraping or Selenium\n",
    "    video_data.append({\n",
    "        'Video URL': video_url,\n",
    "        'Thumbnail URL': thumbnail_url,\n",
    "        'Title': title,\n",
    "        'Views': 'N/A',\n",
    "        'Posted': 'N/A'\n",
    "    })\n",
    "\n",
    "# Save to CSV\n",
    "csv_filename = 'youtube_videos.csv'\n",
    "df = pd.DataFrame(video_data)\n",
    "df.to_csv(csv_filename, index=False)\n",
    "df"
   ]
  }
 ],
 "metadata": {
  "language_info": {
   "name": "python"
  }
 },
 "nbformat": 4,
 "nbformat_minor": 5
}
