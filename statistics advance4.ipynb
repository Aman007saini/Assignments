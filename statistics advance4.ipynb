{
 "cells": [
  {
   "cell_type": "markdown",
   "id": "16b1e2f4",
   "metadata": {},
   "source": [
    "# Statistics Advance 4 Assignment\n",
    "\n",
    "## Q1: What is the difference between a t-test and a z-test? Provide an example scenario where you would use each type of test.\n",
    "\n",
    "- **t-test** is used when the population standard deviation is unknown and/or the sample size is small (n < 30). Example: Comparing the mean test scores of two small classes.\n",
    "- **z-test** is used when the population standard deviation is known and the sample size is large (n ≥ 30). Example: Testing if the average height of a large population differs from a known value."
   ]
  },
  {
   "cell_type": "markdown",
   "id": "dca69c26",
   "metadata": {},
   "source": [
    "## Q2: Differentiate between one-tailed and two-tailed tests.\n",
    "\n",
    "- **One-tailed test:** Tests for a difference in one direction (greater than or less than).\n",
    "- **Two-tailed test:** Tests for a difference in either direction (not equal to)."
   ]
  },
  {
   "cell_type": "markdown",
   "id": "836db584",
   "metadata": {},
   "source": [
    "## Q3: Explain the concept of Type 1 and Type 2 errors in hypothesis testing. Provide an example scenario for each type of error.\n",
    "\n",
    "- **Type 1 Error (False Positive):** Rejecting a true null hypothesis. Example: Concluding a drug works when it actually doesn't.\n",
    "- **Type 2 Error (False Negative):** Failing to reject a false null hypothesis. Example: Concluding a drug doesn't work when it actually does."
   ]
  },
  {
   "cell_type": "markdown",
   "id": "de199722",
   "metadata": {},
   "source": [
    "## Q4: Explain Bayes's theorem with an example.\n",
    "\n",
    "Bayes's theorem describes the probability of an event based on prior knowledge of conditions related to the event.\n",
    "\n",
    "P(A|B) = [P(B|A) * P(A)] / P(B)\n",
    "\n",
    "**Example:** If 1% of people have a disease (A), and a test is 99% accurate (B), Bayes' theorem can be used to find the probability that a person who tests positive actually has the disease."
   ]
  },
  {
   "cell_type": "markdown",
   "id": "fcefd593",
   "metadata": {},
   "source": [
    "## Q5: What is a confidence interval? How to calculate the confidence interval, explain with an example.\n",
    "\n",
    "A **confidence interval** is a range of values that is likely to contain the population parameter with a certain level of confidence. Example: For a sample mean of 100, standard deviation 15, n=30, 95% CI = mean ± z*(std/sqrt(n))."
   ]
  },
  {
   "cell_type": "markdown",
   "id": "60a572ae",
   "metadata": {},
   "source": [
    "## Q6. Use Bayes' Theorem to calculate the probability of an event occurring given prior knowledge of the event's probability and new evidence. Provide a sample problem and solution."
   ]
  },
  {
   "cell_type": "code",
   "execution_count": null,
   "id": "ba6c74c8",
   "metadata": {},
   "outputs": [],
   "source": [
    "# Example: Disease test\n",
    "# P(Disease) = 0.01, P(No Disease) = 0.99\n",
    "# P(Positive|Disease) = 0.99, P(Positive|No Disease) = 0.05\n",
    "P_D = 0.01\n",
    "P_ND = 0.99\n",
    "P_Pos_D = 0.99\n",
    "P_Pos_ND = 0.05\n",
    "P_Pos = P_Pos_D * P_D + P_Pos_ND * P_ND\n",
    "P_D_Pos = (P_Pos_D * P_D) / P_Pos\n",
    "print(f\"Probability of having disease given positive test: {P_D_Pos:.4f}\")"
   ]
  },
  {
   "cell_type": "markdown",
   "id": "1dcb9021",
   "metadata": {},
   "source": [
    "## Q7. Calculate the 95% confidence interval for a sample of data with a mean of 50 and a standard deviation of 5. Interpret the results."
   ]
  },
  {
   "cell_type": "code",
   "execution_count": null,
   "id": "d3fb974d",
   "metadata": {},
   "outputs": [],
   "source": [
    "import scipy.stats as stats\n",
    "import numpy as np\n",
    "\n",
    "mean = 50\n",
    "std = 5\n",
    "n = 30\n",
    "confidence = 0.95\n",
    "z = stats.norm.ppf(1 - (1-confidence)/2)\n",
    "margin_error = z * (std / np.sqrt(n))\n",
    "ci_lower = mean - margin_error\n",
    "ci_upper = mean + margin_error\n",
    "print(f\"95% Confidence Interval: ({ci_lower:.2f}, {ci_upper:.2f})\")"
   ]
  },
  {
   "cell_type": "markdown",
   "id": "0343f51f",
   "metadata": {},
   "source": [
    "## Q8. What is the margin of error in a confidence interval? How does sample size affect the margin of error? Provide an example of a scenario where a larger sample size would result in a smaller margin of error.\n",
    "\n",
    "The **margin of error** is the range above and below the sample statistic in a confidence interval. A larger sample size decreases the margin of error, making the estimate more precise. Example: Surveying 1000 people gives a smaller margin of error than surveying 100 people."
   ]
  },
  {
   "cell_type": "markdown",
   "id": "8442e4e6",
   "metadata": {},
   "source": [
    "## Q9. Calculate the z-score for a data point with a value of 75, a population mean of 70, and a population standard deviation of 5. Interpret the results."
   ]
  },
  {
   "cell_type": "code",
   "execution_count": null,
   "id": "e4f57d54",
   "metadata": {},
   "outputs": [],
   "source": [
    "value = 75\n",
    "mean = 70\n",
    "std = 5\n",
    "z = (value - mean) / std\n",
    "print(f\"z-score: {z}\")\n",
    "# Interpretation: The data point is {z} standard deviations above the mean."
   ]
  },
  {
   "cell_type": "markdown",
   "id": "dae814bb",
   "metadata": {},
   "source": [
    "## Q10. In a study of the effectiveness of a new weight loss drug, a sample of 50 participants lost an average of 6 pounds with a standard deviation of 2.5 pounds. Conduct a hypothesis test to determine if the drug is significantly effective at a 95% confidence level using a t-test."
   ]
  },
  {
   "cell_type": "code",
   "execution_count": null,
   "id": "93ec76db",
   "metadata": {},
   "outputs": [],
   "source": [
    "import scipy.stats as stats\n",
    "\n",
    "sample_mean = 6\n",
    "population_mean = 0  # Null hypothesis: no weight loss\n",
    "std_dev = 2.5\n",
    "n = 50\n",
    "alpha = 0.05\n",
    "t_stat = (sample_mean - population_mean) / (std_dev / np.sqrt(n))\n",
    "p_value = 1 - stats.t.cdf(t_stat, df=n-1)  # right-tailed test\n",
    "print(f\"t-statistic: {t_stat}, p-value: {p_value}\")\n",
    "if p_value < alpha:\n",
    "    print(\"Reject the null hypothesis.\")\n",
    "else:\n",
    "    print(\"Fail to reject the null hypothesis.\")"
   ]
  },
  {
   "cell_type": "markdown",
   "id": "73b61848",
   "metadata": {},
   "source": [
    "## Q11. In a survey of 500 people, 65% reported being satisfied with their current job. Calculate the 95% confidence interval for the true proportion of people who are satisfied with their job."
   ]
  },
  {
   "cell_type": "code",
   "execution_count": null,
   "id": "016a7fd0",
   "metadata": {},
   "outputs": [],
   "source": [
    "import scipy.stats as stats\n",
    "import numpy as np\n",
    "\n",
    "p_hat = 0.65\n",
    "n = 500\n",
    "confidence = 0.95\n",
    "z = stats.norm.ppf(1 - (1-confidence)/2)\n",
    "margin_error = z * np.sqrt((p_hat * (1 - p_hat)) / n)\n",
    "ci_lower = p_hat - margin_error\n",
    "ci_upper = p_hat + margin_error\n",
    "print(f\"95% Confidence Interval for Proportion: ({ci_lower:.3f}, {ci_upper:.3f})\")"
   ]
  },
  {
   "cell_type": "markdown",
   "id": "40197ff0",
   "metadata": {},
   "source": [
    "## Q12. A researcher is testing the effectiveness of two different teaching methods on student performance. Sample A has a mean score of 85 with a standard deviation of 6, while sample B has a mean score of 82 with a standard deviation of 5. Conduct a hypothesis test to determine if the two teaching methods have a significant difference in student performance using a t-test with a significance level of 0.01."
   ]
  },
  {
   "cell_type": "code",
   "execution_count": null,
   "id": "0c263620",
   "metadata": {},
   "outputs": [],
   "source": [
    "import numpy as np\n",
    "import scipy.stats as stats\n",
    "\n",
    "mean1, std1, n1 = 85, 6, 30\n",
    "mean2, std2, n2 = 82, 5, 30\n",
    "alpha = 0.01\n",
    "se = np.sqrt((std1**2/n1) + (std2**2/n2))\n",
    "t_stat = (mean1 - mean2) / se\n",
    "df = min(n1, n2) - 1\n",
    "p_value = 2 * (1 - stats.t.cdf(abs(t_stat), df=df))  # two-tailed test\n",
    "print(f\"t-statistic: {t_stat}, p-value: {p_value}\")\n",
    "if p_value < alpha:\n",
    "    print(\"Reject the null hypothesis.\")\n",
    "else:\n",
    "    print(\"Fail to reject the null hypothesis.\")"
   ]
  },
  {
   "cell_type": "markdown",
   "id": "94e8f99a",
   "metadata": {},
   "source": [
    "## Q13. A population has a mean of 60 and a standard deviation of 8. A sample of 50 observations has a mean of 65. Calculate the 90% confidence interval for the true population mean."
   ]
  },
  {
   "cell_type": "code",
   "execution_count": null,
   "id": "003c4a56",
   "metadata": {},
   "outputs": [],
   "source": [
    "import scipy.stats as stats\n",
    "import numpy as np\n",
    "\n",
    "sample_mean = 65\n",
    "population_std = 8\n",
    "n = 50\n",
    "confidence = 0.90\n",
    "z = stats.norm.ppf(1 - (1-confidence)/2)\n",
    "margin_error = z * (population_std / np.sqrt(n))\n",
    "ci_lower = sample_mean - margin_error\n",
    "ci_upper = sample_mean + margin_error\n",
    "print(f\"90% Confidence Interval: ({ci_lower:.2f}, {ci_upper:.2f})\")"
   ]
  },
  {
   "cell_type": "markdown",
   "id": "5c1cd71a",
   "metadata": {},
   "source": [
    "## Q14. In a study of the effects of caffeine on reaction time, a sample of 30 participants had an average reaction time of 0.25 seconds with a standard deviation of 0.05 seconds. Conduct a hypothesis test to determine if the caffeine has a significant effect on reaction time at a 90% confidence level using a t-test."
   ]
  },
  {
   "cell_type": "code",
   "execution_count": null,
   "id": "1b8803ab",
   "metadata": {},
   "outputs": [],
   "source": [
    "import scipy.stats as stats\n",
    "\n",
    "sample_mean = 0.25\n",
    "population_mean = 0.3  # Assume population mean reaction time is 0.3 seconds\n",
    "std_dev = 0.05\n",
    "n = 30\n",
    "alpha = 0.10\n",
    "t_stat = (sample_mean - population_mean) / (std_dev / np.sqrt(n))\n",
    "p_value = stats.t.cdf(t_stat, df=n-1)  # left-tailed test\n",
    "print(f\"t-statistic: {t_stat}, p-value: {p_value}\")\n",
    "if p_value < alpha:\n",
    "    print(\"Reject the null hypothesis.\")\n",
    "else:\n",
    "    print(\"Fail to reject the null hypothesis.\")"
   ]
  }
 ],
 "metadata": {
  "language_info": {
   "name": "python"
  }
 },
 "nbformat": 4,
 "nbformat_minor": 5
}
