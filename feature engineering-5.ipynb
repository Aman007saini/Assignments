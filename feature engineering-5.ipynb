{
 "cells": [
  {
   "cell_type": "markdown",
   "id": "12688880",
   "metadata": {},
   "source": [
    "# Feature Engineering - 5"
   ]
  },
  {
   "cell_type": "markdown",
   "id": "83ebf894",
   "metadata": {},
   "source": [
    "## Q1. What is the difference between Ordinal Encoding and Label Encoding? Provide an example of when you might choose one over the other."
   ]
  },
  {
   "cell_type": "markdown",
   "id": "4dc3acf8",
   "metadata": {},
   "source": [
    "**Answer:**\n",
    "\n",
    "- **Label Encoding:** Assigns a unique integer to each category. Used for nominal (unordered) data. Example: [red, green, blue] → [0, 1, 2].\n",
    "- **Ordinal Encoding:** Assigns integers to categories with a meaningful order. Used for ordinal (ordered) data. Example: [small, medium, large] → [0, 1, 2].\n",
    "\n",
    "Choose ordinal encoding when the categories have a natural order; use label encoding for unordered categories."
   ]
  },
  {
   "cell_type": "markdown",
   "id": "e4e60c7a",
   "metadata": {},
   "source": [
    "## Q2. Explain how Target Guided Ordinal Encoding works and provide an example of when you might use it in a machine learning project."
   ]
  },
  {
   "cell_type": "markdown",
   "id": "86386e58",
   "metadata": {},
   "source": [
    "**Answer:**\n",
    "\n",
    "Target Guided Ordinal Encoding assigns integers to categories based on the mean of the target variable for each category. Example: For a feature 'City' and target 'Sales', encode cities by their average sales. Useful when a categorical variable has a strong relationship with the target."
   ]
  },
  {
   "cell_type": "markdown",
   "id": "08ab9c4c",
   "metadata": {},
   "source": [
    "## Q3. Define covariance and explain why it is important in statistical analysis. How is covariance calculated?"
   ]
  },
  {
   "cell_type": "markdown",
   "id": "f1d9cad8",
   "metadata": {},
   "source": [
    "**Answer:**\n",
    "\n",
    "Covariance measures how two variables change together. A positive value means they increase together; a negative value means one increases as the other decreases. It is important for understanding relationships between variables and is used in portfolio theory, PCA, etc.\n",
    "\n",
    "Covariance formula:\n",
    "\n",
    "cov(X, Y) = Σ((Xᵢ - mean(X)) * (Yᵢ - mean(Y))) / (n - 1)"
   ]
  },
  {
   "cell_type": "markdown",
   "id": "06846507",
   "metadata": {},
   "source": [
    "## Q4. For a dataset with the following categorical variables: Color (red, green, blue), Size (small, medium, large), and Material (wood, metal, plastic), perform label encoding using Python's scikit-learn library. Show your code and explain the output."
   ]
  },
  {
   "cell_type": "code",
   "execution_count": null,
   "id": "8b39db9f",
   "metadata": {},
   "outputs": [],
   "source": [
    "from sklearn.preprocessing import LabelEncoder\n",
    "import pandas as pd\n",
    "\n",
    "data = pd.DataFrame({\n",
    "    'Color': ['red', 'green', 'blue'],\n",
    "    'Size': ['small', 'medium', 'large'],\n",
    "    'Material': ['wood', 'metal', 'plastic']\n",
    "})\n",
    "\n",
    "le = LabelEncoder()\n",
    "for col in data.columns:\n",
    "    data[col + '_encoded'] = le.fit_transform(data[col])\n",
    "print(data)"
   ]
  },
  {
   "cell_type": "markdown",
   "id": "508325ed",
   "metadata": {},
   "source": [
    "**Explanation:**\n",
    "\n",
    "Each unique category in a column is assigned an integer. For example, 'Color': blue=0, green=1, red=2 (order may vary). The same applies to 'Size' and 'Material'."
   ]
  },
  {
   "cell_type": "markdown",
   "id": "646ca0d0",
   "metadata": {},
   "source": [
    "## Q5. Calculate the covariance matrix for the following variables in a dataset: Age, Income, and Education level. Interpret the results."
   ]
  },
  {
   "cell_type": "code",
   "execution_count": null,
   "id": "897fec6e",
   "metadata": {},
   "outputs": [],
   "source": [
    "import numpy as np\n",
    "import pandas as pd\n",
    "\n",
    "data = pd.DataFrame({\n",
    "    'Age': [25, 30, 45, 35, 50],\n",
    "    'Income': [40000, 50000, 80000, 60000, 90000],\n",
    "    'Education': [12, 16, 18, 14, 20]\n",
    "})\n",
    "\n",
    "cov_matrix = data.cov()\n",
    "print(cov_matrix)"
   ]
  },
  {
   "cell_type": "markdown",
   "id": "00e4dc67",
   "metadata": {},
   "source": [
    "**Interpretation:**\n",
    "\n",
    "The covariance matrix shows how each pair of variables varies together. Positive values indicate that as one variable increases, the other tends to increase. Negative values indicate an inverse relationship."
   ]
  },
  {
   "cell_type": "markdown",
   "id": "5279f4d4",
   "metadata": {},
   "source": [
    "## Q6. You are working on a machine learning project with a dataset containing several categorical variables, including \"Gender\" (Male/Female), \"Education Level\" (High School/Bachelor's/Master's/PhD), and \"Employment Status\" (Unemployed/Part-Time/Full-Time). Which encoding method would you use for each variable, and why?"
   ]
  },
  {
   "cell_type": "markdown",
   "id": "799e11f0",
   "metadata": {},
   "source": [
    "**Answer:**\n",
    "\n",
    "- Gender: One-hot encoding (few categories, no order)\n",
    "- Education Level: Ordinal encoding (ordered categories)\n",
    "- Employment Status: One-hot encoding (few categories, no order)"
   ]
  },
  {
   "cell_type": "markdown",
   "id": "00c8c4e8",
   "metadata": {},
   "source": [
    "## Q7. You are analyzing a dataset with two continuous variables, \"Temperature\" and \"Humidity\", and two categorical variables, \"Weather Condition\" (Sunny/Cloudy/Rainy) and \"Wind Direction\" (North/South/East/West). Calculate the covariance between each pair of variables and interpret the results."
   ]
  },
  {
   "cell_type": "code",
   "execution_count": null,
   "id": "f2a3fcac",
   "metadata": {},
   "outputs": [],
   "source": [
    "import pandas as pd\n",
    "import numpy as np\n",
    "from sklearn.preprocessing import LabelEncoder\n",
    "\n",
    "data = pd.DataFrame({\n",
    "    'Temperature': [30, 25, 28, 22, 35],\n",
    "    'Humidity': [60, 55, 65, 50, 70],\n",
    "    'Weather': ['Sunny', 'Cloudy', 'Rainy', 'Sunny', 'Cloudy'],\n",
    "    'Wind': ['North', 'South', 'East', 'West', 'North']\n",
    "})\n",
    "\n",
    "le = LabelEncoder()\n",
    "data['Weather_encoded'] = le.fit_transform(data['Weather'])\n",
    "data['Wind_encoded'] = le.fit_transform(data['Wind'])\n",
    "\n",
    "cov_matrix = data[['Temperature', 'Humidity', 'Weather_encoded', 'Wind_encoded']].cov()\n",
    "print(cov_matrix)"
   ]
  },
  {
   "cell_type": "markdown",
   "id": "263bd1cd",
   "metadata": {},
   "source": [
    "**Interpretation:**\n",
    "\n",
    "The covariance values show how each variable pair changes together. For example, a positive covariance between Temperature and Humidity means they tend to increase together."
   ]
  }
 ],
 "metadata": {
  "language_info": {
   "name": "python"
  }
 },
 "nbformat": 4,
 "nbformat_minor": 5
}
