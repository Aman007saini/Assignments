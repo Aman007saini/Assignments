{
 "cells": [
  {
   "cell_type": "markdown",
   "id": "a8908bbb",
   "metadata": {},
   "source": [
    "# Statistics Advance 3 Assignment\n",
    "\n",
    "## Q1: What is Estimation Statistics? Explain point estimate and interval estimate.\n",
    "\n",
    "Estimation statistics involves using sample data to estimate population parameters. A **point estimate** is a single value estimate of a parameter (e.g., sample mean for population mean). An **interval estimate** gives a range (e.g., confidence interval) within which the parameter is expected to lie."
   ]
  },
  {
   "cell_type": "markdown",
   "id": "cb1fc0c6",
   "metadata": {},
   "source": [
    "## Q1. Calculate the 95% confidence interval for a sample of data with a mean of 50 and a standard deviation of 5 using Python. Interpret the results."
   ]
  },
  {
   "cell_type": "code",
   "execution_count": null,
   "id": "44b5cd43",
   "metadata": {},
   "outputs": [],
   "source": [
    "import numpy as np\n",
    "from scipy import stats\n",
    "\n",
    "# Given values\n",
    "mean = 50\n",
    "std = 5\n",
    "n = 30  # assuming sample size is 30\n",
    "\n",
    "# 95% confidence interval\n",
    "confidence = 0.95\n",
    "z = stats.norm.ppf(1 - (1-confidence)/2)\n",
    "margin_of_error = z * (std / np.sqrt(n))\n",
    "ci_lower = mean - margin_of_error\n",
    "ci_upper = mean + margin_of_error\n",
    "\n",
    "print(f\"95% Confidence Interval: ({ci_lower:.2f}, {ci_upper:.2f})\")"
   ]
  },
  {
   "cell_type": "markdown",
   "id": "99b895ed",
   "metadata": {},
   "source": [
    "**Interpretation:**\n",
    "\n",
    "The 95% confidence interval gives a range in which we are 95% confident that the true population mean lies, based on our sample. If the interval is, for example, (48.21, 51.79), it means that if we were to take many samples and compute a confidence interval for each, about 95% of those intervals would contain the true mean."
   ]
  },
  {
   "cell_type": "markdown",
   "id": "029fd219",
   "metadata": {},
   "source": [
    "## Q2. Explain the difference between a one-tailed and a two-tailed hypothesis test. Provide examples of when each would be appropriate."
   ]
  },
  {
   "cell_type": "markdown",
   "id": "c0afe492",
   "metadata": {},
   "source": [
    "**Answer:**\n",
    "\n",
    "- **One-tailed test:** Tests for the possibility of the relationship in one direction. For example, testing if a new drug is *better* than the current drug (H₀: new ≤ current, H₁: new > current).\n",
    "- **Two-tailed test:** Tests for the possibility of the relationship in both directions. For example, testing if a new drug is *different* (either better or worse) than the current drug (H₀: new = current, H₁: new ≠ current).\n",
    "\n",
    "**When to use:**\n",
    "- Use a one-tailed test when you are only interested in deviations in one direction.\n",
    "- Use a two-tailed test when deviations in both directions are important."
   ]
  },
  {
   "cell_type": "markdown",
   "id": "85f557d7",
   "metadata": {},
   "source": [
    "## Q4. What is a p-value? How is it used in hypothesis testing?"
   ]
  },
  {
   "cell_type": "markdown",
   "id": "6c068c34",
   "metadata": {},
   "source": [
    "**Answer:**\n",
    "\n",
    "A **p-value** is the probability of obtaining results at least as extreme as the observed results, assuming that the null hypothesis is true. In hypothesis testing, the p-value helps you decide whether to reject the null hypothesis:\n",
    "- If the p-value is less than the chosen significance level (e.g., 0.05), you reject the null hypothesis.\n",
    "- If the p-value is greater, you fail to reject the null hypothesis.\n",
    "\n",
    "The smaller the p-value, the stronger the evidence against the null hypothesis."
   ]
  },
  {
   "cell_type": "markdown",
   "id": "8188d5a1",
   "metadata": {},
   "source": [
    "## Q5. Calculate the p-value for a z-score of 2.0 in a right-tailed test using Python."
   ]
  },
  {
   "cell_type": "code",
   "execution_count": null,
   "id": "00be1807",
   "metadata": {},
   "outputs": [],
   "source": [
    "from scipy.stats import norm\n",
    "\n",
    "z_score = 2.0\n",
    "# For a right-tailed test, p-value is the area to the right of z\n",
    "p_value = 1 - norm.cdf(z_score)\n",
    "print(f\"P-value for z=2.0 (right-tailed): {p_value:.4f}\")"
   ]
  },
  {
   "cell_type": "markdown",
   "id": "95647a95",
   "metadata": {},
   "source": [
    "**Interpretation:**\n",
    "\n",
    "A p-value of approximately 0.0228 means there is a 2.28% chance of observing a z-score of 2.0 or higher if the null hypothesis is true. If your significance level is 0.05, you would reject the null hypothesis."
   ]
  },
  {
   "cell_type": "markdown",
   "id": "bb6af718",
   "metadata": {},
   "source": [
    "## Q6. What is a Type I error and a Type II error? Provide examples of each."
   ]
  },
  {
   "cell_type": "markdown",
   "id": "19012be6",
   "metadata": {},
   "source": [
    "**Answer:**\n",
    "\n",
    "- **Type I Error (False Positive):** Rejecting the null hypothesis when it is actually true. Example: Concluding a new drug works when it actually does not.\n",
    "- **Type II Error (False Negative):** Failing to reject the null hypothesis when it is actually false. Example: Concluding a new drug does not work when it actually does."
   ]
  },
  {
   "cell_type": "markdown",
   "id": "8f788f74",
   "metadata": {},
   "source": [
    "## Q7. What is statistical power? How can it be increased?"
   ]
  },
  {
   "cell_type": "markdown",
   "id": "51eaca09",
   "metadata": {},
   "source": [
    "**Answer:**\n",
    "\n",
    "- **Statistical power** is the probability that a test correctly rejects a false null hypothesis (i.e., detects an effect when there is one).\n",
    "- **How to increase power:**\n",
    "  - Increase sample size\n",
    "  - Increase effect size\n",
    "  - Increase significance level (alpha)\n",
    "  - Reduce variability in the data\n",
    "  - Use a more sensitive test"
   ]
  },
  {
   "cell_type": "markdown",
   "id": "2e8083ea",
   "metadata": {},
   "source": [
    "## Q8. What is the Central Limit Theorem (CLT)? Why is it important in statistics?"
   ]
  },
  {
   "cell_type": "markdown",
   "id": "e16a8305",
   "metadata": {},
   "source": [
    "**Answer:**\n",
    "\n",
    "The **Central Limit Theorem (CLT)** states that the sampling distribution of the sample mean approaches a normal distribution as the sample size increases, regardless of the population's distribution, provided the samples are independent and identically distributed.\n",
    "\n",
    "**Importance:**\n",
    "- Allows us to use normal probability theory to make inferences about population means, even when the population is not normally distributed.\n",
    "- Forms the basis for many statistical tests and confidence intervals."
   ]
  },
  {
   "cell_type": "markdown",
   "id": "18419210",
   "metadata": {},
   "source": [
    "## Q11. What is the difference between parametric and non-parametric tests? Give examples of each."
   ]
  },
  {
   "cell_type": "markdown",
   "id": "73f8202c",
   "metadata": {},
   "source": [
    "**Answer:**\n",
    "\n",
    "- **Parametric tests** assume underlying statistical distributions in the data (e.g., normal distribution). They are generally more powerful if assumptions are met.\n",
    "  - Examples: t-test, ANOVA, Pearson correlation\n",
    "- **Non-parametric tests** do not assume a specific distribution. They are used when data do not meet parametric assumptions.\n",
    "  - Examples: Mann-Whitney U test, Wilcoxon signed-rank test, Kruskal-Wallis test, Spearman correlation"
   ]
  },
  {
   "cell_type": "markdown",
   "id": "8914adaf",
   "metadata": {},
   "source": [
    "## Q1. Calculate the 95% confidence interval for a sample of data with a mean of 50 and a standard deviation of 5 using Python. Interpret the results."
   ]
  },
  {
   "cell_type": "markdown",
   "id": "037aa9b6",
   "metadata": {},
   "source": [
    "## Q2. Write a Python function to estimate the population mean using a sample mean and standard deviation."
   ]
  },
  {
   "cell_type": "code",
   "execution_count": null,
   "id": "61c6c75a",
   "metadata": {},
   "outputs": [],
   "source": [
    "def estimate_population_mean(sample_mean, std_dev, n):\n",
    "    return sample_mean\n",
    "\n",
    "# Example usage:\n",
    "print(estimate_population_mean(100, 15, 30))"
   ]
  },
  {
   "cell_type": "markdown",
   "id": "feec3cfa",
   "metadata": {},
   "source": [
    "## Q3: What is Hypothesis testing? Why is it used? State the importance of Hypothesis testing.\n",
    "\n",
    "Hypothesis testing is a statistical method used to make decisions about population parameters based on sample data. It is used to test assumptions or claims and helps in making data-driven decisions."
   ]
  },
  {
   "cell_type": "markdown",
   "id": "f7d7c673",
   "metadata": {},
   "source": [
    "## Q4. Create a hypothesis that states whether the average weight of male college students is greater than the average weight of female college students.\n",
    "\n",
    "- Null hypothesis (H0): The average weight of male college students is less than or equal to the average weight of female college students.\n",
    "- Alternative hypothesis (H1): The average weight of male college students is greater than the average weight of female college students."
   ]
  },
  {
   "cell_type": "markdown",
   "id": "f33dda9f",
   "metadata": {},
   "source": [
    "## Q5. Write a Python script to conduct a hypothesis test on the difference between two population means, given a sample from each population."
   ]
  },
  {
   "cell_type": "code",
   "execution_count": null,
   "id": "266fd19d",
   "metadata": {},
   "outputs": [],
   "source": [
    "from scipy.stats import ttest_ind\n",
    "\n",
    "def test_difference_of_means(sample1, sample2):\n",
    "    t_stat, p_value = ttest_ind(sample1, sample2, equal_var=False)\n",
    "    return t_stat, p_value\n",
    "\n",
    "# Example usage:\n",
    "sample1 = [80, 85, 78, 90, 88]\n",
    "sample2 = [75, 70, 72, 68, 74]\n",
    "print(test_difference_of_means(sample1, sample2))"
   ]
  },
  {
   "cell_type": "markdown",
   "id": "d5be115b",
   "metadata": {},
   "source": [
    "## Q6: What is a null and alternative hypothesis? Give some examples.\n",
    "\n",
    "- **Null hypothesis (H0):** The default assumption (e.g., no difference, no effect).\n",
    "- **Alternative hypothesis (H1):** The claim to be tested (e.g., there is a difference, there is an effect).\n",
    "\n",
    "**Example:**\n",
    "- H0: The mean test score is 70.\n",
    "- H1: The mean test score is not 70."
   ]
  },
  {
   "cell_type": "markdown",
   "id": "b4607b3e",
   "metadata": {},
   "source": [
    "## Q7: Write down the steps involved in hypothesis testing.\n",
    "\n",
    "1. State the null and alternative hypotheses.\n",
    "2. Choose a significance level (alpha).\n",
    "3. Collect and summarize the data.\n",
    "4. Calculate the test statistic and p-value.\n",
    "5. Make a decision: reject or fail to reject the null hypothesis.\n",
    "6. State the conclusion."
   ]
  },
  {
   "cell_type": "markdown",
   "id": "79b14298",
   "metadata": {},
   "source": [
    "## Q8. Define p-value and explain its significance in hypothesis testing.\n",
    "\n",
    "The **p-value** is the probability of obtaining results at least as extreme as the observed results, assuming the null hypothesis is true. A small p-value (typically < 0.05) indicates strong evidence against the null hypothesis."
   ]
  },
  {
   "cell_type": "markdown",
   "id": "55a343de",
   "metadata": {},
   "source": [
    "## Q9. Generate a Student's t-distribution plot using Python's matplotlib library, with the degrees of freedom parameter set to 10."
   ]
  },
  {
   "cell_type": "code",
   "execution_count": null,
   "id": "f58198a6",
   "metadata": {},
   "outputs": [],
   "source": [
    "import numpy as np\n",
    "import matplotlib.pyplot as plt\n",
    "from scipy.stats import t\n",
    "\n",
    "x = np.linspace(-4, 4, 100)\n",
    "y = t.pdf(x, df=10)\n",
    "plt.plot(x, y)\n",
    "plt.title(\"Student's t-distribution (df=10)\")\n",
    "plt.xlabel('t')\n",
    "plt.ylabel('Probability Density')\n",
    "plt.show()"
   ]
  },
  {
   "cell_type": "markdown",
   "id": "bceca296",
   "metadata": {},
   "source": [
    "## Q10. Write a Python program to calculate the two-sample t-test for independent samples, given two random samples of equal size and a null hypothesis that the population means are equal."
   ]
  },
  {
   "cell_type": "code",
   "execution_count": null,
   "id": "8ded8ea5",
   "metadata": {},
   "outputs": [],
   "source": [
    "from scipy.stats import ttest_ind\n",
    "\n",
    "sample1 = [80, 85, 78, 90, 88]\n",
    "sample2 = [75, 70, 72, 68, 74]\n",
    "t_stat, p_value = ttest_ind(sample1, sample2)\n",
    "print(f\"t-statistic: {t_stat}, p-value: {p_value}\")"
   ]
  },
  {
   "cell_type": "markdown",
   "id": "d604fd75",
   "metadata": {},
   "source": [
    "## Q11: What is Student’s t distribution? When to use the t-Distribution.\n",
    "\n",
    "Student’s t-distribution is a probability distribution used when estimating population parameters when the sample size is small and/or the population standard deviation is unknown. It is used for hypothesis testing and confidence intervals for small samples."
   ]
  },
  {
   "cell_type": "markdown",
   "id": "be7549de",
   "metadata": {},
   "source": [
    "## Q12: What is t-statistic? State the formula for t-statistic.\n",
    "\n",
    "The **t-statistic** measures the difference between a sample statistic and a population parameter in units of standard error.\n",
    "\n",
    "Formula: t = (sample_mean - population_mean) / (sample_std / sqrt(n))"
   ]
  },
  {
   "cell_type": "markdown",
   "id": "e0d2a0fd",
   "metadata": {},
   "source": [
    "## Q13. A coffee shop owner wants to estimate the average daily revenue for their shop. They take a random sample of 50 days and find the sample mean revenue to be $500 with a standard deviation of $50. Estimate the population mean revenue with a 95% confidence interval."
   ]
  },
  {
   "cell_type": "code",
   "execution_count": null,
   "id": "e29caa1a",
   "metadata": {},
   "outputs": [],
   "source": [
    "import scipy.stats as stats\n",
    "import numpy as np\n",
    "\n",
    "sample_mean = 500\n",
    "std_dev = 50\n",
    "n = 50\n",
    "confidence = 0.95\n",
    "z = stats.norm.ppf(1 - (1-confidence)/2)\n",
    "margin_error = z * (std_dev / np.sqrt(n))\n",
    "ci_lower = sample_mean - margin_error\n",
    "ci_upper = sample_mean + margin_error\n",
    "print(f\"95% Confidence Interval: (${ci_lower:.2f}, ${ci_upper:.2f})\")"
   ]
  },
  {
   "cell_type": "markdown",
   "id": "35f0616b",
   "metadata": {},
   "source": [
    "## Q14. A researcher hypothesizes that a new drug will decrease blood pressure by 10 mmHg. They conduct a clinical trial with 100 patients and find that the sample mean decrease in blood pressure is 8 mmHg with a standard deviation of 3 mmHg. Test the hypothesis with a significance level of 0.05."
   ]
  },
  {
   "cell_type": "code",
   "execution_count": null,
   "id": "a90a1200",
   "metadata": {},
   "outputs": [],
   "source": [
    "import scipy.stats as stats\n",
    "\n",
    "sample_mean = 8\n",
    "population_mean = 10\n",
    "std_dev = 3\n",
    "n = 100\n",
    "alpha = 0.05\n",
    "z = (sample_mean - population_mean) / (std_dev / np.sqrt(n))\n",
    "p_value = stats.norm.cdf(z)  # left-tailed test\n",
    "print(f\"z-score: {z}, p-value: {p_value}\")\n",
    "if p_value < alpha:\n",
    "    print(\"Reject the null hypothesis.\")\n",
    "else:\n",
    "    print(\"Fail to reject the null hypothesis.\")"
   ]
  },
  {
   "cell_type": "markdown",
   "id": "d3ce637a",
   "metadata": {},
   "source": [
    "## Q15. An electronics company produces a certain type of product with a mean weight of 5 pounds and a standard deviation of 0.5 pounds. A random sample of 25 products is taken, and the sample mean weight is found to be 4.8 pounds. Test the hypothesis that the true mean weight of the products is less than 5 pounds with a significance level of 0.01."
   ]
  },
  {
   "cell_type": "code",
   "execution_count": null,
   "id": "f121d1de",
   "metadata": {},
   "outputs": [],
   "source": [
    "import scipy.stats as stats\n",
    "\n",
    "sample_mean = 4.8\n",
    "population_mean = 5\n",
    "std_dev = 0.5\n",
    "n = 25\n",
    "alpha = 0.01\n",
    "z = (sample_mean - population_mean) / (std_dev / np.sqrt(n))\n",
    "p_value = stats.norm.cdf(z)  # left-tailed test\n",
    "print(f\"z-score: {z}, p-value: {p_value}\")\n",
    "if p_value < alpha:\n",
    "    print(\"Reject the null hypothesis.\")\n",
    "else:\n",
    "    print(\"Fail to reject the null hypothesis.\")"
   ]
  },
  {
   "cell_type": "markdown",
   "id": "dab2bf7b",
   "metadata": {},
   "source": [
    "## Q16. Two groups of students are given different study materials to prepare for a test. The first group (n1 = 30) has a mean score of 80 with a standard deviation of 10, and the second group (n2 = 40) has a mean score of 75 with a standard deviation of 8. Test the hypothesis that the population means for the two groups are equal with a significance level of 0.01."
   ]
  },
  {
   "cell_type": "code",
   "execution_count": null,
   "id": "760f33a8",
   "metadata": {},
   "outputs": [],
   "source": [
    "import numpy as np\n",
    "import scipy.stats as stats\n",
    "\n",
    "mean1, std1, n1 = 80, 10, 30\n",
    "mean2, std2, n2 = 75, 8, 40\n",
    "alpha = 0.01\n",
    "se = np.sqrt((std1**2/n1) + (std2**2/n2))\n",
    "z = (mean1 - mean2) / se\n",
    "p_value = 2 * (1 - stats.norm.cdf(abs(z)))  # two-tailed test\n",
    "print(f\"z-score: {z}, p-value: {p_value}\")\n",
    "if p_value < alpha:\n",
    "    print(\"Reject the null hypothesis.\")\n",
    "else:\n",
    "    print(\"Fail to reject the null hypothesis.\")"
   ]
  },
  {
   "cell_type": "markdown",
   "id": "b7086718",
   "metadata": {},
   "source": [
    "## Q17. A marketing company wants to estimate the average number of ads watched by viewers during a TV program. They take a random sample of 50 viewers and find that the sample mean is 4 with a standard deviation of 1.5. Estimate the population mean with a 99% confidence interval."
   ]
  },
  {
   "cell_type": "code",
   "execution_count": null,
   "id": "757acf3b",
   "metadata": {},
   "outputs": [],
   "source": [
    "import scipy.stats as stats\n",
    "import numpy as np\n",
    "\n",
    "sample_mean = 4\n",
    "std_dev = 1.5\n",
    "n = 50\n",
    "confidence = 0.99\n",
    "z = stats.norm.ppf(1 - (1-confidence)/2)\n",
    "margin_error = z * (std_dev / np.sqrt(n))\n",
    "ci_lower = sample_mean - margin_error\n",
    "ci_upper = sample_mean + margin_error\n",
    "print(f\"99% Confidence Interval: ({ci_lower:.2f}, {ci_upper:.2f})\")"
   ]
  }
 ],
 "metadata": {
  "language_info": {
   "name": "python"
  }
 },
 "nbformat": 4,
 "nbformat_minor": 5
}
