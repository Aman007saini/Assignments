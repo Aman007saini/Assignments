{
 "cells": [
  {
   "cell_type": "markdown",
   "id": "027ce45b",
   "metadata": {},
   "source": [
    "# Statistics Basic 2 Assignment\n",
    "\n",
    "## Q1. What are the three measures of central tendency?\n",
    "\n",
    "The three measures of central tendency are **mean**, **median**, and **mode**."
   ]
  },
  {
   "cell_type": "markdown",
   "id": "d05671ba",
   "metadata": {},
   "source": [
    "## Q2. What is the difference between the mean, median, and mode? How are they used to measure the central tendency of a dataset?\n",
    "\n",
    "- **Mean:** The arithmetic average of all values. Sensitive to outliers.\n",
    "- **Median:** The middle value when data is sorted. Not affected by outliers.\n",
    "- **Mode:** The value that appears most frequently. Useful for categorical data.\n",
    "\n",
    "They summarize the center or typical value of a dataset in different ways."
   ]
  },
  {
   "cell_type": "markdown",
   "id": "1cff9c96",
   "metadata": {},
   "source": [
    "## Q3. Measure the three measures of central tendency for the given height data:\n",
    "[178,177,176,177,178.2,178,175,179,180,175,178.9,176.2,177,172.5,178,176.5]"
   ]
  },
  {
   "cell_type": "code",
   "execution_count": null,
   "id": "2fffd8fd",
   "metadata": {},
   "outputs": [],
   "source": [
    "import numpy as np\n",
    "from scipy import stats\n",
    "\n",
    "data = [178,177,176,177,178.2,178,175,179,180,175,178.9,176.2,177,172.5,178,176.5]\n",
    "mean = np.mean(data)\n",
    "median = np.median(data)\n",
    "mode = stats.mode(data, keepdims=True)[0][0]\n",
    "print(f\"Mean: {mean}\")\n",
    "print(f\"Median: {median}\")\n",
    "print(f\"Mode: {mode}\")"
   ]
  },
  {
   "cell_type": "markdown",
   "id": "9f28068a",
   "metadata": {},
   "source": [
    "## Q4. Find the standard deviation for the given data:\n",
    "[178,177,176,177,178.2,178,175,179,180,175,178.9,176.2,177,172.5,178,176.5]"
   ]
  },
  {
   "cell_type": "code",
   "execution_count": null,
   "id": "462ad576",
   "metadata": {},
   "outputs": [],
   "source": [
    "import numpy as np\n",
    "\n",
    "data = [178,177,176,177,178.2,178,175,179,180,175,178.9,176.2,177,172.5,178,176.5]\n",
    "std_dev = np.std(data)\n",
    "print(f\"Standard Deviation: {std_dev}\")"
   ]
  },
  {
   "cell_type": "markdown",
   "id": "db459f46",
   "metadata": {},
   "source": [
    "## Q5. How are measures of dispersion such as range, variance, and standard deviation used to describe the spread of a dataset? Provide an example.\n",
    "\n",
    "- **Range:** Difference between the maximum and minimum values. Shows the total spread.\n",
    "- **Variance:** Average of squared differences from the mean. Shows how data points differ from the mean.\n",
    "- **Standard Deviation:** Square root of variance. Indicates how much data varies from the mean.\n",
    "\n",
    "**Example:**\n",
    "If the standard deviation is small, data points are close to the mean. If large, data is more spread out."
   ]
  },
  {
   "cell_type": "markdown",
   "id": "01749fb7",
   "metadata": {},
   "source": [
    "## Q6. What is a Venn diagram?\n",
    "\n",
    "A **Venn diagram** is a visual representation of the relationships between different sets, showing their intersections and differences using overlapping circles."
   ]
  },
  {
   "cell_type": "markdown",
   "id": "6218c280",
   "metadata": {},
   "source": [
    "## Q7. For the two given sets A = (2,3,4,5,6,7) & B = (0,2,6,8,10). Find:\n",
    "(i) A ∩ B\n",
    "(ii) A ⋃ B"
   ]
  },
  {
   "cell_type": "code",
   "execution_count": null,
   "id": "9c73c5a1",
   "metadata": {},
   "outputs": [],
   "source": [
    "A = {2,3,4,5,6,7}\n",
    "B = {0,2,6,8,10}\n",
    "intersection = A & B\n",
    "union = A | B\n",
    "print(f\"A ∩ B: {intersection}\")\n",
    "print(f\"A ⋃ B: {union}\")"
   ]
  },
  {
   "cell_type": "markdown",
   "id": "5a7d7761",
   "metadata": {},
   "source": [
    "## Q8. What do you understand about skewness in data?\n",
    "\n",
    "**Skewness** measures the asymmetry of the distribution of data. Positive skew (right-skewed) means the tail is longer on the right; negative skew (left-skewed) means the tail is longer on the left."
   ]
  },
  {
   "cell_type": "markdown",
   "id": "a111b653",
   "metadata": {},
   "source": [
    "## Q9. If a data is right skewed then what will be the position of median with respect to mean?\n",
    "\n",
    "In right-skewed data, the mean is greater than the median."
   ]
  },
  {
   "cell_type": "markdown",
   "id": "1d72b677",
   "metadata": {},
   "source": [
    "## Q10. Explain the difference between covariance and correlation. How are these measures used in statistical analysis?\n",
    "\n",
    "- **Covariance:** Measures the direction of the linear relationship between two variables. Can be any value.\n",
    "- **Correlation:** Measures both the strength and direction of the linear relationship, scaled between -1 and 1.\n",
    "\n",
    "They are used to understand how two variables move together."
   ]
  },
  {
   "cell_type": "markdown",
   "id": "70c16827",
   "metadata": {},
   "source": [
    "## Q11. What is the formula for calculating the sample mean? Provide an example calculation for a dataset.\n",
    "\n",
    "Sample mean = (Sum of all values) / (Number of values)\n",
    "\n",
    "**Example:**\n",
    "For data [2, 4, 6]: Mean = (2+4+6)/3 = 4"
   ]
  },
  {
   "cell_type": "markdown",
   "id": "c968b6cd",
   "metadata": {},
   "source": [
    "## Q12. For a normal distribution data what is the relationship between its measure of central tendency?\n",
    "\n",
    "For a normal distribution, the mean, median, and mode are all equal and located at the center of the distribution."
   ]
  },
  {
   "cell_type": "markdown",
   "id": "dda1d79e",
   "metadata": {},
   "source": [
    "## Q13. How is covariance different from correlation?\n",
    "\n",
    "Covariance measures the direction of the relationship, while correlation measures both the strength and direction, and is standardized."
   ]
  },
  {
   "cell_type": "markdown",
   "id": "491d410e",
   "metadata": {},
   "source": [
    "## Q14. How do outliers affect measures of central tendency and dispersion? Provide an example.\n",
    "\n",
    "Outliers can significantly affect the mean and standard deviation, making them less representative of the data. The median is less affected by outliers.\n",
    "\n",
    "**Example:**\n",
    "For data [1, 2, 3, 4, 100], the mean is pulled up by the outlier 100, but the median remains 3."
   ]
  }
 ],
 "metadata": {
  "language_info": {
   "name": "python"
  }
 },
 "nbformat": 4,
 "nbformat_minor": 5
}
