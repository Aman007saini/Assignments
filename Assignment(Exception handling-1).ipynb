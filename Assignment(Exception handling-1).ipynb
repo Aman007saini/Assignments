{
 "cells": [
  {
   "cell_type": "markdown",
   "id": "df74d141-fb8c-4029-9352-81b8a3587821",
   "metadata": {},
   "source": [
    "#### Q1. What is an Exception in python? Write the difference between Exceptions and Syntax errors."
   ]
  },
  {
   "cell_type": "markdown",
   "id": "a14660a3-92f8-49c8-929b-bbacb9734771",
   "metadata": {
    "jp-MarkdownHeadingCollapsed": true,
    "tags": []
   },
   "source": [
    "##### Exception- When in the runtime an error that occurs after passing the syntax test is called exception\n",
    "##### -> This error does not stop the execution of the program.\n",
    "##### -> This were raised when the program is syntactically correct, but the code results in an error.\n",
    "##### Syntax error- when the proper syntax of the language is not followed then a syntax error is thrown.\n",
    "##### -> This leads to the termination of the program.\n",
    "##### -> It is caused due to wrong syntax."
   ]
  },
  {
   "cell_type": "markdown",
   "id": "8e47ef45-3e0a-4b4b-b5fe-0ac0a0eb629b",
   "metadata": {},
   "source": [
    "#### Q2. What happens when an exception is not handled? Explain with an example."
   ]
  },
  {
   "cell_type": "markdown",
   "id": "71de7768-f5b9-4d29-b3d8-1139874198cd",
   "metadata": {},
   "source": [
    "##### Exception errors that are detected during execution. If these exceptions are not handled, it drives the program into a halt state."
   ]
  },
  {
   "cell_type": "code",
   "execution_count": 3,
   "id": "52128158-cfb1-4a6b-9e44-ab5cf8f3d142",
   "metadata": {},
   "outputs": [
    {
     "ename": "ZeroDivisionError",
     "evalue": "division by zero",
     "output_type": "error",
     "traceback": [
      "\u001b[0;31m---------------------------------------------------------------------------\u001b[0m",
      "\u001b[0;31mZeroDivisionError\u001b[0m                         Traceback (most recent call last)",
      "Cell \u001b[0;32mIn[3], line 2\u001b[0m\n\u001b[1;32m      1\u001b[0m a\u001b[38;5;241m=\u001b[39m\u001b[38;5;241m10\u001b[39m\n\u001b[0;32m----> 2\u001b[0m b\u001b[38;5;241m=\u001b[39m\u001b[43ma\u001b[49m\u001b[38;5;241;43m/\u001b[39;49m\u001b[38;5;241;43m0\u001b[39;49m\n",
      "\u001b[0;31mZeroDivisionError\u001b[0m: division by zero"
     ]
    }
   ],
   "source": [
    "a=10     # hence the program is halted.\n",
    "b=a/0"
   ]
  },
  {
   "cell_type": "markdown",
   "id": "db7ccdc4-8236-4498-9e1a-13aedcda6c49",
   "metadata": {},
   "source": [
    "#### Q3. Which Python statements are used to catch and handle exceptions? Explain with an example."
   ]
  },
  {
   "cell_type": "markdown",
   "id": "9ec28ff5-6178-4b82-bd6b-c93655ab0112",
   "metadata": {},
   "source": [
    "##### The try and except block is used to catch and handle exceptions in Python. eg:-"
   ]
  },
  {
   "cell_type": "code",
   "execution_count": 6,
   "id": "d0b6bf3e-562e-41c4-a26e-4fafc205b862",
   "metadata": {},
   "outputs": [
    {
     "name": "stdout",
     "output_type": "stream",
     "text": [
      "division by zero\n"
     ]
    },
    {
     "data": {
      "text/plain": [
       "10.0"
      ]
     },
     "execution_count": 6,
     "metadata": {},
     "output_type": "execute_result"
    }
   ],
   "source": [
    "try:      # Try block to catch exceptions \n",
    "    a=10\n",
    "    b=100\n",
    "    a/0\n",
    "except Exception as e:   # except block to handle the exceptions.\n",
    "    print(e) \n",
    "b/a"
   ]
  },
  {
   "cell_type": "markdown",
   "id": "93b78ecf-5829-472e-92e5-4f3a4e6d5312",
   "metadata": {},
   "source": [
    "#### Q4 Explain with an example:\n",
    "##### a. try and else\n",
    "##### b. finally\n",
    "##### c. raise"
   ]
  },
  {
   "cell_type": "code",
   "execution_count": 9,
   "id": "d1f10148-9c45-48e0-97a4-ff6a246d9ec1",
   "metadata": {},
   "outputs": [
    {
     "name": "stdout",
     "output_type": "stream",
     "text": [
      "the value of a is 9\n"
     ]
    }
   ],
   "source": [
    "# Try and else - Here else condition will only execute when try block does not find any error.\n",
    "try: \n",
    "    a=4\n",
    "    a+=5\n",
    "except Exception as e:\n",
    "    print(e)\n",
    "else:\n",
    "    print(\"the value of a is %d\"% a)"
   ]
  },
  {
   "cell_type": "code",
   "execution_count": 11,
   "id": "11ce60f4-7d7e-4a79-81fc-83d581fefc19",
   "metadata": {},
   "outputs": [
    {
     "name": "stdout",
     "output_type": "stream",
     "text": [
      "division by zero\n",
      "this is my final block\n"
     ]
    }
   ],
   "source": [
    "# finally - this block will execute every time either thier is an error or not.\n",
    "try:\n",
    "    10/0\n",
    "except Exception as e:\n",
    "    print(e)\n",
    "finally:\n",
    "    print(\"this is my final block\")"
   ]
  },
  {
   "cell_type": "code",
   "execution_count": 12,
   "id": "b16a87b7-b14c-4608-b85c-8e27b91924f7",
   "metadata": {},
   "outputs": [
    {
     "ename": "Exception",
     "evalue": "Number is below zero",
     "output_type": "error",
     "traceback": [
      "\u001b[0;31m---------------------------------------------------------------------------\u001b[0m",
      "\u001b[0;31mException\u001b[0m                                 Traceback (most recent call last)",
      "Cell \u001b[0;32mIn[12], line 4\u001b[0m\n\u001b[1;32m      2\u001b[0m x\u001b[38;5;241m=\u001b[39m \u001b[38;5;241m-\u001b[39m\u001b[38;5;241m1\u001b[39m\n\u001b[1;32m      3\u001b[0m \u001b[38;5;28;01mif\u001b[39;00m x \u001b[38;5;241m<\u001b[39m\u001b[38;5;241m0\u001b[39m:\n\u001b[0;32m----> 4\u001b[0m     \u001b[38;5;28;01mraise\u001b[39;00m \u001b[38;5;167;01mException\u001b[39;00m(\u001b[38;5;124m\"\u001b[39m\u001b[38;5;124mNumber is below zero\u001b[39m\u001b[38;5;124m\"\u001b[39m)\n",
      "\u001b[0;31mException\u001b[0m: Number is below zero"
     ]
    }
   ],
   "source": [
    "# raise- To throw an exception if a conditon occurs.\n",
    "x= -1\n",
    "if x <0:\n",
    "    raise Exception(\"Number is below zero\")"
   ]
  },
  {
   "cell_type": "markdown",
   "id": "779a6af4-31e1-495b-b6b2-b405fd8f8f17",
   "metadata": {},
   "source": [
    "#### Q5. What are Custom Exceptions in python? Why do we need Custom Exceptions? Explain with an example."
   ]
  },
  {
   "cell_type": "markdown",
   "id": "ee0b0850-c4fb-403b-ba2a-f3747c6676b1",
   "metadata": {},
   "source": [
    "##### Like standard exception classes, custom exceptions are also classes. Hence, you can add functionality to the custom exception classes like: Adding attributes and properties etc.\n",
    "##### Having custom exceptions can make our code much more readable and robust, and reduce the amount of code we write later to try and figure out what exactly went wrong."
   ]
  },
  {
   "cell_type": "code",
   "execution_count": 22,
   "id": "2101e9bf-9d2d-4706-a7d8-27015ee46c10",
   "metadata": {},
   "outputs": [],
   "source": [
    "class iseven(Exception):\n",
    "    def __init__(self,msg):\n",
    "        self.msg=msg\n",
    "        \n",
    "def even(n):\n",
    "    if n%2!=0:\n",
    "        raise iseven(\"the number is odd\")\n",
    "    else:\n",
    "        print(\"the number is even\")"
   ]
  },
  {
   "cell_type": "code",
   "execution_count": 23,
   "id": "baa4cb24-c618-4d2d-829f-d0abb62e30c6",
   "metadata": {},
   "outputs": [
    {
     "name": "stdin",
     "output_type": "stream",
     "text": [
      "enter your number 404\n"
     ]
    },
    {
     "name": "stdout",
     "output_type": "stream",
     "text": [
      "the number is even\n"
     ]
    }
   ],
   "source": [
    "try:\n",
    "    n=int(input(\"enter your number\"))\n",
    "    even(n)\n",
    "except iseven as e:\n",
    "    print(e)"
   ]
  },
  {
   "cell_type": "markdown",
   "id": "3cff8f46-4970-4477-a476-49b94f1a6b0a",
   "metadata": {},
   "source": [
    "#### Q6. Create a custom exception class. Use this class to handle an exception."
   ]
  },
  {
   "cell_type": "code",
   "execution_count": 20,
   "id": "cd7a6fa4-eed8-4e3a-a866-676e708b0349",
   "metadata": {},
   "outputs": [],
   "source": [
    "class prime(Exception):\n",
    "    def __init__(self,n):\n",
    "        self.n=n\n",
    "def is_prime(n):\n",
    "    if n<2:\n",
    "        raise prime(\" the number is not a prime number\")\n",
    "    for i in range(2,int(n**0.5)+1):\n",
    "        if n%i==0:\n",
    "            raise prime(\" the number is not a prime number\")\n",
    "    raise prime(\"the number is a prime number\")"
   ]
  },
  {
   "cell_type": "code",
   "execution_count": 21,
   "id": "5d037c6f-d2d4-4efd-b203-b5feb0b122c2",
   "metadata": {},
   "outputs": [
    {
     "name": "stdin",
     "output_type": "stream",
     "text": [
      "enter your number 7\n"
     ]
    },
    {
     "name": "stdout",
     "output_type": "stream",
     "text": [
      "the number is a prime number\n"
     ]
    }
   ],
   "source": [
    "try:\n",
    "    n=int(input(\"enter your number\"))\n",
    "    is_prime(n)\n",
    "except prime as e:\n",
    "    print(e)"
   ]
  }
 ],
 "metadata": {
  "kernelspec": {
   "display_name": "Python 3 (ipykernel)",
   "language": "python",
   "name": "python3"
  },
  "language_info": {
   "codemirror_mode": {
    "name": "ipython",
    "version": 3
   },
   "file_extension": ".py",
   "mimetype": "text/x-python",
   "name": "python",
   "nbconvert_exporter": "python",
   "pygments_lexer": "ipython3",
   "version": "3.10.8"
  }
 },
 "nbformat": 4,
 "nbformat_minor": 5
}
