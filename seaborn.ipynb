{
 "cells": [
  {
   "cell_type": "markdown",
   "id": "a4ba51fe",
   "metadata": {},
   "source": [
    "# Seaborn Assignment\n",
    "\n",
    "## Que 1: Name any five plots that we can plot using the Seaborn library. Also, state the uses of each plot."
   ]
  },
  {
   "cell_type": "markdown",
   "id": "c018dbd6",
   "metadata": {},
   "source": [
    "1. **Line Plot (`lineplot`)**: Used to visualize the relationship between two continuous variables, often to show trends over time.\n",
    "2. **Box Plot (`boxplot`)**: Used to display the distribution, median, quartiles, and outliers of a dataset.\n",
    "3. **Histogram (`histplot`)**: Used to visualize the distribution of a single variable by dividing the data into bins.\n",
    "4. **Pair Plot (`pairplot`)**: Used to visualize pairwise relationships in a dataset, showing scatter plots for each pair of variables.\n",
    "5. **Heatmap (`heatmap`)**: Used to visualize matrix-like data, showing values as colors for easy pattern recognition."
   ]
  },
  {
   "cell_type": "markdown",
   "id": "0ac2e6f8",
   "metadata": {},
   "source": [
    "## Que 2: Load the \"fmri\" dataset using the load_dataset function of seaborn. Plot a line plot using x = \"timepoint\" and y = \"signal\" for different events and regions."
   ]
  },
  {
   "cell_type": "code",
   "execution_count": null,
   "id": "a4be16d8",
   "metadata": {},
   "outputs": [],
   "source": [
    "import seaborn as sns\n",
    "import matplotlib.pyplot as plt\n",
    "\n",
    "fmri = sns.load_dataset('fmri')\n",
    "plt.figure(figsize=(10,6))\n",
    "sns.lineplot(data=fmri, x='timepoint', y='signal', hue='event', style='region')\n",
    "plt.title('FMRI Signal Over Time by Event and Region')\n",
    "plt.xlabel('Timepoint')\n",
    "plt.ylabel('Signal')\n",
    "plt.show()"
   ]
  },
  {
   "cell_type": "markdown",
   "id": "c9d16dd5",
   "metadata": {},
   "source": [
    "## Que 3: Load the \"titanic\" dataset using the load_dataset function of seaborn. Plot two box plots using x = 'pclass', y = 'age' and y = 'fare'."
   ]
  },
  {
   "cell_type": "code",
   "execution_count": null,
   "id": "3217f5e3",
   "metadata": {},
   "outputs": [],
   "source": [
    "import seaborn as sns\n",
    "import matplotlib.pyplot as plt\n",
    "\n",
    "titanic = sns.load_dataset('titanic')\n",
    "plt.figure(figsize=(12,5))\n",
    "plt.subplot(1,2,1)\n",
    "sns.boxplot(x='pclass', y='age', data=titanic)\n",
    "plt.title('Age by Passenger Class')\n",
    "plt.subplot(1,2,2)\n",
    "sns.boxplot(x='pclass', y='fare', data=titanic)\n",
    "plt.title('Fare by Passenger Class')\n",
    "plt.tight_layout()\n",
    "plt.show()"
   ]
  },
  {
   "cell_type": "markdown",
   "id": "58a4172e",
   "metadata": {},
   "source": [
    "## Que 4: Use the \"diamonds\" dataset from seaborn to plot a histogram for the 'price' column. Use the hue parameter for the 'cut' column of the diamonds dataset."
   ]
  },
  {
   "cell_type": "code",
   "execution_count": null,
   "id": "ecaf4885",
   "metadata": {},
   "outputs": [],
   "source": [
    "import seaborn as sns\n",
    "import matplotlib.pyplot as plt\n",
    "\n",
    "diamonds = sns.load_dataset('diamonds')\n",
    "plt.figure(figsize=(8,5))\n",
    "sns.histplot(data=diamonds, x='price', hue='cut', multiple='stack')\n",
    "plt.title('Histogram of Diamond Prices by Cut')\n",
    "plt.xlabel('Price')\n",
    "plt.ylabel('Count')\n",
    "plt.show()"
   ]
  },
  {
   "cell_type": "markdown",
   "id": "362b9e8b",
   "metadata": {},
   "source": [
    "## Que 5: Use the \"iris\" dataset from seaborn to plot a pair plot. Use the hue parameter for the \"species\" column of the iris dataset."
   ]
  },
  {
   "cell_type": "code",
   "execution_count": null,
   "id": "6a6dc453",
   "metadata": {},
   "outputs": [],
   "source": [
    "import seaborn as sns\n",
    "iris = sns.load_dataset('iris')\n",
    "sns.pairplot(iris, hue='species')\n",
    "plt.suptitle('Pair Plot of Iris Dataset', y=1.02)\n",
    "plt.show()"
   ]
  },
  {
   "cell_type": "markdown",
   "id": "3386854d",
   "metadata": {},
   "source": [
    "## Que 6: Use the \"flights\" dataset from seaborn to plot a heatmap."
   ]
  },
  {
   "cell_type": "code",
   "execution_count": null,
   "id": "c854b773",
   "metadata": {},
   "outputs": [],
   "source": [
    "import seaborn as sns\n",
    "import matplotlib.pyplot as plt\n",
    "\n",
    "flights = sns.load_dataset('flights')\n",
    "flights_pivot = flights.pivot('month', 'year', 'passengers')\n",
    "plt.figure(figsize=(12,6))\n",
    "sns.heatmap(flights_pivot, annot=True, fmt='d', cmap='YlGnBu')\n",
    "plt.title('Flights Heatmap: Passengers per Month and Year')\n",
    "plt.show()"
   ]
  }
 ],
 "metadata": {
  "language_info": {
   "name": "python"
  }
 },
 "nbformat": 4,
 "nbformat_minor": 5
}
