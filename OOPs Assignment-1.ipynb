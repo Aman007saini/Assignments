{
 "cells": [
  {
   "cell_type": "markdown",
   "id": "bd3cc7f3-6611-4993-80e6-8cf112181324",
   "metadata": {},
   "source": [
    "#### Q1. Explain Class and Object with respect to Object-Oriented Programming. Give a suitable example."
   ]
  },
  {
   "cell_type": "code",
   "execution_count": 23,
   "id": "fb10f8ae-771c-4d9f-84f1-0d79a8542656",
   "metadata": {},
   "outputs": [],
   "source": [
    "# Class- it is a user-defined blueprint from which objects are created .\n",
    "#  Object- it is instance of the class."
   ]
  },
  {
   "cell_type": "markdown",
   "id": "c3c10a70-14c9-41c8-b73a-bc47e167a38f",
   "metadata": {},
   "source": [
    "#### Q2. Name the four pillars of OOPs."
   ]
  },
  {
   "cell_type": "markdown",
   "id": "df116498-6410-407b-a7cc-d61a4c09e139",
   "metadata": {},
   "source": [
    "The four pillars of oops is Encapsulation,Inheritance,Abstraction and Polymorphism."
   ]
  },
  {
   "cell_type": "markdown",
   "id": "4603cce8-bb92-46b1-bf51-453320849768",
   "metadata": {},
   "source": [
    "#### Q3. Explain why the __init__() function is used. Give a suitable example."
   ]
  },
  {
   "cell_type": "markdown",
   "id": "9644ed1f-0d9d-4d3e-b657-c1a58a8c9d1d",
   "metadata": {},
   "source": [
    "The method is useful to do any initialization we want to do with our object."
   ]
  },
  {
   "cell_type": "markdown",
   "id": "aaf5e91d-72d9-4ab1-846d-fb05fd493360",
   "metadata": {},
   "source": [
    "#### Q4. Why self is used in OOPs?"
   ]
  },
  {
   "cell_type": "markdown",
   "id": "a17218f7-46aa-43c8-ac24-39e0c0af79fb",
   "metadata": {},
   "source": [
    "It allow us to access variable ,attributes and methods of a defined class."
   ]
  },
  {
   "cell_type": "markdown",
   "id": "8faaf493-df7a-4849-a9c4-391b5a4d2640",
   "metadata": {},
   "source": [
    "#### Q5. What is inheritance? Give an example for each type of inheritance."
   ]
  },
  {
   "cell_type": "code",
   "execution_count": 1,
   "id": "a9f72dca-5a08-45b1-a67a-8e5bdc79f0d2",
   "metadata": {},
   "outputs": [],
   "source": [
    "# It is the process by which one child class inherit the property of one or more base class or subclass.\n",
    "#their are 5 type of inheritance in python which were following:"
   ]
  },
  {
   "cell_type": "code",
   "execution_count": 3,
   "id": "6fe0aaa2-6160-49ff-b689-053197e481f3",
   "metadata": {},
   "outputs": [],
   "source": [
    "# 1. Single inheritance- when one class inherit the property of a base class.\n",
    "\n",
    "class A:\n",
    "    def a(self):\n",
    "        return \"this is class A\"\n",
    "\n",
    "class B(A):\n",
    "    def b(self):\n",
    "        return \"this is class B\"\n",
    "    "
   ]
  },
  {
   "cell_type": "code",
   "execution_count": 4,
   "id": "e7ac924d-2ca2-4afd-a609-0fc1972afbca",
   "metadata": {},
   "outputs": [],
   "source": [
    "s=B()"
   ]
  },
  {
   "cell_type": "code",
   "execution_count": 8,
   "id": "686fd9b2-29eb-45a4-8119-e90f20cfa9d2",
   "metadata": {},
   "outputs": [
    {
     "data": {
      "text/plain": [
       "'this is class B'"
      ]
     },
     "execution_count": 8,
     "metadata": {},
     "output_type": "execute_result"
    }
   ],
   "source": [
    "s.b()"
   ]
  },
  {
   "cell_type": "code",
   "execution_count": 9,
   "id": "d20470eb-b498-4287-a583-0e6b15ea4122",
   "metadata": {},
   "outputs": [
    {
     "data": {
      "text/plain": [
       "'this is class A'"
      ]
     },
     "execution_count": 9,
     "metadata": {},
     "output_type": "execute_result"
    }
   ],
   "source": [
    "s.a()"
   ]
  },
  {
   "cell_type": "code",
   "execution_count": 13,
   "id": "91905601-dcce-4a72-9889-2ab6bf48ad97",
   "metadata": {},
   "outputs": [],
   "source": [
    "# multiple Inheritance- when one child class inherit the property of more than one base class.\n",
    "class C:\n",
    "    def c(self):\n",
    "        return \"this is my class c\"\n",
    "    \n",
    "class D:\n",
    "    def d(self):\n",
    "        return \"this is my class d\"\n",
    "\n",
    "class E(C,D):\n",
    "    def e(self):\n",
    "        return \"this is my class e\"\n",
    "        "
   ]
  },
  {
   "cell_type": "code",
   "execution_count": 14,
   "id": "13ac1b43-8162-40dd-918b-55e94a524794",
   "metadata": {},
   "outputs": [],
   "source": [
    "x=E()"
   ]
  },
  {
   "cell_type": "code",
   "execution_count": 15,
   "id": "617d6531-dc97-4525-9178-dc6c28c2cfb8",
   "metadata": {},
   "outputs": [
    {
     "data": {
      "text/plain": [
       "'this is my class c'"
      ]
     },
     "execution_count": 15,
     "metadata": {},
     "output_type": "execute_result"
    }
   ],
   "source": [
    "x.c()"
   ]
  },
  {
   "cell_type": "code",
   "execution_count": 16,
   "id": "69b99ed1-940d-4117-a763-62eec958a63c",
   "metadata": {},
   "outputs": [
    {
     "data": {
      "text/plain": [
       "'this is my class d'"
      ]
     },
     "execution_count": 16,
     "metadata": {},
     "output_type": "execute_result"
    }
   ],
   "source": [
    "x.d()"
   ]
  },
  {
   "cell_type": "code",
   "execution_count": 17,
   "id": "2fe83766-0206-4193-a898-d86cf78cc42b",
   "metadata": {},
   "outputs": [
    {
     "data": {
      "text/plain": [
       "'this is my class e'"
      ]
     },
     "execution_count": 17,
     "metadata": {},
     "output_type": "execute_result"
    }
   ],
   "source": [
    "x.e()"
   ]
  },
  {
   "cell_type": "code",
   "execution_count": 20,
   "id": "6238a077-9bef-44f4-a298-53f3af9483c8",
   "metadata": {},
   "outputs": [],
   "source": [
    "# multilevel inheritance-when child class inherit the property of a class that also inherit the property of other class.\n",
    "class AB:\n",
    "    def ab(self):\n",
    "        return\"this is my ab class\"\n",
    "class BC(AB):\n",
    "    def bc(self):\n",
    "        return \"this is my bc class\"\n",
    "class CD(BC):\n",
    "    def cd(self):\n",
    "        return \"this is my cd class\"\n",
    "    "
   ]
  },
  {
   "cell_type": "code",
   "execution_count": 21,
   "id": "6cb42a0c-ed87-46e0-9af9-88fe20e5c1b4",
   "metadata": {},
   "outputs": [],
   "source": [
    "test=CD()"
   ]
  },
  {
   "cell_type": "code",
   "execution_count": 22,
   "id": "cb73b584-6bea-44c5-ab68-68c272328cfa",
   "metadata": {},
   "outputs": [
    {
     "data": {
      "text/plain": [
       "'this is my ab class'"
      ]
     },
     "execution_count": 22,
     "metadata": {},
     "output_type": "execute_result"
    }
   ],
   "source": [
    "test.ab()"
   ]
  },
  {
   "cell_type": "code",
   "execution_count": 23,
   "id": "f5964412-3b99-4e7e-8844-f76c67ce12d3",
   "metadata": {},
   "outputs": [
    {
     "data": {
      "text/plain": [
       "'this is my bc class'"
      ]
     },
     "execution_count": 23,
     "metadata": {},
     "output_type": "execute_result"
    }
   ],
   "source": [
    "test.bc()"
   ]
  },
  {
   "cell_type": "code",
   "execution_count": 24,
   "id": "66fb55cd-5097-46a5-8ac8-c56fe35fa8ff",
   "metadata": {},
   "outputs": [
    {
     "data": {
      "text/plain": [
       "'this is my cd class'"
      ]
     },
     "execution_count": 24,
     "metadata": {},
     "output_type": "execute_result"
    }
   ],
   "source": [
    "test.cd()"
   ]
  },
  {
   "cell_type": "code",
   "execution_count": 2,
   "id": "d0133fd3-9ec8-4cb9-bc0c-210312dd818b",
   "metadata": {},
   "outputs": [],
   "source": [
    "# Hierarchical inheritance-When more than one derived class are\n",
    "#created from a single base this type of inheritance is called hierarchical inheritance.\n",
    "class clsA:\n",
    "    def a (self):\n",
    "        return \"this is my class clsA\"\n",
    "\n",
    "class clsB(clsA):\n",
    "    def b (self):\n",
    "        return \"this is my class clsB\"\n",
    "    \n",
    "class clsC(clsA):\n",
    "    def c (self):\n",
    "        return \"this is my class clsC\"\n",
    "    "
   ]
  },
  {
   "cell_type": "code",
   "execution_count": 3,
   "id": "3c81fcca-6e10-41e9-a18f-5be493e86397",
   "metadata": {},
   "outputs": [],
   "source": [
    "x=clsB()"
   ]
  },
  {
   "cell_type": "code",
   "execution_count": 4,
   "id": "70016a9c-0242-4d0a-8ffd-4534ad20b5f8",
   "metadata": {},
   "outputs": [
    {
     "data": {
      "text/plain": [
       "'this is my class clsA'"
      ]
     },
     "execution_count": 4,
     "metadata": {},
     "output_type": "execute_result"
    }
   ],
   "source": [
    "x.a()"
   ]
  },
  {
   "cell_type": "code",
   "execution_count": 6,
   "id": "9e9a0696-95c0-4116-b255-c723a8f81bd4",
   "metadata": {},
   "outputs": [
    {
     "data": {
      "text/plain": [
       "'this is my class clsB'"
      ]
     },
     "execution_count": 6,
     "metadata": {},
     "output_type": "execute_result"
    }
   ],
   "source": [
    "x.b()"
   ]
  },
  {
   "cell_type": "code",
   "execution_count": 7,
   "id": "9323d5e1-6611-42e1-a3df-9adab64ce284",
   "metadata": {},
   "outputs": [],
   "source": [
    "y=clsC()"
   ]
  },
  {
   "cell_type": "code",
   "execution_count": 8,
   "id": "ad8b22bd-41be-40e1-b7a6-e8aae0dd8bf6",
   "metadata": {},
   "outputs": [
    {
     "data": {
      "text/plain": [
       "'this is my class clsA'"
      ]
     },
     "execution_count": 8,
     "metadata": {},
     "output_type": "execute_result"
    }
   ],
   "source": [
    "y.a()"
   ]
  },
  {
   "cell_type": "code",
   "execution_count": 9,
   "id": "dc0fb08b-4c5d-43f7-89ae-74c1fa1e6b4e",
   "metadata": {},
   "outputs": [
    {
     "data": {
      "text/plain": [
       "'this is my class clsC'"
      ]
     },
     "execution_count": 9,
     "metadata": {},
     "output_type": "execute_result"
    }
   ],
   "source": [
    "y.c()"
   ]
  },
  {
   "cell_type": "code",
   "execution_count": 15,
   "id": "10ae7850-2b1f-4200-bd3f-0492ae7a80a0",
   "metadata": {},
   "outputs": [],
   "source": [
    "# Hybrid inheritance- Inheritance consisting multiple type of inheritance.\n",
    "class abc:\n",
    "    def A(self):\n",
    "        return \"this is class abc\"\n",
    "    \n",
    "class edf :\n",
    "    def B(self):\n",
    "        return \"this is class edf\"\n",
    "    \n",
    "class ghi(abc,edf):\n",
    "    def C(self):\n",
    "        return \"this is class ghi\"\n",
    "\n",
    "class jkl(abc):\n",
    "    def D(self):\n",
    "        return \"this is class jkl\"\n",
    "    \n",
    "class mno (jkl):\n",
    "    def E(self):\n",
    "        return \"this is class mno\"\n",
    "    \n",
    "class pqr(jkl):\n",
    "    def F (self):\n",
    "        return \"this is class pqr\""
   ]
  },
  {
   "cell_type": "code",
   "execution_count": 16,
   "id": "75382b95-bb16-4713-a515-0ea76512bfe1",
   "metadata": {},
   "outputs": [],
   "source": [
    "J=jkl()"
   ]
  },
  {
   "cell_type": "code",
   "execution_count": 17,
   "id": "50900720-5397-47af-87cf-4e1533c82086",
   "metadata": {},
   "outputs": [
    {
     "data": {
      "text/plain": [
       "'this is class abc'"
      ]
     },
     "execution_count": 17,
     "metadata": {},
     "output_type": "execute_result"
    }
   ],
   "source": [
    "J.A()"
   ]
  },
  {
   "cell_type": "code",
   "execution_count": 18,
   "id": "0ffa9f68-c308-4c3c-8f8b-dbb3b6410c48",
   "metadata": {},
   "outputs": [
    {
     "data": {
      "text/plain": [
       "'this is class jkl'"
      ]
     },
     "execution_count": 18,
     "metadata": {},
     "output_type": "execute_result"
    }
   ],
   "source": [
    "J.D()"
   ]
  },
  {
   "cell_type": "code",
   "execution_count": 19,
   "id": "25fc3898-c05e-4cad-98b1-3d6096b12a94",
   "metadata": {},
   "outputs": [],
   "source": [
    "K=pqr()"
   ]
  },
  {
   "cell_type": "code",
   "execution_count": 20,
   "id": "4e999272-a032-4778-95ee-e0490999e93c",
   "metadata": {},
   "outputs": [
    {
     "data": {
      "text/plain": [
       "'this is class abc'"
      ]
     },
     "execution_count": 20,
     "metadata": {},
     "output_type": "execute_result"
    }
   ],
   "source": [
    "K.A()"
   ]
  },
  {
   "cell_type": "code",
   "execution_count": 21,
   "id": "edf9cca3-876d-49f2-814f-d73f64eb83f5",
   "metadata": {},
   "outputs": [
    {
     "data": {
      "text/plain": [
       "'this is class pqr'"
      ]
     },
     "execution_count": 21,
     "metadata": {},
     "output_type": "execute_result"
    }
   ],
   "source": [
    "K.F()"
   ]
  },
  {
   "cell_type": "code",
   "execution_count": 22,
   "id": "0a1196d2-2c4d-42d5-9d73-7cc52ffbd4e0",
   "metadata": {},
   "outputs": [
    {
     "data": {
      "text/plain": [
       "'this is class jkl'"
      ]
     },
     "execution_count": 22,
     "metadata": {},
     "output_type": "execute_result"
    }
   ],
   "source": [
    "K.D()"
   ]
  }
 ],
 "metadata": {
  "kernelspec": {
   "display_name": "Python 3 (ipykernel)",
   "language": "python",
   "name": "python3"
  },
  "language_info": {
   "codemirror_mode": {
    "name": "ipython",
    "version": 3
   },
   "file_extension": ".py",
   "mimetype": "text/x-python",
   "name": "python",
   "nbconvert_exporter": "python",
   "pygments_lexer": "ipython3",
   "version": "3.10.8"
  }
 },
 "nbformat": 4,
 "nbformat_minor": 5
}
