{
 "cells": [
  {
   "cell_type": "markdown",
   "id": "a4102abc",
   "metadata": {},
   "source": [
    "# Feature Engineering - 4"
   ]
  },
  {
   "cell_type": "markdown",
   "id": "25011c90",
   "metadata": {},
   "source": [
    "## Q1. What is data encoding? How is it useful in data science?"
   ]
  },
  {
   "cell_type": "markdown",
   "id": "f8a6e803",
   "metadata": {},
   "source": [
    "**Answer:**\n",
    "\n",
    "Data encoding is the process of converting categorical data into a numerical format so that it can be used by machine learning algorithms. It is essential because most algorithms require numerical input."
   ]
  },
  {
   "cell_type": "markdown",
   "id": "e55f0917",
   "metadata": {},
   "source": [
    "## Q2. What is nominal encoding? Provide an example of how you would use it in a real-world scenario."
   ]
  },
  {
   "cell_type": "markdown",
   "id": "bc28bfba",
   "metadata": {},
   "source": [
    "**Answer:**\n",
    "\n",
    "Nominal encoding assigns a unique integer to each category in a categorical feature. Example: For a color feature with values [red, blue, green], nominal encoding could assign red=0, blue=1, green=2."
   ]
  },
  {
   "cell_type": "markdown",
   "id": "169328f8",
   "metadata": {},
   "source": [
    "## Q3. In what situations is nominal encoding preferred over one-hot encoding? Provide a practical example."
   ]
  },
  {
   "cell_type": "markdown",
   "id": "f652bc05",
   "metadata": {},
   "source": [
    "**Answer:**\n",
    "\n",
    "Nominal encoding is preferred when there are many unique categories, and one-hot encoding would create too many columns. Example: Encoding zip codes or product IDs."
   ]
  },
  {
   "cell_type": "markdown",
   "id": "ab106b1d",
   "metadata": {},
   "source": [
    "## Q4. Suppose you have a dataset containing categorical data with 5 unique values. Which encoding technique would you use to transform this data into a format suitable for machine learning algorithms? Explain why you made this choice."
   ]
  },
  {
   "cell_type": "markdown",
   "id": "e923a382",
   "metadata": {},
   "source": [
    "**Answer:**\n",
    "\n",
    "If the categories are nominal (no order), one-hot encoding is usually preferred for small numbers of categories (like 5) to avoid introducing ordinal relationships. For large numbers, nominal encoding may be used."
   ]
  },
  {
   "cell_type": "markdown",
   "id": "fee0a187",
   "metadata": {},
   "source": [
    "## Q5. In a machine learning project, you have a dataset with 1000 rows and 5 columns. Two of the columns are categorical, and the remaining three columns are numerical. If you were to use nominal encoding to transform the categorical data, how many new columns would be created? Show your calculations."
   ]
  },
  {
   "cell_type": "markdown",
   "id": "3334cc9b",
   "metadata": {},
   "source": [
    "**Answer:**\n",
    "\n",
    "Nominal encoding replaces each categorical column with a single integer column. So, two categorical columns would still result in two columns (no new columns are created, just transformed)."
   ]
  },
  {
   "cell_type": "markdown",
   "id": "8831af1d",
   "metadata": {},
   "source": [
    "## Q6. You are working with a dataset containing information about different types of animals, including their species, habitat, and diet. Which encoding technique would you use to transform the categorical data into a format suitable for machine learning algorithms? Justify your answer."
   ]
  },
  {
   "cell_type": "markdown",
   "id": "711b1af2",
   "metadata": {},
   "source": [
    "**Answer:**\n",
    "\n",
    "If the number of unique values is small, one-hot encoding is preferred to avoid introducing ordinal relationships. If there are many unique values (e.g., many species), nominal encoding or target encoding may be used."
   ]
  },
  {
   "cell_type": "markdown",
   "id": "594af713",
   "metadata": {},
   "source": [
    "## Q7. You are working on a project that involves predicting customer churn for a telecommunications company. You have a dataset with 5 features, including the customer's gender, age, contract type, monthly charges, and tenure. Which encoding technique(s) would you use to transform the categorical data into numerical data? Provide a step-by-step explanation of how you would implement the encoding."
   ]
  },
  {
   "cell_type": "markdown",
   "id": "0ec12e11",
   "metadata": {},
   "source": [
    "**Answer:**\n",
    "\n",
    "- Identify categorical features: gender, contract type\n",
    "- For gender (few categories): use one-hot encoding (e.g., Male, Female → [1,0] or [0,1])\n",
    "- For contract type (few categories): use one-hot encoding\n",
    "- Age, monthly charges, and tenure are already numerical\n",
    "- Use pandas' `get_dummies()` or scikit-learn's `OneHotEncoder` to implement the encoding"
   ]
  }
 ],
 "metadata": {
  "language_info": {
   "name": "python"
  }
 },
 "nbformat": 4,
 "nbformat_minor": 5
}
