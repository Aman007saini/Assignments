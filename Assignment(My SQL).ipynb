{
 "cells": [
  {
   "cell_type": "markdown",
   "id": "cc53faa6-a3e0-419b-8f68-7bf9b5410dd5",
   "metadata": {},
   "source": [
    "### Q1. What is a database? Differentiate between SQL and NoSQL databases."
   ]
  },
  {
   "cell_type": "markdown",
   "id": "b964776a-1564-49a4-9f59-51207437b665",
   "metadata": {},
   "source": [
    "#### A database is an organized collection of data, so that it can be easily accessed and managed.\n",
    "#### SQL-\n",
    "##### These databases have fixed or static or predefined schema\n",
    "##### These databases are not suited for hierarchical data storage.\n",
    "##### These databases are best suited for complex queries\n",
    "##### Vertically Scalable\n",
    "##### Follows ACID property\n",
    "##### Examples: MySQL, PostgreSQL, Oracle, MS-SQL Server, etc\n",
    "\n",
    "#### NoSQL-\n",
    "##### They have a dynamic schema\n",
    "##### These databases are best suited for hierarchical data storage.\n",
    "##### These databases are not so good for complex queries\n",
    "##### Horizontally scalable\n",
    "##### Follows CAP(consistency, availability, partition tolerance)\n",
    "##### Examples: MongoDB, GraphQL, HBase, Neo4j, Cassandra, etc"
   ]
  },
  {
   "cell_type": "markdown",
   "id": "dad70bab-79ce-44e2-a919-9399c83b11cd",
   "metadata": {},
   "source": [
    "### 2. What is DDL? Explain why CREATE, DROP, ALTER, and TRUNCATE are used with an example."
   ]
  },
  {
   "cell_type": "markdown",
   "id": "5544d70b-e4ef-44fa-bd04-1e3e91977f48",
   "metadata": {},
   "source": [
    "#### A data definition language (DDL) is a computer language used to create and modify the structure of database objects in a database. These database objects include views, schemas, tables, indexes, etc.\n",
    "#### CREATE-\n",
    "##### CREATE is a DDL command used to create databases, tables, triggers and other database objects."
   ]
  },
  {
   "cell_type": "code",
   "execution_count": null,
   "id": "d75dab30-c2ba-4191-b487-fe675b422af0",
   "metadata": {},
   "outputs": [],
   "source": [
    "import mysql.connector\n",
    "# import mysql.connector\n",
    "#create user 'user'@'%' identified by 'password'\n",
    "mydb = mysql.connector.connect(\n",
    "  host=\"localhost\",\n",
    "  user=\"abc\",\n",
    "  password=\"password\"\n",
    ")\n",
    "cursor= mydb.cursor()\n",
    "\n",
    "#creating a database\n",
    "cursor.execute(\"CREATE DATABASE IF NOT EXISTS ds_blogs\")\n",
    "\n",
    "cursor.execute(\"CREATE TABLE IF NOT EXISTS posts\")\n",
    "\n",
    "cursor.execute('''\n",
    "    INSERT INTO posts (post_id, author_id, post_first_published_on, num_likes, num_dislikes, num_comments)\n",
    "    VALUES\n",
    "        (1, 1, '2023-06-01', 10, 2, 5),\n",
    "        (2, 2, '2023-06-02', 8, 1, 3),\n",
    "        (3, 3, '2023-06-03', 12, 0, 7)''')\n"
   ]
  },
  {
   "cell_type": "markdown",
   "id": "fe600ae5-bb5d-4200-a21f-dcb32f9e4f93",
   "metadata": {},
   "source": [
    "#### DROP-\n",
    "##### The DROP DATABASE command is used is to delete an existing SQL database.\n",
    "#### ALTER-\n",
    "##### The ALTER command in SQL is used to make changes to a table, view, or the entire database."
   ]
  },
  {
   "cell_type": "code",
   "execution_count": null,
   "id": "d5367ecd-9838-44d7-980f-b5175eaa1f0a",
   "metadata": {},
   "outputs": [],
   "source": [
    "ALTER TABLE posts\n",
    "DROP COLUMN num_likes ;"
   ]
  },
  {
   "cell_type": "markdown",
   "id": "db96af23-e8eb-4723-b1d4-997b0255dcef",
   "metadata": {},
   "source": [
    "#### TRUNCATE-\n",
    "##### The truncate query is used to remove the record from the tables. But, in some situations, the truncate query cannot change data records."
   ]
  },
  {
   "cell_type": "code",
   "execution_count": null,
   "id": "52b4c41c-ee6c-4eac-b525-e822dcd03c31",
   "metadata": {},
   "outputs": [],
   "source": [
    "truncate table customer_data ;"
   ]
  },
  {
   "cell_type": "markdown",
   "id": "c5bf4fbf-dbd3-47c8-ba7f-b5b9cbde9236",
   "metadata": {},
   "source": [
    "### Q3. What is DML? Explain INSERT, UPDATE, and DELETE with an example."
   ]
  },
  {
   "cell_type": "markdown",
   "id": "14281da3-2d70-44c0-85c7-d122e7ac0a7d",
   "metadata": {},
   "source": [
    "#### A DML (data manipulation language) refers to a computer programming language that allows you to add (insert), delete (delete), and alter (update) data in a database.\n",
    "#### INSERT-\n",
    "##### The SQL INSERT INTO Statement is used to add new rows of data to a table in the database."
   ]
  },
  {
   "cell_type": "code",
   "execution_count": null,
   "id": "bb09732b-fe9a-40f3-b2d8-ffa839c668b2",
   "metadata": {},
   "outputs": [],
   "source": [
    "INSERT INTO TABLE_NAME (column1, column2, column3,...columnN)  \n",
    "VALUES (value1, value2, value3,...valueN)"
   ]
  },
  {
   "cell_type": "markdown",
   "id": "be076386-19fc-4f68-99ef-b23dbac00a5c",
   "metadata": {},
   "source": [
    "#### UPDATE-\n",
    "##### The SQL UPDATE Query is used to modify the existing records in a table. This statement is a part of Data Manipulation Language, as it only modifies the data present in a table without affecting the table's structure."
   ]
  },
  {
   "cell_type": "code",
   "execution_count": null,
   "id": "a2418df4-c025-4b49-a320-364634d3d9bc",
   "metadata": {},
   "outputs": [],
   "source": [
    "UPDATE table_name\n",
    "SET column1 = value1, column2 = value2...., columnN = valueN\n",
    "WHERE [condition];"
   ]
  },
  {
   "cell_type": "markdown",
   "id": "82e8523f-0276-4b12-9566-e40e706589b3",
   "metadata": {},
   "source": [
    "#### DELETE-\n",
    "##### The SQL DELETE Query is used to delete the existing records from a table. DELETE statement can be used to delete multiple rows of a single table and records across multiple tables. In order to filter the records to be deleted."
   ]
  },
  {
   "cell_type": "code",
   "execution_count": null,
   "id": "ed55bc90-b091-40ed-8e73-6e26b3779a79",
   "metadata": {},
   "outputs": [],
   "source": [
    "DELETE FROM table_name\n",
    "WHERE [condition];"
   ]
  },
  {
   "cell_type": "markdown",
   "id": "0dc294e6-6b0d-47ce-b972-2480dfd1408f",
   "metadata": {},
   "source": [
    "### Q4. What is DQL? Explain SELECT with an example. "
   ]
  },
  {
   "cell_type": "markdown",
   "id": "08a01924-94d7-48e6-a66b-effee9dda866",
   "metadata": {},
   "source": [
    "#### It is a component of SQL statement that allows getting data from the database and imposing order upon it OR DQL statements are used for performing queries on the data within schema objects.\n",
    "#### Select command is used to fetch the data in a set of records from a table, view or a group of tables, views by making use of SQL joins."
   ]
  },
  {
   "cell_type": "code",
   "execution_count": null,
   "id": "e52047b8-c1bd-4b4b-a04f-852da20cee05",
   "metadata": {},
   "outputs": [],
   "source": [
    "create table ds_blogs.student(name char(30), regno number(10), branch char(20), age char(10));\n",
    "insert into student values(‘hari’,100,’CSE’, 15);\n",
    "insert into student values(‘pinky’,101,’CSE’,17);\n",
    "insert into student values(‘bob’,102,’CSE’,14);\n",
    "insert into student values(‘bhanu’,103,’CSE’,18);\n",
    "Select * from student;"
   ]
  },
  {
   "cell_type": "markdown",
   "id": "925c7a99-1a40-4bf6-9d77-eeef0e754d73",
   "metadata": {},
   "source": [
    "### Q5. Explain Primary Key and Foreign Key."
   ]
  },
  {
   "cell_type": "markdown",
   "id": "7ef4352f-bdba-46dd-9313-aa0f3cb0035c",
   "metadata": {},
   "source": [
    "#### Primary key is an attribute which uniquely identify the rows in the data, it can't be duplicate i.e it is unique and it can't be none.\n",
    "#### A foreign key is a column or group of columns in a relational database table that provides a link between data in two tables. It is a column (or columns) that references a column (most often the primary key) of another table."
   ]
  },
  {
   "cell_type": "markdown",
   "id": "98ced41c-8535-47fd-ba77-58f4408debe9",
   "metadata": {},
   "source": [
    "### Q6. Write a python code to connect MySQL to python. Explain the cursor() and execute() method."
   ]
  },
  {
   "cell_type": "markdown",
   "id": "c1b6fa6f-7365-4ac6-ba32-67f344f80b36",
   "metadata": {},
   "source": [
    "#### Cursor is a Temporary Work Station. It is Allocated by Database Server at the Time of Performing DML(Data Manipulation Language) operations on the Table by the User.\n",
    "#### EXECUTE command in standard SQL is used to execute stored procedures and query strings in database servers"
   ]
  },
  {
   "cell_type": "code",
   "execution_count": null,
   "id": "f1fe4be3-9291-49a7-be7d-6ebf8242b2bd",
   "metadata": {},
   "outputs": [],
   "source": [
    "import mysql.connector\n",
    "# import mysql.connector\n",
    "#create user 'user'@'%' identified by 'password'\n",
    "mydb = mysql.connector.connect(\n",
    "  host=\"localhost\",\n",
    "  user=\"abc\",\n",
    "  password=\"password\"\n",
    ")\n",
    "cursor= mydb.cursor()"
   ]
  },
  {
   "cell_type": "markdown",
   "id": "bd278b79-2880-457b-acac-38800be22381",
   "metadata": {},
   "source": [
    "### Q7. Give the order of execution of SQL clauses in an SQL query."
   ]
  },
  {
   "cell_type": "markdown",
   "id": "cebf2e03-6d5d-4e39-8fae-990ddfdbf29c",
   "metadata": {},
   "source": [
    "#### 1. FROM and JOINs \n",
    "#### 2. WHERE\n",
    "#### 3. GROUP BY\n",
    "#### 4. HAVING\n",
    "#### 5. SELECT\n",
    "#### 6. DISTINCT\n",
    "#### 7. ORDER BY\n",
    "#### 8. LIMIT / OFFSET\n",
    "\n",
    "##### READ about all of them"
   ]
  },
  {
   "cell_type": "code",
   "execution_count": null,
   "id": "3734cc11-8eed-498f-9d70-02c8c138b6cd",
   "metadata": {},
   "outputs": [],
   "source": []
  }
 ],
 "metadata": {
  "kernelspec": {
   "display_name": "Python 3 (ipykernel)",
   "language": "python",
   "name": "python3"
  },
  "language_info": {
   "codemirror_mode": {
    "name": "ipython",
    "version": 3
   },
   "file_extension": ".py",
   "mimetype": "text/x-python",
   "name": "python",
   "nbconvert_exporter": "python",
   "pygments_lexer": "ipython3",
   "version": "3.10.8"
  }
 },
 "nbformat": 4,
 "nbformat_minor": 5
}
