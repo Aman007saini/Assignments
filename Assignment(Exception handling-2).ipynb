{
 "cells": [
  {
   "cell_type": "markdown",
   "id": "0b0729b6-96ac-45e5-ba6b-d6dec4f59cf1",
   "metadata": {},
   "source": [
    "#### Q1. Explain why we have to use the Exception class while creating a Custom Exception.\n",
    "Note: Here Exception class refers to the base class for all the exceptions."
   ]
  },
  {
   "cell_type": "markdown",
   "id": "1bb01309-451f-4957-94af-34c79b93b955",
   "metadata": {},
   "source": [
    "##### Built-in exception class offers information about Python related problem and custom exception class will add information about project related problems. That's why, we can design our code in a way that combine Python code with the language of the project."
   ]
  },
  {
   "cell_type": "markdown",
   "id": "a13b081f-ce48-4ab4-9db1-53ee7aa8cd66",
   "metadata": {},
   "source": [
    "#### Q2. Write a python program to print Python Exception Hierarchy."
   ]
  },
  {
   "cell_type": "code",
   "execution_count": null,
   "id": "c1503cdf-0424-4b3e-beb6-a93160ebfb98",
   "metadata": {},
   "outputs": [],
   "source": [
    "import pydoc\n",
    "\n",
    "# Retrieve the exception hierarchy\n",
    "exception_hierarchy = pydoc.locate(\"builtins.BaseException\").__subclasses__()\n",
    "\n",
    "# Print the hierarchy\n",
    "def print_exception_hierarchy(exceptions, indent=0):\n",
    "    for exception in exceptions:\n",
    "        print(\" \" * indent + exception.__name__)\n",
    "        print_exception_hierarchy(exception.__subclasses__(), indent + 4)\n",
    "\n",
    "print_exception_hierarchy(exception_hierarchy)"
   ]
  },
  {
   "cell_type": "markdown",
   "id": "7b6fa040-7e9b-472d-b8ab-722e92e8f5d2",
   "metadata": {},
   "source": [
    "#### Q3. What errors are defined in the ArithmeticError class? Explain any two with an example."
   ]
  },
  {
   "cell_type": "markdown",
   "id": "4a0794b9-ff36-4d0d-8f4c-918dcb6510c9",
   "metadata": {},
   "source": [
    "#### The arithmetic error occurs when an error is encountered during numeric calculations in Python."
   ]
  },
  {
   "cell_type": "code",
   "execution_count": 16,
   "id": "0b7a95c0-07c7-48ad-bc18-69ad37c887fa",
   "metadata": {},
   "outputs": [
    {
     "name": "stdout",
     "output_type": "stream",
     "text": [
      "division by zero\n"
     ]
    }
   ],
   "source": [
    "# zero division error\n",
    "try:\n",
    "    a=10\n",
    "    a/0\n",
    "except ZeroDivisionError as e:\n",
    "    print(e)"
   ]
  },
  {
   "cell_type": "code",
   "execution_count": 20,
   "id": "21dd337b-9112-4563-9e11-89e450590c68",
   "metadata": {},
   "outputs": [
    {
     "name": "stdout",
     "output_type": "stream",
     "text": [
      "math range error\n"
     ]
    }
   ],
   "source": [
    "# overflow error.\n",
    "import math\n",
    "\n",
    "try:\n",
    "    print(math.exp(1000))\n",
    "    \n",
    "except OverflowError as e:\n",
    "    print(e)"
   ]
  },
  {
   "cell_type": "markdown",
   "id": "91d33cce-3bc3-4cd2-b95e-e53bde5f7c65",
   "metadata": {},
   "source": [
    "#### Q4. Why LookupError class is used? Explain with an example KeyError and IndexError."
   ]
  },
  {
   "cell_type": "markdown",
   "id": "bbea4bd9-0c56-4216-8588-2157aa4d451d",
   "metadata": {},
   "source": [
    "#### The LookupError exception in Python forms the base class for all exceptions that are raised when an index or a key is not found for a sequence or dictionary respectively."
   ]
  },
  {
   "cell_type": "code",
   "execution_count": 15,
   "id": "f00b083a-da03-48ab-a426-629456ee5ea7",
   "metadata": {},
   "outputs": [
    {
     "name": "stdout",
     "output_type": "stream",
     "text": [
      "key not found\n"
     ]
    }
   ],
   "source": [
    "#creating try block for key error\n",
    "try:\n",
    "    dic={1:'aman',2:'ayush',3:'mohit',4:'nikhil'}\n",
    "    dic[7]\n",
    "#creating except block for except block\n",
    "except Exception :\n",
    "     print(\"key not found\")"
   ]
  },
  {
   "cell_type": "code",
   "execution_count": 3,
   "id": "599989e5-ab0f-44f7-ab3b-258bdfed1ed9",
   "metadata": {},
   "outputs": [
    {
     "name": "stdout",
     "output_type": "stream",
     "text": [
      "list index out of range\n"
     ]
    }
   ],
   "source": [
    "#creating try block for indexerror.\n",
    "try:\n",
    "    lst=[1,2,3,4,5]\n",
    "    print(lst[6])\n",
    "# creating except block for indexerror\n",
    "except IndexError as e:\n",
    "    print(e)"
   ]
  },
  {
   "cell_type": "markdown",
   "id": "84ba873d-26fd-4c1b-b425-fc197733d522",
   "metadata": {},
   "source": [
    "#### Q5. Explain ImportError. What is ModuleNotFoundError?"
   ]
  },
  {
   "cell_type": "markdown",
   "id": "6cff1b5a-273a-4ca6-bcaf-223ff4ca3d10",
   "metadata": {},
   "source": [
    "#### ImportError\n",
    "##### When importing any module and there is any trouble in importing modules to the program then there is a chance of ImportError occurrence.\n",
    "#### ModuleNotFoundError\n",
    "##### The 'module not found' error is a syntax error that appears when the static import statement cannot find the file at the declared path."
   ]
  },
  {
   "cell_type": "markdown",
   "id": "0a86e1c9-4a29-4998-8bcc-b3c6b172b013",
   "metadata": {},
   "source": [
    "#### Q6. List down some best practices for exception handling in python."
   ]
  },
  {
   "cell_type": "markdown",
   "id": "85b79e62-7522-406f-90a0-2d8042d0393e",
   "metadata": {},
   "source": [
    "##### 1. use always a specific exception like Zerodivisionerror,Attribuiteerror,FileNotFoundError etc. Try to avoid super class(Exception Class).\n",
    "##### 2. print always a proper message\n",
    "##### 3.always try to log your error\n",
    "##### 4.always avoid to write a multiple exception handling\n",
    "##### 5.document all the error\n",
    "##### 6.cleanup all the resources"
   ]
  }
 ],
 "metadata": {
  "kernelspec": {
   "display_name": "Python 3 (ipykernel)",
   "language": "python",
   "name": "python3"
  },
  "language_info": {
   "codemirror_mode": {
    "name": "ipython",
    "version": 3
   },
   "file_extension": ".py",
   "mimetype": "text/x-python",
   "name": "python",
   "nbconvert_exporter": "python",
   "pygments_lexer": "ipython3",
   "version": "3.10.8"
  }
 },
 "nbformat": 4,
 "nbformat_minor": 5
}
